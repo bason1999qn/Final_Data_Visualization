{
 "cells": [
  {
   "cell_type": "markdown",
   "metadata": {},
   "source": [
    "# I/ Dữ liệu"
   ]
  },
  {
   "cell_type": "markdown",
   "metadata": {},
   "source": [
    "### Thông tin về dữ liệu:"
   ]
  },
  {
   "cell_type": "markdown",
   "metadata": {},
   "source": [
    "(note)"
   ]
  },
  {
   "cell_type": "markdown",
   "metadata": {},
   "source": [
    "# II/ Khám phá dữ liệu:"
   ]
  },
  {
   "cell_type": "markdown",
   "metadata": {},
   "source": [
    "### Import"
   ]
  },
  {
   "cell_type": "code",
   "execution_count": 1,
   "metadata": {},
   "outputs": [],
   "source": [
    "%matplotlib inline\n",
    "import matplotlib.pyplot as plt\n",
    "import matplotlib.colors\n",
    "import seaborn as sns\n",
    "import pandas as pd\n",
    "import numpy as np"
   ]
  },
  {
   "cell_type": "markdown",
   "metadata": {},
   "source": [
    "### Đọc dữ liệu từ file csv vào dataframe"
   ]
  },
  {
   "cell_type": "code",
   "execution_count": 2,
   "metadata": {
    "scrolled": true
   },
   "outputs": [
    {
     "data": {
      "text/html": [
       "<div>\n",
       "<style scoped>\n",
       "    .dataframe tbody tr th:only-of-type {\n",
       "        vertical-align: middle;\n",
       "    }\n",
       "\n",
       "    .dataframe tbody tr th {\n",
       "        vertical-align: top;\n",
       "    }\n",
       "\n",
       "    .dataframe thead th {\n",
       "        text-align: right;\n",
       "    }\n",
       "</style>\n",
       "<table border=\"1\" class=\"dataframe\">\n",
       "  <thead>\n",
       "    <tr style=\"text-align: right;\">\n",
       "      <th></th>\n",
       "      <th>id</th>\n",
       "      <th>scientist</th>\n",
       "      <th>Vietnamese Name</th>\n",
       "      <th>field.1</th>\n",
       "      <th>field.2</th>\n",
       "      <th>au.key</th>\n",
       "      <th>au.solo</th>\n",
       "      <th>au.coll</th>\n",
       "      <th>au.uniq</th>\n",
       "      <th>au.vn</th>\n",
       "      <th>...</th>\n",
       "      <th>age</th>\n",
       "      <th>restime</th>\n",
       "      <th>sex</th>\n",
       "      <th>ceb</th>\n",
       "      <th>affil1</th>\n",
       "      <th>affil2</th>\n",
       "      <th>Full affiliation name</th>\n",
       "      <th>prov/coun</th>\n",
       "      <th>region</th>\n",
       "      <th>intexp</th>\n",
       "    </tr>\n",
       "  </thead>\n",
       "  <tbody>\n",
       "    <tr>\n",
       "      <th>0</th>\n",
       "      <td>s001</td>\n",
       "      <td>nguyenngocanh</td>\n",
       "      <td>Nguyen Ngoc Anh</td>\n",
       "      <td>econ</td>\n",
       "      <td>manag</td>\n",
       "      <td>3</td>\n",
       "      <td>0</td>\n",
       "      <td>3</td>\n",
       "      <td>11</td>\n",
       "      <td>9</td>\n",
       "      <td>...</td>\n",
       "      <td>46</td>\n",
       "      <td>20</td>\n",
       "      <td>M</td>\n",
       "      <td>1.0</td>\n",
       "      <td>Depocen</td>\n",
       "      <td>NaN</td>\n",
       "      <td>Dev and Pol Res Center</td>\n",
       "      <td>HN</td>\n",
       "      <td>North</td>\n",
       "      <td>NaN</td>\n",
       "    </tr>\n",
       "    <tr>\n",
       "      <th>1</th>\n",
       "      <td>s002</td>\n",
       "      <td>phamntloan</td>\n",
       "      <td>Pham N T Loan</td>\n",
       "      <td>econ</td>\n",
       "      <td>manag</td>\n",
       "      <td>2</td>\n",
       "      <td>1</td>\n",
       "      <td>1</td>\n",
       "      <td>4</td>\n",
       "      <td>1</td>\n",
       "      <td>...</td>\n",
       "      <td>30</td>\n",
       "      <td>4</td>\n",
       "      <td>F</td>\n",
       "      <td>2.0</td>\n",
       "      <td>BUH</td>\n",
       "      <td>NaN</td>\n",
       "      <td>Banking Univ HCM</td>\n",
       "      <td>HCM</td>\n",
       "      <td>South</td>\n",
       "      <td>NaN</td>\n",
       "    </tr>\n",
       "    <tr>\n",
       "      <th>2</th>\n",
       "      <td>s003</td>\n",
       "      <td>vuongquanhoang</td>\n",
       "      <td>Vuong Quan Hoang</td>\n",
       "      <td>econ</td>\n",
       "      <td>health</td>\n",
       "      <td>23</td>\n",
       "      <td>11</td>\n",
       "      <td>2</td>\n",
       "      <td>12</td>\n",
       "      <td>10</td>\n",
       "      <td>...</td>\n",
       "      <td>46</td>\n",
       "      <td>20</td>\n",
       "      <td>M</td>\n",
       "      <td>3.0</td>\n",
       "      <td>FPTU</td>\n",
       "      <td>FSB</td>\n",
       "      <td>FBT School of Business</td>\n",
       "      <td>HN</td>\n",
       "      <td>North</td>\n",
       "      <td>NaN</td>\n",
       "    </tr>\n",
       "    <tr>\n",
       "      <th>3</th>\n",
       "      <td>s004</td>\n",
       "      <td>nguyenvietcuong</td>\n",
       "      <td>Nguyen Viet Cuong</td>\n",
       "      <td>econ</td>\n",
       "      <td>pol</td>\n",
       "      <td>37</td>\n",
       "      <td>23</td>\n",
       "      <td>14</td>\n",
       "      <td>26</td>\n",
       "      <td>15</td>\n",
       "      <td>...</td>\n",
       "      <td>41</td>\n",
       "      <td>15</td>\n",
       "      <td>M</td>\n",
       "      <td>4.0</td>\n",
       "      <td>NEU</td>\n",
       "      <td>IPMM</td>\n",
       "      <td>Inst Pub Pol &amp; Manag, Natl Econ Univ</td>\n",
       "      <td>HN</td>\n",
       "      <td>North</td>\n",
       "      <td>NaN</td>\n",
       "    </tr>\n",
       "    <tr>\n",
       "      <th>4</th>\n",
       "      <td>s005</td>\n",
       "      <td>giangthanhlong</td>\n",
       "      <td>Giang Thanh Long</td>\n",
       "      <td>pol</td>\n",
       "      <td>econ</td>\n",
       "      <td>11</td>\n",
       "      <td>4</td>\n",
       "      <td>7</td>\n",
       "      <td>12</td>\n",
       "      <td>8</td>\n",
       "      <td>...</td>\n",
       "      <td>42</td>\n",
       "      <td>15</td>\n",
       "      <td>M</td>\n",
       "      <td>4.0</td>\n",
       "      <td>NEU</td>\n",
       "      <td>IPMM</td>\n",
       "      <td>Natl Econ Univ</td>\n",
       "      <td>HN</td>\n",
       "      <td>North</td>\n",
       "      <td>NaN</td>\n",
       "    </tr>\n",
       "  </tbody>\n",
       "</table>\n",
       "<p>5 rows × 25 columns</p>\n",
       "</div>"
      ],
      "text/plain": [
       "     id        scientist    Vietnamese Name field.1 field.2  au.key  au.solo  \\\n",
       "0  s001    nguyenngocanh   Nguyen Ngoc Anh     econ   manag       3        0   \n",
       "1  s002       phamntloan     Pham N T Loan     econ   manag       2        1   \n",
       "2  s003   vuongquanhoang   Vuong Quan Hoang    econ  health      23       11   \n",
       "3  s004  nguyenvietcuong  Nguyen Viet Cuong    econ     pol      37       23   \n",
       "4  s005   giangthanhlong   Giang Thanh Long     pol    econ      11        4   \n",
       "\n",
       "   au.coll  au.uniq  au.vn  ...  age  restime  sex  ceb   affil1  affil2  \\\n",
       "0        3       11      9  ...   46       20    M  1.0  Depocen     NaN   \n",
       "1        1        4      1  ...   30        4    F  2.0     BUH      NaN   \n",
       "2        2       12     10  ...   46       20    M  3.0     FPTU     FSB   \n",
       "3       14       26     15  ...   41       15    M  4.0      NEU    IPMM   \n",
       "4        7       12      8  ...   42       15    M  4.0      NEU    IPMM   \n",
       "\n",
       "                  Full affiliation name prov/coun  region intexp  \n",
       "0                Dev and Pol Res Center        HN   North    NaN  \n",
       "1                      Banking Univ HCM       HCM   South    NaN  \n",
       "2                FBT School of Business        HN   North    NaN  \n",
       "3  Inst Pub Pol & Manag, Natl Econ Univ        HN   North    NaN  \n",
       "4                        Natl Econ Univ        HN   North    NaN  \n",
       "\n",
       "[5 rows x 25 columns]"
      ]
     },
     "execution_count": 2,
     "metadata": {},
     "output_type": "execute_result"
    }
   ],
   "source": [
    "df = pd.read_csv('data.csv', encoding = \"ISO-8859-1\")\n",
    "df.head()"
   ]
  },
  {
   "cell_type": "markdown",
   "metadata": {},
   "source": [
    "### Thông tin thuộc tính:"
   ]
  },
  {
   "cell_type": "code",
   "execution_count": 3,
   "metadata": {},
   "outputs": [
    {
     "name": "stdout",
     "output_type": "stream",
     "text": [
      "Dữ liệu có 412 dòng, 25 cột.\n"
     ]
    }
   ],
   "source": [
    "num_rows, num_cols = df.shape\n",
    "print(\"Dữ liệu có {} dòng, {} cột.\".format(num_rows, num_cols))"
   ]
  },
  {
   "cell_type": "markdown",
   "metadata": {},
   "source": [
    "**1. age:**\tTuổi\n",
    "\n",
    "**2. sex**:\tGiới tính\n",
    "\n",
    "**3. affil**:\tDuring the manual phase, we chose the affiliations where the researchers are full-time employed. During the semi-automatic phase, due to the data structure, we assigned the affiliations according to each paper.\n",
    "\n",
    "**4. reg**:\tKhu vực gồm : North, South, Centre and Overseas\n",
    "\n",
    "**5. field**:\tLĩnh vực \n",
    "\n",
    "**6. ttitems**:\tTổng số ấn phẩm trong Scopus. Đơn vị: (các) mục.\n",
    "\n",
    "**7. au.solo**:\tSố lượng ấn phẩm cá nhân.\n",
    "\n",
    "**8. au.key**:\t  Số lượng ấn phẩm mà đối tượng khảo sát đóng vai trò chủ đạo. Một người được coi là có vai trò chính trong một bài báo khi người đó là tác giả đơn, tác giả đầu tiên hoặc đồng tác giả. Đơn vị: (các) mục.\n",
    "\n",
    "**9. au.coll**:\tSố lượng các ấn phẩm mà đối tượng khảo sát không phải là tác giả chính hay tác giả cá nhân. Do đó, au.co = ttlitems − au.key. Đơn vị: (các) mục.\n",
    "\n",
    "**10. cp.sdc, cp.eq, cp.fl**:\tThe measure of relative scientific output. When we calculate this measure manually, the absolute productivity is converted using the method of sequence-determines-credit (cp.sdc)29–31. Then, using the semi-automatic system, we added two more measures: equal contribution for all (cp.eq) and first-last-author emphasis (cp.fl)29,31.\n",
    "\n",
    "**11. au.vn**:\tSố lượng các nhà nghiên cứu Việt Nam mà đối tượng khảo sát là đồng tác giả. Mỗi nhà nghiên cứu Việt Nam chỉ được tính một lần. Đơn vị: người.\n",
    "\n",
    "**12. au.fr**:\tSố lượng nhà nghiên cứu nước ngoài mà đối tượng khảo sát đã đồng tác giả. Mỗi nhà nghiên cứu nước ngoài chỉ được tính một lần. Đơn vị: người.\n",
    "\n",
    "**13. au.uniq**:  Tổng của au.vn và au.fr. Đơn vị: người"
   ]
  },
  {
   "cell_type": "markdown",
   "metadata": {},
   "source": [
    "## Tiền xử lý:"
   ]
  },
  {
   "cell_type": "code",
   "execution_count": 4,
   "metadata": {},
   "outputs": [
    {
     "name": "stdout",
     "output_type": "stream",
     "text": [
      "<class 'pandas.core.frame.DataFrame'>\n",
      "RangeIndex: 412 entries, 0 to 411\n",
      "Data columns (total 25 columns):\n",
      " #   Column                 Non-Null Count  Dtype  \n",
      "---  ------                 --------------  -----  \n",
      " 0   id                     412 non-null    object \n",
      " 1   scientist              412 non-null    object \n",
      " 2   Vietnamese Name        412 non-null    object \n",
      " 3   field.1                412 non-null    object \n",
      " 4   field.2                412 non-null    object \n",
      " 5   au.key                 412 non-null    int64  \n",
      " 6   au.solo                412 non-null    int64  \n",
      " 7   au.coll                412 non-null    int64  \n",
      " 8   au.uniq                412 non-null    int64  \n",
      " 9   au.vn                  412 non-null    int64  \n",
      " 10  au.fc                  412 non-null    int64  \n",
      " 11  au.ttl                 412 non-null    float64\n",
      " 12  ttlitems               412 non-null    int64  \n",
      " 13   cp                    412 non-null    float64\n",
      " 14  title                  412 non-null    int64  \n",
      " 15  age                    412 non-null    int64  \n",
      " 16  restime                412 non-null    int64  \n",
      " 17  sex                    412 non-null    object \n",
      " 18  ceb                    410 non-null    float64\n",
      " 19  affil1                 412 non-null    object \n",
      " 20  affil2                 95 non-null     object \n",
      " 21  Full affiliation name  408 non-null    object \n",
      " 22  prov/coun              409 non-null    object \n",
      " 23  region                 412 non-null    object \n",
      " 24  intexp                 1 non-null      float64\n",
      "dtypes: float64(4), int64(10), object(11)\n",
      "memory usage: 80.6+ KB\n",
      "Dữ liệu bị thiếu.\n"
     ]
    }
   ],
   "source": [
    "#xem thông tin data:\n",
    "df.info()\n",
    "\n",
    "if df.isnull().values.any() == False:\n",
    "    print(\"=> Không có ô giá trị nào bị thiếu.\")\n",
    "else:\n",
    "    print(\"Dữ liệu bị thiếu.\")"
   ]
  },
  {
   "cell_type": "markdown",
   "metadata": {},
   "source": [
    "# III/ Trực quan hóa:"
   ]
  },
  {
   "cell_type": "markdown",
   "metadata": {},
   "source": [
    "## Nội dung trực quan:\n"
   ]
  },
  {
   "cell_type": "markdown",
   "metadata": {},
   "source": [
    ">1. Lĩnh vực nghiên cứu của các nhà khoa học.\n",
    "\n",
    "> 2. Độ tuổi các nhà nghiên cứu\n",
    "\n",
    "> . (note)\n",
    "\n",
    "> . (note)\n",
    "\n",
    "> . (note)\n",
    "\n",
    "> . (note)\n",
    "\n",
    "> . (note)\n",
    "\n",
    "> . (note)\n",
    "\n",
    "> . (note)\n",
    "\n",
    "> . (note)\n",
    "\n",
    "> . (note)\n"
   ]
  },
  {
   "cell_type": "markdown",
   "metadata": {},
   "source": [
    "## Trực quan bằng biểu đồ:"
   ]
  },
  {
   "cell_type": "markdown",
   "metadata": {},
   "source": [
    "### 1. Lĩnh vực nghiên cứu của các nhà khoa học."
   ]
  },
  {
   "cell_type": "code",
   "execution_count": 53,
   "metadata": {
    "scrolled": false
   },
   "outputs": [
    {
     "data": {
      "image/png": "[encoded data removed]",
      "text/plain": [
       "<Figure size 1440x720 with 1 Axes>"
      ]
     },
     "metadata": {},
     "output_type": "display_data"
    }
   ],
   "source": [
    "Series_1 = df['field.1'].copy().value_counts()\n",
    "\n",
    "sns.set(rc={'figure.figsize':(20,10)})\n",
    "\n",
    "# ax.bar(Series_1.head(10).index, Series_1.head(10).values, fill='black', color=\"#2ecc71\", edgecolor=['black'])\n",
    "ax = sns.barplot(Series_1.head(10).index, Series_1.head(10).values, fill='black', color=\"#2ecc71\", edgecolor=['black']\n",
    "      , palette=sns.color_palette(\"hls\", 10))\n",
    "\n",
    "\n",
    "\n",
    "ax.set_ylabel('Tổng số', fontsize='large')\n",
    "ax.set_xlabel('Lĩnh vực', fontsize='large')\n",
    "\n",
    "plt.savefig(\"pic1_1.png\")\n"
   ]
  },
  {
   "cell_type": "markdown",
   "metadata": {},
   "source": [
    "**Nhận xét**: Qua biểu đồ trên, ta thấy các nhà nghiên cứu chủ yếu tập trung vào lĩnh vực kinh tế (economy). Ngoài ra các ngành  như xã hội học (sociology), ngôn ngữ (language).. cũng được chú trọng."
   ]
  },
  {
   "cell_type": "markdown",
   "metadata": {},
   "source": [
    "Cụ thể hơn ta có thể hiển thị phần trăm của lĩnh vực kinh tế: "
   ]
  },
  {
   "cell_type": "code",
   "execution_count": 54,
   "metadata": {
    "scrolled": true
   },
   "outputs": [],
   "source": [
    "df_1 = df.copy()\n",
    "list_fill = []\n",
    "for r in df['field.1']:\n",
    "    if r == 'econ':\n",
    "        list_fill.append('econ')\n",
    "    else:\n",
    "        list_fill.append('other')\n",
    "df_1['Field'] = np.array(list_fill)"
   ]
  },
  {
   "cell_type": "code",
   "execution_count": 55,
   "metadata": {},
   "outputs": [
    {
     "data": {
      "image/png": "[encoded data removed]",
      "text/plain": [
       "<Figure size 864x576 with 1 Axes>"
      ]
     },
     "metadata": {},
     "output_type": "display_data"
    }
   ],
   "source": [
    "Series_1_hat = df_1['Field'].value_counts()\n",
    "#Trực quan %\n",
    "plt.figure(figsize=(12,8))\n",
    "plt.axis('equal');\n",
    "# colors = ['#008fd5', '#fc4f30']\n",
    "colors = ['#008fd5', '#fc1f60']\n",
    "plt.pie(Series_1_hat, startangle=90, colors=colors, wedgeprops={'edgecolor': 'black'}, \n",
    "        explode = (0, 0.1), autopct='%1.f%%',shadow=True);\n",
    "plt.legend(loc='best', labels=Series_1_hat.index, fontsize='medium')\n",
    "plt.savefig(\"pic1_2.png\")\n",
    "plt.show()"
   ]
  },
  {
   "cell_type": "markdown",
   "metadata": {},
   "source": [
    "**Nhận xét**: Cụ thể, lĩnh vực kinh tế chiếm tới 30% số nghiên cứu ở nước ta. "
   ]
  },
  {
   "cell_type": "markdown",
   "metadata": {},
   "source": [
    "### **2. Độ tuổi các nhà nghiên cứu**"
   ]
  },
  {
   "cell_type": "code",
   "execution_count": 80,
   "metadata": {},
   "outputs": [],
   "source": [
    "df_age = df['age']\n",
    "mean = df_age.mean()\n",
    "median = df_age.median()"
   ]
  },
  {
   "cell_type": "code",
   "execution_count": 87,
   "metadata": {},
   "outputs": [
    {
     "data": {
      "image/png": "[encoded data removed]",
      "text/plain": [
       "<Figure size 864x576 with 1 Axes>"
      ]
     },
     "metadata": {},
     "output_type": "display_data"
    }
   ],
   "source": [
    "sns.set(rc={'figure.figsize':(12,8)})\n",
    "df_age = df['age']\n",
    "sns.kdeplot(df_age, label='Age', shade = True)\n",
    "plt.axvline(mean, color='r', linestyle='--')\n",
    "plt.axvline(median, color='g', linestyle='-')\n",
    "plt.legend({'Age':df_age, 'Mean':mean,'Median':median})\n",
    "plt.title('Độ tuổi của các nhà nghiên cứu', fontsize = 20)\n",
    "plt.xlabel('Độ tuổi', fontsize = 20);\n",
    "plt.ylabel('Tỉ lệ', fontsize = 20)\n",
    "plt.savefig(\"pic2.png\")\n",
    "plt.show()"
   ]
  },
  {
   "cell_type": "code",
   "execution_count": null,
   "metadata": {},
   "outputs": [],
   "source": []
  }
 ],
 "metadata": {
  "kernelspec": {
   "display_name": "Python 3",
   "language": "python",
   "name": "python3"
  },
  "language_info": {
   "codemirror_mode": {
    "name": "ipython",
    "version": 3
   },
   "file_extension": ".py",
   "mimetype": "text/x-python",
   "name": "python",
   "nbconvert_exporter": "python",
   "pygments_lexer": "ipython3",
   "version": "3.7.6"
  }
 },
 "nbformat": 4,
 "nbformat_minor": 4
}
