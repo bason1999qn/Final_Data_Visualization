{
 "cells": [
  {
   "cell_type": "markdown",
   "metadata": {
    "Collapsed": "false"
   },
   "source": [
    "# I/ Dữ liệu"
   ]
  },
  {
   "cell_type": "markdown",
   "metadata": {
    "Collapsed": "false"
   },
   "source": [
    "### Thông tin về dữ liệu:"
   ]
  },
  {
   "cell_type": "markdown",
   "metadata": {
    "Collapsed": "false"
   },
   "source": [
    "(note)"
   ]
  },
  {
   "cell_type": "markdown",
   "metadata": {
    "Collapsed": "false"
   },
   "source": [
    "# II/ Khám phá dữ liệu:"
   ]
  },
  {
   "cell_type": "markdown",
   "metadata": {
    "Collapsed": "false"
   },
   "source": [
    "### Import"
   ]
  },
  {
   "cell_type": "code",
   "execution_count": 1,
   "metadata": {
    "Collapsed": "false"
   },
   "outputs": [],
   "source": [
    "%matplotlib inline\n",
    "import matplotlib.pyplot as plt\n",
    "import matplotlib.colors\n",
    "import seaborn as sns\n",
    "import pandas as pd\n",
    "import numpy as np\n",
    "import math\n",
    "from matplotlib.patches import Circle, RegularPolygon\n",
    "from matplotlib.path import Path\n",
    "from matplotlib.projections.polar import PolarAxes\n",
    "from matplotlib.projections import register_projection\n",
    "from matplotlib.spines import Spine\n",
    "from matplotlib.transforms import Affine2D"
   ]
  },
  {
   "cell_type": "markdown",
   "metadata": {
    "Collapsed": "false"
   },
   "source": [
    "### Đọc dữ liệu từ file csv vào dataframe"
   ]
  },
  {
   "cell_type": "code",
   "execution_count": 2,
   "metadata": {
    "Collapsed": "false",
    "scrolled": true
   },
   "outputs": [
    {
     "data": {
      "text/html": [
       "<div>\n",
       "<style scoped>\n",
       "    .dataframe tbody tr th:only-of-type {\n",
       "        vertical-align: middle;\n",
       "    }\n",
       "\n",
       "    .dataframe tbody tr th {\n",
       "        vertical-align: top;\n",
       "    }\n",
       "\n",
       "    .dataframe thead th {\n",
       "        text-align: right;\n",
       "    }\n",
       "</style>\n",
       "<table border=\"1\" class=\"dataframe\">\n",
       "  <thead>\n",
       "    <tr style=\"text-align: right;\">\n",
       "      <th></th>\n",
       "      <th>id</th>\n",
       "      <th>scientist</th>\n",
       "      <th>Vietnamese Name</th>\n",
       "      <th>field.1</th>\n",
       "      <th>field.2</th>\n",
       "      <th>au.key</th>\n",
       "      <th>au.solo</th>\n",
       "      <th>au.coll</th>\n",
       "      <th>au.uniq</th>\n",
       "      <th>au.vn</th>\n",
       "      <th>...</th>\n",
       "      <th>age</th>\n",
       "      <th>restime</th>\n",
       "      <th>sex</th>\n",
       "      <th>ceb</th>\n",
       "      <th>affil1</th>\n",
       "      <th>affil2</th>\n",
       "      <th>Full affiliation name</th>\n",
       "      <th>prov/coun</th>\n",
       "      <th>region</th>\n",
       "      <th>intexp</th>\n",
       "    </tr>\n",
       "  </thead>\n",
       "  <tbody>\n",
       "    <tr>\n",
       "      <th>0</th>\n",
       "      <td>s001</td>\n",
       "      <td>nguyenngocanh</td>\n",
       "      <td>Nguyen Ngoc Anh</td>\n",
       "      <td>econ</td>\n",
       "      <td>manag</td>\n",
       "      <td>3</td>\n",
       "      <td>0</td>\n",
       "      <td>3</td>\n",
       "      <td>11</td>\n",
       "      <td>9</td>\n",
       "      <td>...</td>\n",
       "      <td>46</td>\n",
       "      <td>20</td>\n",
       "      <td>M</td>\n",
       "      <td>1.0</td>\n",
       "      <td>Depocen</td>\n",
       "      <td>NaN</td>\n",
       "      <td>Dev and Pol Res Center</td>\n",
       "      <td>HN</td>\n",
       "      <td>North</td>\n",
       "      <td>NaN</td>\n",
       "    </tr>\n",
       "    <tr>\n",
       "      <th>1</th>\n",
       "      <td>s002</td>\n",
       "      <td>phamntloan</td>\n",
       "      <td>Pham N T Loan</td>\n",
       "      <td>econ</td>\n",
       "      <td>manag</td>\n",
       "      <td>2</td>\n",
       "      <td>1</td>\n",
       "      <td>1</td>\n",
       "      <td>4</td>\n",
       "      <td>1</td>\n",
       "      <td>...</td>\n",
       "      <td>30</td>\n",
       "      <td>4</td>\n",
       "      <td>F</td>\n",
       "      <td>2.0</td>\n",
       "      <td>BUH</td>\n",
       "      <td>NaN</td>\n",
       "      <td>Banking Univ HCM</td>\n",
       "      <td>HCM</td>\n",
       "      <td>South</td>\n",
       "      <td>NaN</td>\n",
       "    </tr>\n",
       "    <tr>\n",
       "      <th>2</th>\n",
       "      <td>s003</td>\n",
       "      <td>vuongquanhoang</td>\n",
       "      <td>Vuong Quan Hoang</td>\n",
       "      <td>econ</td>\n",
       "      <td>health</td>\n",
       "      <td>23</td>\n",
       "      <td>11</td>\n",
       "      <td>2</td>\n",
       "      <td>12</td>\n",
       "      <td>10</td>\n",
       "      <td>...</td>\n",
       "      <td>46</td>\n",
       "      <td>20</td>\n",
       "      <td>M</td>\n",
       "      <td>3.0</td>\n",
       "      <td>FPTU</td>\n",
       "      <td>FSB</td>\n",
       "      <td>FBT School of Business</td>\n",
       "      <td>HN</td>\n",
       "      <td>North</td>\n",
       "      <td>NaN</td>\n",
       "    </tr>\n",
       "    <tr>\n",
       "      <th>3</th>\n",
       "      <td>s004</td>\n",
       "      <td>nguyenvietcuong</td>\n",
       "      <td>Nguyen Viet Cuong</td>\n",
       "      <td>econ</td>\n",
       "      <td>pol</td>\n",
       "      <td>37</td>\n",
       "      <td>23</td>\n",
       "      <td>14</td>\n",
       "      <td>26</td>\n",
       "      <td>15</td>\n",
       "      <td>...</td>\n",
       "      <td>41</td>\n",
       "      <td>15</td>\n",
       "      <td>M</td>\n",
       "      <td>4.0</td>\n",
       "      <td>NEU</td>\n",
       "      <td>IPMM</td>\n",
       "      <td>Inst Pub Pol &amp; Manag, Natl Econ Univ</td>\n",
       "      <td>HN</td>\n",
       "      <td>North</td>\n",
       "      <td>NaN</td>\n",
       "    </tr>\n",
       "    <tr>\n",
       "      <th>4</th>\n",
       "      <td>s005</td>\n",
       "      <td>giangthanhlong</td>\n",
       "      <td>Giang Thanh Long</td>\n",
       "      <td>pol</td>\n",
       "      <td>econ</td>\n",
       "      <td>11</td>\n",
       "      <td>4</td>\n",
       "      <td>7</td>\n",
       "      <td>12</td>\n",
       "      <td>8</td>\n",
       "      <td>...</td>\n",
       "      <td>42</td>\n",
       "      <td>15</td>\n",
       "      <td>M</td>\n",
       "      <td>4.0</td>\n",
       "      <td>NEU</td>\n",
       "      <td>IPMM</td>\n",
       "      <td>Natl Econ Univ</td>\n",
       "      <td>HN</td>\n",
       "      <td>North</td>\n",
       "      <td>NaN</td>\n",
       "    </tr>\n",
       "  </tbody>\n",
       "</table>\n",
       "<p>5 rows × 25 columns</p>\n",
       "</div>"
      ],
      "text/plain": [
       "     id        scientist    Vietnamese Name field.1 field.2  au.key  au.solo  \\\n",
       "0  s001    nguyenngocanh   Nguyen Ngoc Anh     econ   manag       3        0   \n",
       "1  s002       phamntloan     Pham N T Loan     econ   manag       2        1   \n",
       "2  s003   vuongquanhoang   Vuong Quan Hoang    econ  health      23       11   \n",
       "3  s004  nguyenvietcuong  Nguyen Viet Cuong    econ     pol      37       23   \n",
       "4  s005   giangthanhlong   Giang Thanh Long     pol    econ      11        4   \n",
       "\n",
       "   au.coll  au.uniq  au.vn  ...  age  restime  sex  ceb   affil1  affil2  \\\n",
       "0        3       11      9  ...   46       20    M  1.0  Depocen     NaN   \n",
       "1        1        4      1  ...   30        4    F  2.0     BUH      NaN   \n",
       "2        2       12     10  ...   46       20    M  3.0     FPTU     FSB   \n",
       "3       14       26     15  ...   41       15    M  4.0      NEU    IPMM   \n",
       "4        7       12      8  ...   42       15    M  4.0      NEU    IPMM   \n",
       "\n",
       "                  Full affiliation name prov/coun  region intexp  \n",
       "0                Dev and Pol Res Center        HN   North    NaN  \n",
       "1                      Banking Univ HCM       HCM   South    NaN  \n",
       "2                FBT School of Business        HN   North    NaN  \n",
       "3  Inst Pub Pol & Manag, Natl Econ Univ        HN   North    NaN  \n",
       "4                        Natl Econ Univ        HN   North    NaN  \n",
       "\n",
       "[5 rows x 25 columns]"
      ]
     },
     "execution_count": 2,
     "metadata": {},
     "output_type": "execute_result"
    }
   ],
   "source": [
    "df = pd.read_csv('data.csv', encoding = \"ISO-8859-1\")\n",
    "df.head()"
   ]
  },
  {
   "cell_type": "markdown",
   "metadata": {
    "Collapsed": "false"
   },
   "source": [
    "### Thông tin thuộc tính:"
   ]
  },
  {
   "cell_type": "code",
   "execution_count": 3,
   "metadata": {
    "Collapsed": "false"
   },
   "outputs": [
    {
     "name": "stdout",
     "output_type": "stream",
     "text": [
      "Dữ liệu có 412 dòng, 25 cột.\n"
     ]
    }
   ],
   "source": [
    "num_rows, num_cols = df.shape\n",
    "print(\"Dữ liệu có {} dòng, {} cột.\".format(num_rows, num_cols))"
   ]
  },
  {
   "cell_type": "code",
   "execution_count": 4,
   "metadata": {
    "Collapsed": "false"
   },
   "outputs": [],
   "source": [
    "df['sex'] = df['sex'].replace(' ', '', regex=True)"
   ]
  },
  {
   "cell_type": "markdown",
   "metadata": {
    "Collapsed": "false"
   },
   "source": [
    "**1. age:**\tTuổi\n",
    "\n",
    "**2. sex**:\tGiới tính\n",
    "\n",
    "**3. affil**:\tDuring the manual phase, we chose the affiliations where the researchers are full-time employed. During the semi-automatic phase, due to the data structure, we assigned the affiliations according to each paper.\n",
    "\n",
    "**4. reg**:\tKhu vực gồm : North, South, Centre and Overseas\n",
    "\n",
    "**5. field**:\tLĩnh vực \n",
    "\n",
    "**6. ttitems**:\tTổng số ấn phẩm trong Scopus. Đơn vị: (các) mục.\n",
    "\n",
    "**7. au.solo**:\tSố lượng ấn phẩm cá nhân.\n",
    "\n",
    "**8. au.key**:\t  Số lượng ấn phẩm mà đối tượng khảo sát đóng vai trò chủ đạo. Một người được coi là có vai trò chính trong một bài báo khi người đó là tác giả đơn, tác giả đầu tiên hoặc đồng tác giả. Đơn vị: (các) mục.\n",
    "\n",
    "**9. au.coll**:\tSố lượng các ấn phẩm mà đối tượng khảo sát không phải là tác giả chính hay tác giả cá nhân. Do đó, au.co = ttlitems − au.key. Đơn vị: (các) mục.\n",
    "\n",
    "**10. cp.sdc, cp.eq, cp.fl**:\tThe measure of relative scientific output. When we calculate this measure manually, the absolute productivity is converted using the method of sequence-determines-credit (cp.sdc)29–31. Then, using the semi-automatic system, we added two more measures: equal contribution for all (cp.eq) and first-last-author emphasis (cp.fl)29,31.\n",
    "\n",
    "**11. au.vn**:\tSố lượng các nhà nghiên cứu Việt Nam mà đối tượng khảo sát là đồng tác giả. Mỗi nhà nghiên cứu Việt Nam chỉ được tính một lần. Đơn vị: người.\n",
    "\n",
    "**12. au.fr**:\tSố lượng nhà nghiên cứu nước ngoài mà đối tượng khảo sát đã đồng tác giả. Mỗi nhà nghiên cứu nước ngoài chỉ được tính một lần. Đơn vị: người.\n",
    "\n",
    "**13. au.uniq**:  Tổng của au.vn và au.fr. Đơn vị: người"
   ]
  },
  {
   "cell_type": "markdown",
   "metadata": {
    "Collapsed": "false"
   },
   "source": [
    "## Tiền xử lý:"
   ]
  },
  {
   "cell_type": "code",
   "execution_count": 5,
   "metadata": {
    "Collapsed": "false"
   },
   "outputs": [
    {
     "name": "stdout",
     "output_type": "stream",
     "text": [
      "<class 'pandas.core.frame.DataFrame'>\n",
      "RangeIndex: 412 entries, 0 to 411\n",
      "Data columns (total 25 columns):\n",
      " #   Column                 Non-Null Count  Dtype  \n",
      "---  ------                 --------------  -----  \n",
      " 0   id                     412 non-null    object \n",
      " 1   scientist              412 non-null    object \n",
      " 2   Vietnamese Name        412 non-null    object \n",
      " 3   field.1                412 non-null    object \n",
      " 4   field.2                412 non-null    object \n",
      " 5   au.key                 412 non-null    int64  \n",
      " 6   au.solo                412 non-null    int64  \n",
      " 7   au.coll                412 non-null    int64  \n",
      " 8   au.uniq                412 non-null    int64  \n",
      " 9   au.vn                  412 non-null    int64  \n",
      " 10  au.fc                  412 non-null    int64  \n",
      " 11  au.ttl                 412 non-null    float64\n",
      " 12  ttlitems               412 non-null    int64  \n",
      " 13   cp                    412 non-null    float64\n",
      " 14  title                  412 non-null    int64  \n",
      " 15  age                    412 non-null    int64  \n",
      " 16  restime                412 non-null    int64  \n",
      " 17  sex                    412 non-null    object \n",
      " 18  ceb                    410 non-null    float64\n",
      " 19  affil1                 412 non-null    object \n",
      " 20  affil2                 95 non-null     object \n",
      " 21  Full affiliation name  408 non-null    object \n",
      " 22  prov/coun              409 non-null    object \n",
      " 23  region                 412 non-null    object \n",
      " 24  intexp                 1 non-null      float64\n",
      "dtypes: float64(4), int64(10), object(11)\n",
      "memory usage: 80.6+ KB\n",
      "Dữ liệu bị thiếu.\n"
     ]
    }
   ],
   "source": [
    "#xem thông tin data:\n",
    "df.info()\n",
    "\n",
    "if df.isnull().values.any() == False:\n",
    "    print(\"=> Không có ô giá trị nào bị thiếu.\")\n",
    "else:\n",
    "    print(\"Dữ liệu bị thiếu.\")"
   ]
  },
  {
   "cell_type": "markdown",
   "metadata": {
    "Collapsed": "false"
   },
   "source": [
    "# III/ Trực quan hóa:"
   ]
  },
  {
   "cell_type": "markdown",
   "metadata": {
    "Collapsed": "false"
   },
   "source": [
    "## Nội dung trực quan:\n"
   ]
  },
  {
   "cell_type": "markdown",
   "metadata": {
    "Collapsed": "false"
   },
   "source": [
    ">1. Lĩnh vực nghiên cứu của các nhà khoa học.\n",
    "\n",
    "> 2. (note)\n",
    "\n",
    "> . (note)\n",
    "\n",
    "> . (note)\n",
    "\n",
    "> . (note)\n",
    "\n",
    "> . (note)\n",
    "\n",
    "> . (note)\n",
    "\n",
    "> . (note)\n",
    "\n",
    "> . (note)\n",
    "\n",
    "> . (note)\n",
    "\n",
    "> . (note)\n"
   ]
  },
  {
   "cell_type": "markdown",
   "metadata": {
    "Collapsed": "false"
   },
   "source": [
    "## Trực quan bằng biểu đồ:"
   ]
  },
  {
   "cell_type": "markdown",
   "metadata": {
    "Collapsed": "false"
   },
   "source": [
    "1. Lĩnh vực nghiên cứu của các nhà khoa học."
   ]
  },
  {
   "cell_type": "code",
   "execution_count": 6,
   "metadata": {
    "Collapsed": "false"
   },
   "outputs": [
    {
     "data": {
      "text/plain": [
       "Index(['id', 'scientist', 'Vietnamese Name', 'field.1', 'field.2', 'au.key',\n",
       "       'au.solo', 'au.coll', 'au.uniq', 'au.vn', 'au.fc', 'au.ttl', 'ttlitems',\n",
       "       ' cp ', 'title', 'age', 'restime', 'sex', 'ceb', 'affil1', 'affil2',\n",
       "       'Full affiliation name', 'prov/coun', 'region', 'intexp'],\n",
       "      dtype='object')"
      ]
     },
     "execution_count": 6,
     "metadata": {},
     "output_type": "execute_result"
    }
   ],
   "source": [
    "df.columns"
   ]
  },
  {
   "cell_type": "code",
   "execution_count": 7,
   "metadata": {
    "Collapsed": "false"
   },
   "outputs": [
    {
     "data": {
      "text/html": [
       "<div>\n",
       "<style scoped>\n",
       "    .dataframe tbody tr th:only-of-type {\n",
       "        vertical-align: middle;\n",
       "    }\n",
       "\n",
       "    .dataframe tbody tr th {\n",
       "        vertical-align: top;\n",
       "    }\n",
       "\n",
       "    .dataframe thead th {\n",
       "        text-align: right;\n",
       "    }\n",
       "</style>\n",
       "<table border=\"1\" class=\"dataframe\">\n",
       "  <thead>\n",
       "    <tr style=\"text-align: right;\">\n",
       "      <th></th>\n",
       "      <th>au.solo</th>\n",
       "      <th>au.key</th>\n",
       "      <th>ttlitems</th>\n",
       "      <th>cp</th>\n",
       "      <th>au.uniq</th>\n",
       "    </tr>\n",
       "  </thead>\n",
       "  <tbody>\n",
       "    <tr>\n",
       "      <th>0</th>\n",
       "      <td>0.728155</td>\n",
       "      <td>1.762136</td>\n",
       "      <td>3.56068</td>\n",
       "      <td>2.382379</td>\n",
       "      <td>6.529126</td>\n",
       "    </tr>\n",
       "  </tbody>\n",
       "</table>\n",
       "</div>"
      ],
      "text/plain": [
       "    au.solo    au.key  ttlitems       cp    au.uniq\n",
       "0  0.728155  1.762136   3.56068  2.382379  6.529126"
      ]
     },
     "execution_count": 7,
     "metadata": {},
     "output_type": "execute_result"
    }
   ],
   "source": [
    "data = df[['au.solo','au.key','ttlitems',' cp ','au.uniq']]\n",
    "a = pd.DataFrame(data.apply(np.mean,axis = 0))\n",
    "b = a.T\n",
    "b"
   ]
  },
  {
   "cell_type": "code",
   "execution_count": 8,
   "metadata": {
    "Collapsed": "false"
   },
   "outputs": [
    {
     "name": "stdout",
     "output_type": "stream",
     "text": [
      "['au.solo', 'au.key', 'ttlitems', ' cp ', 'au.uniq']\n"
     ]
    }
   ],
   "source": [
    "labels = []\n",
    "for label in b.columns:\n",
    "    labels.append(str(label))\n",
    "print(labels)"
   ]
  },
  {
   "cell_type": "code",
   "execution_count": 9,
   "metadata": {
    "Collapsed": "false"
   },
   "outputs": [],
   "source": [
    "def radar_factory(num_vars, frame='circle'):\n",
    "    \"\"\"Create a radar chart with `num_vars` axes.\n",
    "\n",
    "    This function creates a RadarAxes projection and registers it.\n",
    "\n",
    "    Parameters\n",
    "    ----------\n",
    "    num_vars : int\n",
    "        Number of variables for radar chart.\n",
    "    frame : {'circle' | 'polygon'}\n",
    "        Shape of frame surrounding axes.\n",
    "\n",
    "    \"\"\"\n",
    "    # calculate evenly-spaced axis angles\n",
    "    theta = np.linspace(0, 2*np.pi, num_vars, endpoint=False)\n",
    "\n",
    "    class RadarAxes(PolarAxes):\n",
    "\n",
    "        name = 'radar'\n",
    "\n",
    "        def __init__(self, *args, **kwargs):\n",
    "            super().__init__(*args, **kwargs)\n",
    "            # rotate plot such that the first axis is at the top\n",
    "            self.set_theta_zero_location('N')\n",
    "\n",
    "        def fill(self, *args, closed=True, **kwargs):\n",
    "            \"\"\"Override fill so that line is closed by default\"\"\"\n",
    "            return super().fill(closed=closed, *args, **kwargs)\n",
    "\n",
    "        def plot(self, *args, **kwargs):\n",
    "            \"\"\"Override plot so that line is closed by default\"\"\"\n",
    "            lines = super().plot(*args, **kwargs)\n",
    "            for line in lines:\n",
    "                self._close_line(line)\n",
    "\n",
    "        def _close_line(self, line):\n",
    "            x, y = line.get_data()\n",
    "            # FIXME: markers at x[0], y[0] get doubled-up\n",
    "            if x[0] != x[-1]:\n",
    "                x = np.concatenate((x, [x[0]]))\n",
    "                y = np.concatenate((y, [y[0]]))\n",
    "                line.set_data(x, y)\n",
    "\n",
    "        def set_varlabels(self, labels):\n",
    "            self.set_thetagrids(np.degrees(theta), labels)\n",
    "\n",
    "        def _gen_axes_patch(self):\n",
    "            # The Axes patch must be centered at (0.5, 0.5) and of radius 0.5\n",
    "            # in axes coordinates.\n",
    "            if frame == 'circle':\n",
    "                return Circle((0.5, 0.5), 0.5)\n",
    "            elif frame == 'polygon':\n",
    "                return RegularPolygon((0.5, 0.5), num_vars,\n",
    "                                      radius=.5, edgecolor=\"k\")\n",
    "            else:\n",
    "                raise ValueError(\"unknown value for 'frame': %s\" % frame)\n",
    "\n",
    "        def draw(self, renderer):\n",
    "            \"\"\" Draw. If frame is polygon, make gridlines polygon-shaped \"\"\"\n",
    "            if frame == 'polygon':\n",
    "                gridlines = self.yaxis.get_gridlines()\n",
    "                for gl in gridlines:\n",
    "                    gl.get_path()._interpolation_steps = num_vars\n",
    "            super().draw(renderer)\n",
    "\n",
    "        def _gen_axes_spines(self):\n",
    "            if frame == 'circle':\n",
    "                return super()._gen_axes_spines()\n",
    "            elif frame == 'polygon':\n",
    "                # spine_type must be 'left'/'right'/'top'/'bottom'/'circle'.\n",
    "                spine = Spine(axes=self,\n",
    "                              spine_type='circle',\n",
    "                              path=Path.unit_regular_polygon(num_vars))\n",
    "                # unit_regular_polygon gives a polygon of radius 1 centered at\n",
    "                # (0, 0) but we want a polygon of radius 0.5 centered at (0.5,\n",
    "                # 0.5) in axes coordinates.\n",
    "                spine.set_transform(Affine2D().scale(.5).translate(.5, .5)\n",
    "                                    + self.transAxes)\n",
    "\n",
    "\n",
    "                return {'polar': spine}\n",
    "            else:\n",
    "                raise ValueError(\"unknown value for 'frame': %s\" % frame)\n",
    "\n",
    "    register_projection(RadarAxes)\n",
    "    return theta"
   ]
  },
  {
   "cell_type": "code",
   "execution_count": 10,
   "metadata": {
    "Collapsed": "false"
   },
   "outputs": [
    {
     "data": {
      "image/png": "[encoded data removed]",
      "text/plain": [
       "<Figure size 504x504 with 1 Axes>"
      ]
     },
     "metadata": {
      "needs_background": "light"
     },
     "output_type": "display_data"
    }
   ],
   "source": [
    "index_row = 0 # Lấy dòng cần vẽ\n",
    "\n",
    "N = len(labels) # Tính số thuộc tính (số cột)\n",
    "\n",
    "# Tạo góc dạng polygon, chia theo số thuộc tính\n",
    "# => Nếu có 5 cột thì là ngũ giác, đoán vậy :v\n",
    "theta = radar_factory(N, frame='polygon') \n",
    "\n",
    "# Lấy tên của các thg mình đang vẽ\n",
    "title = 'Overview'\n",
    "\n",
    "# Tạo figure kích thước bla bla\n",
    "fig, ax = plt.subplots(figsize=(7, 7), subplot_kw=dict(projection='radar'))\n",
    "\n",
    "# Tạo lưới thang đo 0 -> 1\n",
    "ax.set_rgrids([0.1,0.5])\n",
    "\n",
    "# Đặt title cho figure\n",
    "ax.set_title(title,  position=(0.5, 1.1), ha='center')\n",
    "\n",
    "# Chỗ này nãy làm trường hợp vẽ nhiều dòng\n",
    "'''for i in range(2):\n",
    "    d = data.loc[i].values/np.max(data.loc[i].values)\n",
    "    line = ax.plot(theta, d)\n",
    "    ax.fill(theta, d,  alpha=0.25)'''\n",
    "\n",
    "# Chuẩn hoá dữ liệu về khoảng [0,1]\n",
    "d = data.loc[index_row].values/np.max(data.loc[index_row].values)\n",
    "# Vẽ đường nối các điểm dữ liệu, giao điểm hình chấm tròn (-o),\n",
    "# Có thể đổi kiểu khác như -* là ngôi sao, -x là dấu chéo,... :v\n",
    "# Tham số color là màu, muốn để mặc định thì xoá đi\n",
    "line = ax.plot(theta, d, '-o', color = 'orange') \n",
    "\n",
    "ax.fill(theta, d,  alpha = 0.25, color = 'yellow') # Tô màu, alpha là độ đậm của màu tô\n",
    "ax.set_varlabels(labels) # Set label cho các đỉnh\n",
    "\n",
    "plt.show() # Hiển thị"
   ]
  },
  {
   "cell_type": "markdown",
   "metadata": {
    "Collapsed": "false"
   },
   "source": [
    "### Nhận xét:\n",
    "\n",
    "- Từ hình vẽ ta thấy thì các nghiên cứu ở Việt Nam hầu như không làm 1 mình, đều phải có những cộng sự trong nước hay ở nước ngoài. Chứng tỏ công việc nghiên cứu là 1 công việc khó khăn, cần sự kiên trì không ngừng nghỉ nên khó có thể thực hiện 1 mình\n",
    "\n",
    "- Độ ứng dụng của các nghiên cứu này còn thấp, chưa được 50%. Chứng tỏ đề tài họ nghiên cứu khá xa vời so với thực tế. Điều này cũng khá là dễ hiểu đối với 1 nước nặng những kiến thức lý thuyết, ít thực hành như ở Việt Nam\n",
    "\n",
    "- Tống số nghiên cứu trung bình của 1 người cũng chưa được cao, bởi vì đối với 1 môi trường đặc thù như ở Việt Nam. Cơ sở vật chất và nhà nước đầu tư vào các nghiên cứu vẫn chưa nhiều, đa số là tự phát. Và nghiên cứu cần có những bằng cấp đặc biệt. Tuy nhiên, ở Việt Nam thì tình trạng tiến sỹ giấy rất nhiều, hầu như những nghiên cứu áp dụng được đều bộc phát từ những người nông dân. Đây là 1 điều đáng báo động với nền giáo dục Việt "
   ]
  },
  {
   "cell_type": "code",
   "execution_count": 11,
   "metadata": {
    "Collapsed": "false"
   },
   "outputs": [],
   "source": [
    "df['sex'] = df['sex'].replace(' ', '', regex=True)"
   ]
  },
  {
   "cell_type": "code",
   "execution_count": 12,
   "metadata": {
    "Collapsed": "false"
   },
   "outputs": [],
   "source": [
    "df_age = df['age']\n",
    "mean = df_age.mean()\n",
    "median = df_age.median()"
   ]
  },
  {
   "cell_type": "code",
   "execution_count": 13,
   "metadata": {
    "Collapsed": "false"
   },
   "outputs": [
    {
     "data": {
      "image/png": "[encoded data removed]",
      "text/plain": [
       "<Figure size 432x288 with 1 Axes>"
      ]
     },
     "metadata": {
      "needs_background": "light"
     },
     "output_type": "display_data"
    }
   ],
   "source": [
    "b = sns.swarmplot(x=df['sex'],y=df['age'])\n",
    "b.axes.set_title('Giới tính và độ tuổi nghiên cứu', fontsize = 22)\n",
    "b.set_xlabel('Giới tính', fontsize = 20)\n",
    "b.set_ylabel('Độ tuổi', fontsize = 20)\n",
    "plt.savefig(\"pic2_2.png\")\n",
    "plt.show()"
   ]
  },
  {
   "cell_type": "code",
   "execution_count": 15,
   "metadata": {
    "Collapsed": "false"
   },
   "outputs": [],
   "source": [
    "male_df = df[df['sex'] == 'M']\n",
    "female_df =  df[df['sex'] == 'F']"
   ]
  },
  {
   "cell_type": "markdown",
   "metadata": {
    "Collapsed": "false"
   },
   "source": [
    "Nhìn qua ta có thể thấy số lượng nam làm nghiên cứu nhiều hơn nữ. Để tìm hiểu rõ hơn hãy kiểm định giả thuyết\n",
    "\n",
    "$H_0$: Độ tuổi trung bình nghiên cứu của nam bằng của nữ ($\\mu_0 = \\mu_1$)\n",
    "\n",
    "$H_1$: Độ tuổi trung bình nghiên cứu của nam lớn hơn nữ ($\\mu_0 > \\mu_1$)\n",
    "\n",
    "với độ tin cậy 95%"
   ]
  },
  {
   "cell_type": "code",
   "execution_count": 14,
   "metadata": {
    "Collapsed": "false"
   },
   "outputs": [],
   "source": [
    "from scipy import stats\n",
    "from statsmodels.stats import weightstats as stests"
   ]
  },
  {
   "cell_type": "code",
   "execution_count": 18,
   "metadata": {
    "Collapsed": "false"
   },
   "outputs": [
    {
     "name": "stdout",
     "output_type": "stream",
     "text": [
      "5.165260120261667 1.2005238823773684e-07\n",
      "Accept H1\n"
     ]
    }
   ],
   "source": [
    "ztest ,pval = stests.ztest(male_df['age'], x2= female_df['age'], value = 0, alternative = 'larger')\n",
    "print(ztest,float(pval))\n",
    "if float(pval) < 0.05:\n",
    "    print('Accept H1')\n",
    "else:\n",
    "    print('Accept H0')"
   ]
  },
  {
   "cell_type": "markdown",
   "metadata": {},
   "source": [
    "Vậy là dựa vào kiểm định và trực quan thì ta đều có kết luận là độ tuổi trung bình trong nghiên cứu của nam giới cao hơn"
   ]
  }
 ],
 "metadata": {
  "kernelspec": {
   "display_name": "Python 3",
   "language": "python",
   "name": "python3"
  },
  "language_info": {
   "codemirror_mode": {
    "name": "ipython",
    "version": 3
   },
   "file_extension": ".py",
   "mimetype": "text/x-python",
   "name": "python",
   "nbconvert_exporter": "python",
   "pygments_lexer": "ipython3",
   "version": "3.7.7"
  }
 },
 "nbformat": 4,
 "nbformat_minor": 4
}
