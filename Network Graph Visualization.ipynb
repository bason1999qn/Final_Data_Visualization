{
 "cells": [
  {
   "cell_type": "code",
   "execution_count": 9,
   "metadata": {},
   "outputs": [
    {
     "name": "stdout",
     "output_type": "stream",
     "text": [
      "Requirement already satisfied: plotly in /home/cpu12449/anaconda3/lib/python3.6/site-packages (4.9.0)\r\n",
      "Requirement already satisfied: retrying>=1.3.3 in /home/cpu12449/anaconda3/lib/python3.6/site-packages (from plotly) (1.3.3)\r\n",
      "Requirement already satisfied: six in /home/cpu12449/anaconda3/lib/python3.6/site-packages (from plotly) (1.12.0)\r\n"
     ]
    }
   ],
   "source": [
    "!pip install plotly\n",
    "\n",
    "import numpy as np\n",
    "import pandas as pd\n",
    "import matplotlib.pyplot as plt\n",
    "import plotly.graph_objects as go\n",
    "import networkx as nx\n",
    "\n",
    "%matplotlib inline"
   ]
  },
  {
   "cell_type": "markdown",
   "metadata": {},
   "source": [
    "### Read csv data"
   ]
  },
  {
   "cell_type": "code",
   "execution_count": 182,
   "metadata": {},
   "outputs": [
    {
     "data": {
      "text/html": [
       "<div>\n",
       "<style scoped>\n",
       "    .dataframe tbody tr th:only-of-type {\n",
       "        vertical-align: middle;\n",
       "    }\n",
       "\n",
       "    .dataframe tbody tr th {\n",
       "        vertical-align: top;\n",
       "    }\n",
       "\n",
       "    .dataframe thead th {\n",
       "        text-align: right;\n",
       "    }\n",
       "</style>\n",
       "<table border=\"1\" class=\"dataframe\">\n",
       "  <thead>\n",
       "    <tr style=\"text-align: right;\">\n",
       "      <th></th>\n",
       "      <th>id</th>\n",
       "      <th>scientist</th>\n",
       "      <th>Vietnamese Name</th>\n",
       "      <th>field.1</th>\n",
       "      <th>field.2</th>\n",
       "      <th>au.key</th>\n",
       "      <th>au.solo</th>\n",
       "      <th>au.coll</th>\n",
       "      <th>au.uniq</th>\n",
       "      <th>au.vn</th>\n",
       "      <th>...</th>\n",
       "      <th>age</th>\n",
       "      <th>restime</th>\n",
       "      <th>sex</th>\n",
       "      <th>ceb</th>\n",
       "      <th>affil1</th>\n",
       "      <th>affil2</th>\n",
       "      <th>Full affiliation name</th>\n",
       "      <th>prov/coun</th>\n",
       "      <th>region</th>\n",
       "      <th>intexp</th>\n",
       "    </tr>\n",
       "  </thead>\n",
       "  <tbody>\n",
       "    <tr>\n",
       "      <th>0</th>\n",
       "      <td>s001</td>\n",
       "      <td>nguyenngocanh</td>\n",
       "      <td>Nguyen Ngoc Anh</td>\n",
       "      <td>econ</td>\n",
       "      <td>manag</td>\n",
       "      <td>3</td>\n",
       "      <td>0</td>\n",
       "      <td>3</td>\n",
       "      <td>11</td>\n",
       "      <td>9</td>\n",
       "      <td>...</td>\n",
       "      <td>46</td>\n",
       "      <td>20</td>\n",
       "      <td>M</td>\n",
       "      <td>1.0</td>\n",
       "      <td>Depocen</td>\n",
       "      <td>NaN</td>\n",
       "      <td>Dev and Pol Res Center</td>\n",
       "      <td>HN</td>\n",
       "      <td>North</td>\n",
       "      <td>NaN</td>\n",
       "    </tr>\n",
       "    <tr>\n",
       "      <th>1</th>\n",
       "      <td>s002</td>\n",
       "      <td>phamntloan</td>\n",
       "      <td>Pham N T Loan</td>\n",
       "      <td>econ</td>\n",
       "      <td>manag</td>\n",
       "      <td>2</td>\n",
       "      <td>1</td>\n",
       "      <td>1</td>\n",
       "      <td>4</td>\n",
       "      <td>1</td>\n",
       "      <td>...</td>\n",
       "      <td>30</td>\n",
       "      <td>4</td>\n",
       "      <td>F</td>\n",
       "      <td>2.0</td>\n",
       "      <td>BUH</td>\n",
       "      <td>NaN</td>\n",
       "      <td>Banking Univ HCM</td>\n",
       "      <td>HCM</td>\n",
       "      <td>South</td>\n",
       "      <td>NaN</td>\n",
       "    </tr>\n",
       "    <tr>\n",
       "      <th>2</th>\n",
       "      <td>s003</td>\n",
       "      <td>vuongquanhoang</td>\n",
       "      <td>Vuong Quan Hoang</td>\n",
       "      <td>econ</td>\n",
       "      <td>health</td>\n",
       "      <td>23</td>\n",
       "      <td>11</td>\n",
       "      <td>2</td>\n",
       "      <td>12</td>\n",
       "      <td>10</td>\n",
       "      <td>...</td>\n",
       "      <td>46</td>\n",
       "      <td>20</td>\n",
       "      <td>M</td>\n",
       "      <td>3.0</td>\n",
       "      <td>FPTU</td>\n",
       "      <td>FSB</td>\n",
       "      <td>FBT School of Business</td>\n",
       "      <td>HN</td>\n",
       "      <td>North</td>\n",
       "      <td>NaN</td>\n",
       "    </tr>\n",
       "    <tr>\n",
       "      <th>3</th>\n",
       "      <td>s004</td>\n",
       "      <td>nguyenvietcuong</td>\n",
       "      <td>Nguyen Viet Cuong</td>\n",
       "      <td>econ</td>\n",
       "      <td>pol</td>\n",
       "      <td>37</td>\n",
       "      <td>23</td>\n",
       "      <td>14</td>\n",
       "      <td>26</td>\n",
       "      <td>15</td>\n",
       "      <td>...</td>\n",
       "      <td>41</td>\n",
       "      <td>15</td>\n",
       "      <td>M</td>\n",
       "      <td>4.0</td>\n",
       "      <td>NEU</td>\n",
       "      <td>IPMM</td>\n",
       "      <td>Inst Pub Pol &amp; Manag, Natl Econ Univ</td>\n",
       "      <td>HN</td>\n",
       "      <td>North</td>\n",
       "      <td>NaN</td>\n",
       "    </tr>\n",
       "    <tr>\n",
       "      <th>4</th>\n",
       "      <td>s005</td>\n",
       "      <td>giangthanhlong</td>\n",
       "      <td>Giang Thanh Long</td>\n",
       "      <td>pol</td>\n",
       "      <td>econ</td>\n",
       "      <td>11</td>\n",
       "      <td>4</td>\n",
       "      <td>7</td>\n",
       "      <td>12</td>\n",
       "      <td>8</td>\n",
       "      <td>...</td>\n",
       "      <td>42</td>\n",
       "      <td>15</td>\n",
       "      <td>M</td>\n",
       "      <td>4.0</td>\n",
       "      <td>NEU</td>\n",
       "      <td>IPMM</td>\n",
       "      <td>Natl Econ Univ</td>\n",
       "      <td>HN</td>\n",
       "      <td>North</td>\n",
       "      <td>NaN</td>\n",
       "    </tr>\n",
       "  </tbody>\n",
       "</table>\n",
       "<p>5 rows × 25 columns</p>\n",
       "</div>"
      ],
      "text/plain": [
       "     id        scientist    Vietnamese Name field.1 field.2  au.key  au.solo  \\\n",
       "0  s001    nguyenngocanh   Nguyen Ngoc Anh     econ   manag       3        0   \n",
       "1  s002       phamntloan     Pham N T Loan     econ   manag       2        1   \n",
       "2  s003   vuongquanhoang   Vuong Quan Hoang    econ  health      23       11   \n",
       "3  s004  nguyenvietcuong  Nguyen Viet Cuong    econ     pol      37       23   \n",
       "4  s005   giangthanhlong   Giang Thanh Long     pol    econ      11        4   \n",
       "\n",
       "   au.coll  au.uniq  au.vn  ...  age  restime  sex  ceb   affil1  affil2  \\\n",
       "0        3       11      9  ...   46       20    M  1.0  Depocen     NaN   \n",
       "1        1        4      1  ...   30        4    F  2.0     BUH      NaN   \n",
       "2        2       12     10  ...   46       20    M  3.0     FPTU     FSB   \n",
       "3       14       26     15  ...   41       15    M  4.0      NEU    IPMM   \n",
       "4        7       12      8  ...   42       15    M  4.0      NEU    IPMM   \n",
       "\n",
       "                  Full affiliation name prov/coun  region intexp  \n",
       "0                Dev and Pol Res Center        HN   North    NaN  \n",
       "1                      Banking Univ HCM       HCM   South    NaN  \n",
       "2                FBT School of Business        HN   North    NaN  \n",
       "3  Inst Pub Pol & Manag, Natl Econ Univ        HN   North    NaN  \n",
       "4                        Natl Econ Univ        HN   North    NaN  \n",
       "\n",
       "[5 rows x 25 columns]"
      ]
     },
     "execution_count": 182,
     "metadata": {},
     "output_type": "execute_result"
    }
   ],
   "source": [
    "data_df = pd.read_csv('data.csv', encoding = \"ISO-8859-1\")\n",
    "data_df.head()"
   ]
  },
  {
   "cell_type": "code",
   "execution_count": 184,
   "metadata": {},
   "outputs": [
    {
     "data": {
      "text/html": [
       "<div>\n",
       "<style scoped>\n",
       "    .dataframe tbody tr th:only-of-type {\n",
       "        vertical-align: middle;\n",
       "    }\n",
       "\n",
       "    .dataframe tbody tr th {\n",
       "        vertical-align: top;\n",
       "    }\n",
       "\n",
       "    .dataframe thead th {\n",
       "        text-align: right;\n",
       "    }\n",
       "</style>\n",
       "<table border=\"1\" class=\"dataframe\">\n",
       "  <thead>\n",
       "    <tr style=\"text-align: right;\">\n",
       "      <th></th>\n",
       "      <th>from</th>\n",
       "      <th>to</th>\n",
       "      <th>weight</th>\n",
       "      <th>type</th>\n",
       "    </tr>\n",
       "  </thead>\n",
       "  <tbody>\n",
       "    <tr>\n",
       "      <th>0</th>\n",
       "      <td>s001</td>\n",
       "      <td>s073</td>\n",
       "      <td>1</td>\n",
       "      <td>colla</td>\n",
       "    </tr>\n",
       "    <tr>\n",
       "      <th>1</th>\n",
       "      <td>s001</td>\n",
       "      <td>s072</td>\n",
       "      <td>1</td>\n",
       "      <td>colla</td>\n",
       "    </tr>\n",
       "    <tr>\n",
       "      <th>2</th>\n",
       "      <td>s001</td>\n",
       "      <td>s054</td>\n",
       "      <td>1</td>\n",
       "      <td>colla</td>\n",
       "    </tr>\n",
       "    <tr>\n",
       "      <th>3</th>\n",
       "      <td>s004</td>\n",
       "      <td>s046</td>\n",
       "      <td>1</td>\n",
       "      <td>colla</td>\n",
       "    </tr>\n",
       "    <tr>\n",
       "      <th>4</th>\n",
       "      <td>s004</td>\n",
       "      <td>s080</td>\n",
       "      <td>1</td>\n",
       "      <td>colla</td>\n",
       "    </tr>\n",
       "  </tbody>\n",
       "</table>\n",
       "</div>"
      ],
      "text/plain": [
       "   from    to  weight   type\n",
       "0  s001  s073       1  colla\n",
       "1  s001  s072       1  colla\n",
       "2  s001  s054       1  colla\n",
       "3  s004  s046       1  colla\n",
       "4  s004  s080       1  colla"
      ]
     },
     "execution_count": 184,
     "metadata": {},
     "output_type": "execute_result"
    }
   ],
   "source": [
    "link_df = pd.read_csv('link_data.csv', encoding='utf-8')\n",
    "link_df.head()"
   ]
  },
  {
   "cell_type": "markdown",
   "metadata": {},
   "source": [
    "### Create network graph"
   ]
  },
  {
   "cell_type": "code",
   "execution_count": 209,
   "metadata": {},
   "outputs": [],
   "source": [
    "def get_name(id_):\n",
    "    return data_df[data_df.id == id_]['Vietnamese Name'].item().strip()\n",
    "\n",
    "\n",
    "social_sciences = nx.Graph()\n",
    "\n",
    "unused_nodes = set()\n",
    "\n",
    "for id_, name, n_article in data_df[['id', 'Vietnamese Name', 'ttlitems']].values.tolist():\n",
    "    if n_article >= 5:\n",
    "        social_sciences.add_node(name.strip(), size = n_article)\n",
    "    else:\n",
    "        unused_nodes.add(id_)\n",
    "    \n",
    "for f, t, w in link_df[['from', 'to', 'weight']].values.tolist():\n",
    "    if f not in unused_nodes and t not in unused_nodes:\n",
    "        social_sciences.add_edge(get_name(f), get_name(t), weight=w)\n",
    "        \n",
    "# Get positions for the nodes in G\n",
    "pos_ = nx.spring_layout(social_sciences)"
   ]
  },
  {
   "cell_type": "code",
   "execution_count": 211,
   "metadata": {},
   "outputs": [],
   "source": [
    "# Custom function to create an edge between node x and node y, with a given text and width\n",
    "def make_edge(x, y, text, width):\n",
    "    return  go.Scatter(x         = x,\n",
    "                       y         = y,\n",
    "                       line      = dict(width = width,\n",
    "                                   color = 'cornflowerblue'),\n",
    "                       hoverinfo = 'text',\n",
    "                       text      = ([text]),\n",
    "                       mode      = 'lines')\n",
    "\n",
    "# For each edge, make an edge_trace, append to list\n",
    "edge_trace = []\n",
    "for edge in social_sciences.edges():\n",
    "    if social_sciences.edges()[edge]['weight'] > 0:\n",
    "        char_1 = edge[0]\n",
    "        char_2 = edge[1]\n",
    "        x0, y0 = pos_[char_1]\n",
    "        x1, y1 = pos_[char_2]\n",
    "        text   = char_1 + '--' + char_2 + ': ' + str(social_sciences.edges()[edge]['weight'])\n",
    "        trace  = make_edge([x0, x1, None], [y0, y1, None], text, \n",
    "                           width = social_sciences.edges()[edge]['weight'])\n",
    "        edge_trace.append(trace)"
   ]
  },
  {
   "cell_type": "code",
   "execution_count": 212,
   "metadata": {},
   "outputs": [],
   "source": [
    "node_trace = go.Scatter(x         = [],\n",
    "                        y         = [],\n",
    "                        text      = [],\n",
    "                        textposition = \"top center\",\n",
    "                        textfont_size = 10,\n",
    "                        mode      = 'markers+text',\n",
    "                        hoverinfo = 'text',\n",
    "                        marker    = dict(color = [], size = [], line  = None))\n",
    "\n",
    "# For each node in graph, get the position and size and add to the node_trace\n",
    "for node in social_sciences.nodes():\n",
    "    x, y = pos_[node]\n",
    "    node_trace['x'] += tuple([x])\n",
    "    node_trace['y'] += tuple([y])\n",
    "    node_trace['marker']['color'] += tuple(['cornflowerblue'])\n",
    "    node_trace['marker']['size'] += tuple([social_sciences.nodes()[node]['size']])\n",
    "    node_trace['text'] += tuple(['<b>' + node + '</b>'])"
   ]
  },
  {
   "cell_type": "markdown",
   "metadata": {},
   "source": [
    "### Visualize graph"
   ]
  },
  {
   "cell_type": "code",
   "execution_count": 215,
   "metadata": {},
   "outputs": [
    {
     "data": {
      "application/vnd.plotly.v1+json": {
       "config": {
        "plotlyServerURL": "https://plot.ly"
       },
       "data": [
        {
         "hoverinfo": "text",
         "line": {
          "color": "cornflowerblue",
          "width": 2
         },
         "mode": "lines",
         "text": [
          "Nguyen Ngoc Anh--Tran Nam Binh: 2"
         ],
         "type": "scatter",
         "x": [
          -0.09430763719515008,
          -0.08146290710109166,
          null
         ],
         "y": [
          -0.797366703377236,
          -0.7725777121024894,
          null
         ]
        },
        {
         "hoverinfo": "text",
         "line": {
          "color": "cornflowerblue",
          "width": 1
         },
         "mode": "lines",
         "text": [
          "Vuong Quan Hoang--Pham Hung Hiep: 1"
         ],
         "type": "scatter",
         "x": [
          0.759660756453599,
          0.7613383026291424,
          null
         ],
         "y": [
          -0.4207433939351335,
          -0.3760649264159527,
          null
         ]
        },
        {
         "hoverinfo": "text",
         "line": {
          "color": "cornflowerblue",
          "width": 5
         },
         "mode": "lines",
         "text": [
          "Nguyen Viet Cuong--Tran Ngoc Anh: 5"
         ],
         "type": "scatter",
         "x": [
          -0.2641461286340906,
          -0.2811187308165352,
          null
         ],
         "y": [
          -0.17816487094744135,
          -0.1546187347915996,
          null
         ]
        },
        {
         "hoverinfo": "text",
         "line": {
          "color": "cornflowerblue",
          "width": 1
         },
         "mode": "lines",
         "text": [
          "Nguyen Viet Cuong--Tran Quang Tuyen: 1"
         ],
         "type": "scatter",
         "x": [
          -0.2641461286340906,
          -0.19025490674706932,
          null
         ],
         "y": [
          -0.17816487094744135,
          -0.20121677749153635,
          null
         ]
        },
        {
         "hoverinfo": "text",
         "line": {
          "color": "cornflowerblue",
          "width": 1
         },
         "mode": "lines",
         "text": [
          "Nguyen Viet Cuong--Vu Van Huong: 1"
         ],
         "type": "scatter",
         "x": [
          -0.2641461286340906,
          -0.20634665933250068,
          null
         ],
         "y": [
          -0.17816487094744135,
          -0.1956615023437084,
          null
         ]
        },
        {
         "hoverinfo": "text",
         "line": {
          "color": "cornflowerblue",
          "width": 2
         },
         "mode": "lines",
         "text": [
          "Nguyen Viet Cuong--Pham Thu Phuong: 2"
         ],
         "type": "scatter",
         "x": [
          -0.2641461286340906,
          -0.3122731442443352,
          null
         ],
         "y": [
          -0.17816487094744135,
          -0.1744004290541429,
          null
         ]
        },
        {
         "hoverinfo": "text",
         "line": {
          "color": "cornflowerblue",
          "width": 1
         },
         "mode": "lines",
         "text": [
          "Nguyen Viet Cuong--Vu Hoang Linh: 1"
         ],
         "type": "scatter",
         "x": [
          -0.2641461286340906,
          -0.32152590623486405,
          null
         ],
         "y": [
          -0.17816487094744135,
          -0.2158754971784594,
          null
         ]
        },
        {
         "hoverinfo": "text",
         "line": {
          "color": "cornflowerblue",
          "width": 2
         },
         "mode": "lines",
         "text": [
          "Nguyen Viet Cuong--Giang Thanh Long: 2"
         ],
         "type": "scatter",
         "x": [
          -0.2641461286340906,
          -0.23424208158924267,
          null
         ],
         "y": [
          -0.17816487094744135,
          -0.18634794935299837,
          null
         ]
        },
        {
         "hoverinfo": "text",
         "line": {
          "color": "cornflowerblue",
          "width": 1
         },
         "mode": "lines",
         "text": [
          "Giang Thanh Long--Tran Quang Tuyen: 1"
         ],
         "type": "scatter",
         "x": [
          -0.23424208158924267,
          -0.19025490674706932,
          null
         ],
         "y": [
          -0.18634794935299837,
          -0.20121677749153635,
          null
         ]
        },
        {
         "hoverinfo": "text",
         "line": {
          "color": "cornflowerblue",
          "width": 1
         },
         "mode": "lines",
         "text": [
          "Giang Thanh Long--Vu Van Huong: 1"
         ],
         "type": "scatter",
         "x": [
          -0.23424208158924267,
          -0.20634665933250068,
          null
         ],
         "y": [
          -0.18634794935299837,
          -0.1956615023437084,
          null
         ]
        },
        {
         "hoverinfo": "text",
         "line": {
          "color": "cornflowerblue",
          "width": 1
         },
         "mode": "lines",
         "text": [
          "Pham Hung Hiep--Tran Thi Ly: 1"
         ],
         "type": "scatter",
         "x": [
          0.7613383026291424,
          0.7770719701506537,
          null
         ],
         "y": [
          -0.3760649264159527,
          -0.32994385090776296,
          null
         ]
        },
        {
         "hoverinfo": "text",
         "line": {
          "color": "cornflowerblue",
          "width": 3
         },
         "mode": "lines",
         "text": [
          "Nguyen Van Thang--Le Quang Canh: 3"
         ],
         "type": "scatter",
         "x": [
          -0.2539205240523545,
          -0.2356490634198028,
          null
         ],
         "y": [
          0.37730771855578243,
          0.39333561039824905,
          null
         ]
        },
        {
         "hoverinfo": "text",
         "line": {
          "color": "cornflowerblue",
          "width": 1
         },
         "mode": "lines",
         "text": [
          "Nguyen Van Thang--Le QuangThanh: 1"
         ],
         "type": "scatter",
         "x": [
          -0.2539205240523545,
          -0.2672487516028901,
          null
         ],
         "y": [
          0.37730771855578243,
          0.41143733701052765,
          null
         ]
        },
        {
         "hoverinfo": "text",
         "line": {
          "color": "cornflowerblue",
          "width": 1
         },
         "mode": "lines",
         "text": [
          "Luu Trong Tuan--Luu Thi Bich Ngoc: 1"
         ],
         "type": "scatter",
         "x": [
          0.4056083457591975,
          0.3833719225720036,
          null
         ],
         "y": [
          -0.8459229216174387,
          -0.8065480235053023,
          null
         ]
        },
        {
         "hoverinfo": "text",
         "line": {
          "color": "cornflowerblue",
          "width": 2
         },
         "mode": "lines",
         "text": [
          "Pham Van Ha--Nguyen Thi Minh Hoa: 2"
         ],
         "type": "scatter",
         "x": [
          0.17052475479665646,
          0.14402545816593407,
          null
         ],
         "y": [
          0.23719602610173604,
          0.22898784635857927,
          null
         ]
        },
        {
         "hoverinfo": "text",
         "line": {
          "color": "cornflowerblue",
          "width": 1
         },
         "mode": "lines",
         "text": [
          "Pham Van Ha--Che Nhu Tuong: 1"
         ],
         "type": "scatter",
         "x": [
          0.17052475479665646,
          0.14133982444252646,
          null
         ],
         "y": [
          0.23719602610173604,
          0.2570554371239945,
          null
         ]
        },
        {
         "hoverinfo": "text",
         "line": {
          "color": "cornflowerblue",
          "width": 2
         },
         "mode": "lines",
         "text": [
          "Nguyen Thi Minh Hoa--Che Nhu Tuong: 2"
         ],
         "type": "scatter",
         "x": [
          0.14402545816593407,
          0.14133982444252646,
          null
         ],
         "y": [
          0.22898784635857927,
          0.2570554371239945,
          null
         ]
        },
        {
         "hoverinfo": "text",
         "line": {
          "color": "cornflowerblue",
          "width": 2
         },
         "mode": "lines",
         "text": [
          "Nguyen Thu Thuy--Cao Dinh Kien: 2"
         ],
         "type": "scatter",
         "x": [
          -0.20133547604186175,
          -0.1936787802898998,
          null
         ],
         "y": [
          0.8537049328969747,
          0.8156511776786198,
          null
         ]
        },
        {
         "hoverinfo": "text",
         "line": {
          "color": "cornflowerblue",
          "width": 6
         },
         "mode": "lines",
         "text": [
          "Pham Hoang Hai--Le Trinh Hai: 6"
         ],
         "type": "scatter",
         "x": [
          0.2753275715890364,
          0.2826712486324958,
          null
         ],
         "y": [
          0.7271418678255883,
          0.7495364891679199,
          null
         ]
        },
        {
         "hoverinfo": "text",
         "line": {
          "color": "cornflowerblue",
          "width": 10
         },
         "mode": "lines",
         "text": [
          "Tran Quang Tuyen--Vu Van Huong: 10"
         ],
         "type": "scatter",
         "x": [
          -0.19025490674706932,
          -0.20634665933250068,
          null
         ],
         "y": [
          -0.20121677749153635,
          -0.1956615023437084,
          null
         ]
        },
        {
         "hoverinfo": "text",
         "line": {
          "color": "cornflowerblue",
          "width": 3
         },
         "mode": "lines",
         "text": [
          "Tran Quang Tuyen--Doan Thanh Tinh: 3"
         ],
         "type": "scatter",
         "x": [
          -0.19025490674706932,
          -0.19570693092197286,
          null
         ],
         "y": [
          -0.20121677749153635,
          -0.22543018862203085,
          null
         ]
        },
        {
         "hoverinfo": "text",
         "line": {
          "color": "cornflowerblue",
          "width": 1
         },
         "mode": "lines",
         "text": [
          "Tran Quang Tuyen--Nguyen Cao Nam: 1"
         ],
         "type": "scatter",
         "x": [
          -0.19025490674706932,
          -0.12004118160204282,
          null
         ],
         "y": [
          -0.20121677749153635,
          -0.23845857991985733,
          null
         ]
        },
        {
         "hoverinfo": "text",
         "line": {
          "color": "cornflowerblue",
          "width": 3
         },
         "mode": "lines",
         "text": [
          "Vu Van Huong--Doan Thanh Tinh: 3"
         ],
         "type": "scatter",
         "x": [
          -0.20634665933250068,
          -0.19570693092197286,
          null
         ],
         "y": [
          -0.1956615023437084,
          -0.22543018862203085,
          null
         ]
        },
        {
         "hoverinfo": "text",
         "line": {
          "color": "cornflowerblue",
          "width": 4
         },
         "mode": "lines",
         "text": [
          "Nguyen Thi Minh Trang--Nguyen Dinh Tho: 4"
         ],
         "type": "scatter",
         "x": [
          -0.43210899361565425,
          -0.4178527700260114,
          null
         ],
         "y": [
          -0.8836326116129914,
          -0.8585717746834806,
          null
         ]
        },
        {
         "hoverinfo": "text",
         "line": {
          "color": "cornflowerblue",
          "width": 5
         },
         "mode": "lines",
         "text": [
          "Tran Thanh Thuy--Tran Duc Thach: 5"
         ],
         "type": "scatter",
         "x": [
          -0.06154461952425191,
          -0.049182938809825834,
          null
         ],
         "y": [
          0.026301633047071248,
          0.013326113235859995,
          null
         ]
        },
        {
         "hoverinfo": "text",
         "line": {
          "color": "cornflowerblue",
          "width": 5
         },
         "mode": "lines",
         "text": [
          "Tran Thanh Thuy--Tran Thu Ha: 5"
         ],
         "type": "scatter",
         "x": [
          -0.06154461952425191,
          -0.07975135071802567,
          null
         ],
         "y": [
          0.026301633047071248,
          0.02031821051439989,
          null
         ]
        },
        {
         "hoverinfo": "text",
         "line": {
          "color": "cornflowerblue",
          "width": 5
         },
         "mode": "lines",
         "text": [
          "Tran Thanh Thuy--Tran Tuan: 5"
         ],
         "type": "scatter",
         "x": [
          -0.06154461952425191,
          -0.06691529989950845,
          null
         ],
         "y": [
          0.026301633047071248,
          0.008713649320493065,
          null
         ]
        },
        {
         "hoverinfo": "text",
         "line": {
          "color": "cornflowerblue",
          "width": 1
         },
         "mode": "lines",
         "text": [
          "Tran Thanh Thuy--Nguyen Thu Trang: 1"
         ],
         "type": "scatter",
         "x": [
          -0.06154461952425191,
          -0.0627769116977172,
          null
         ],
         "y": [
          0.026301633047071248,
          0.05111835656904879,
          null
         ]
        },
        {
         "hoverinfo": "text",
         "line": {
          "color": "cornflowerblue",
          "width": 1
         },
         "mode": "lines",
         "text": [
          "Nguyen Tien Thong--Nguyen Van Giap: 1"
         ],
         "type": "scatter",
         "x": [
          -0.48591139789568377,
          -0.46037525781904065,
          null
         ],
         "y": [
          0.6898648977131573,
          0.6479634747483586,
          null
         ]
        },
        {
         "hoverinfo": "text",
         "line": {
          "color": "cornflowerblue",
          "width": 5
         },
         "mode": "lines",
         "text": [
          "Ha Minh Tuan--Nguyen Cao Nam: 5"
         ],
         "type": "scatter",
         "x": [
          -0.09498120734369601,
          -0.12004118160204282,
          null
         ],
         "y": [
          -0.25399180461674414,
          -0.23845857991985733,
          null
         ]
        },
        {
         "hoverinfo": "text",
         "line": {
          "color": "cornflowerblue",
          "width": 2
         },
         "mode": "lines",
         "text": [
          "Nghiem Thi Ha Van--Khuat Thi Hai Oanh: 2"
         ],
         "type": "scatter",
         "x": [
          0.3536632088077327,
          0.3784556788725562,
          null
         ],
         "y": [
          -0.27977733938217497,
          -0.2988470713909631,
          null
         ]
        },
        {
         "hoverinfo": "text",
         "line": {
          "color": "cornflowerblue",
          "width": 5
         },
         "mode": "lines",
         "text": [
          "Nguyen Lan Cuong--Nguyen Thi Kim Thuy: 5"
         ],
         "type": "scatter",
         "x": [
          -0.9431855536806447,
          -0.9640988264982516,
          null
         ],
         "y": [
          0.3337725543912006,
          0.3391059900654668,
          null
         ]
        },
        {
         "hoverinfo": "text",
         "line": {
          "color": "cornflowerblue",
          "width": 1
         },
         "mode": "lines",
         "text": [
          "Nguyen Thi Thuy Minh--Nguyen Thi Hanh: 1"
         ],
         "type": "scatter",
         "x": [
          0.7621018931454243,
          0.7701087034642491,
          null
         ],
         "y": [
          0.5458923787367704,
          0.5116907765790562,
          null
         ]
        },
        {
         "hoverinfo": "text",
         "line": {
          "color": "cornflowerblue",
          "width": 1
         },
         "mode": "lines",
         "text": [
          "Pham Si Cong--Nguyen Thanh Xuan: 1"
         ],
         "type": "scatter",
         "x": [
          0.05107805705259308,
          0.019054050729982088,
          null
         ],
         "y": [
          0.9057331645614763,
          0.9194813402780408,
          null
         ]
        },
        {
         "hoverinfo": "text",
         "line": {
          "color": "cornflowerblue",
          "width": 3
         },
         "mode": "lines",
         "text": [
          "Vu Song Ha--Hoang Tu Anh: 3"
         ],
         "type": "scatter",
         "x": [
          0.4423985751046625,
          0.42008251421453907,
          null
         ],
         "y": [
          0.20072042376131907,
          0.21712896182367963,
          null
         ]
        },
        {
         "hoverinfo": "text",
         "line": {
          "color": "cornflowerblue",
          "width": 1
         },
         "mode": "lines",
         "text": [
          "Vu Song Ha--Quach Thu Trang: 1"
         ],
         "type": "scatter",
         "x": [
          0.4423985751046625,
          0.47021629443299784,
          null
         ],
         "y": [
          0.20072042376131907,
          0.2248251150398005,
          null
         ]
        },
        {
         "hoverinfo": "text",
         "line": {
          "color": "cornflowerblue",
          "width": 1
         },
         "mode": "lines",
         "text": [
          "Hoang Tu Anh--Quach Thu Trang: 1"
         ],
         "type": "scatter",
         "x": [
          0.42008251421453907,
          0.47021629443299784,
          null
         ],
         "y": [
          0.21712896182367963,
          0.2248251150398005,
          null
         ]
        },
        {
         "hoverinfo": "text",
         "line": {
          "color": "cornflowerblue",
          "width": 4
         },
         "mode": "lines",
         "text": [
          "Hoang Tu Anh--Tran Hung Minh: 4"
         ],
         "type": "scatter",
         "x": [
          0.42008251421453907,
          0.3970714813895949,
          null
         ],
         "y": [
          0.21712896182367963,
          0.2304410854557004,
          null
         ]
        },
        {
         "hoverinfo": "text",
         "line": {
          "color": "cornflowerblue",
          "width": 2
         },
         "mode": "lines",
         "text": [
          "Pham Van Cu--Vu Kim Chi: 2"
         ],
         "type": "scatter",
         "x": [
          0.6297593650551384,
          0.6050129002412978,
          null
         ],
         "y": [
          -0.661269396218847,
          -0.6344247297124611,
          null
         ]
        },
        {
         "hoverinfo": "text",
         "line": {
          "color": "cornflowerblue",
          "width": 1
         },
         "mode": "lines",
         "text": [
          "Tran Thi Ly--Pham Thi Lien: 1"
         ],
         "type": "scatter",
         "x": [
          0.7770719701506537,
          0.8269267106687558,
          null
         ],
         "y": [
          -0.32994385090776296,
          -0.3179645953446999,
          null
         ]
        },
        {
         "hoverinfo": "text",
         "line": {
          "color": "cornflowerblue",
          "width": 1
         },
         "mode": "lines",
         "text": [
          "Le QuangThanh--Le Quang Canh: 1"
         ],
         "type": "scatter",
         "x": [
          -0.2672487516028901,
          -0.2356490634198028,
          null
         ],
         "y": [
          0.41143733701052765,
          0.39333561039824905,
          null
         ]
        },
        {
         "hoverinfo": "text",
         "line": {
          "color": "cornflowerblue",
          "width": 8
         },
         "mode": "lines",
         "text": [
          "Tran Tuan--Tran Duc Thach: 8"
         ],
         "type": "scatter",
         "x": [
          -0.06691529989950845,
          -0.049182938809825834,
          null
         ],
         "y": [
          0.008713649320493065,
          0.013326113235859995,
          null
         ]
        },
        {
         "hoverinfo": "text",
         "line": {
          "color": "cornflowerblue",
          "width": 9
         },
         "mode": "lines",
         "text": [
          "Tran Tuan--Tran Thu Ha: 9"
         ],
         "type": "scatter",
         "x": [
          -0.06691529989950845,
          -0.07975135071802567,
          null
         ],
         "y": [
          0.008713649320493065,
          0.02031821051439989,
          null
         ]
        },
        {
         "hoverinfo": "text",
         "line": {
          "color": "cornflowerblue",
          "width": 1
         },
         "mode": "lines",
         "text": [
          "Tran Tuan--Nguyen Thu Trang: 1"
         ],
         "type": "scatter",
         "x": [
          -0.06691529989950845,
          -0.0627769116977172,
          null
         ],
         "y": [
          0.008713649320493065,
          0.05111835656904879,
          null
         ]
        },
        {
         "hoverinfo": "text",
         "line": {
          "color": "cornflowerblue",
          "width": 1
         },
         "mode": "lines",
         "text": [
          "Tran Thu Ha--Nguyen Thu Trang: 1"
         ],
         "type": "scatter",
         "x": [
          -0.07975135071802567,
          -0.0627769116977172,
          null
         ],
         "y": [
          0.02031821051439989,
          0.05111835656904879,
          null
         ]
        },
        {
         "hoverinfo": "text",
         "line": {
          "color": "cornflowerblue",
          "width": 2
         },
         "mode": "lines",
         "text": [
          "Tran Thu Ha--Tran Duc Thach: 2"
         ],
         "type": "scatter",
         "x": [
          -0.07975135071802567,
          -0.049182938809825834,
          null
         ],
         "y": [
          0.02031821051439989,
          0.013326113235859995,
          null
         ]
        },
        {
         "hoverinfo": "text",
         "line": {
          "color": "cornflowerblue",
          "width": 1
         },
         "mode": "lines",
         "text": [
          "Tran Duc Thach--Nguyen Thu Trang: 1"
         ],
         "type": "scatter",
         "x": [
          -0.049182938809825834,
          -0.0627769116977172,
          null
         ],
         "y": [
          0.013326113235859995,
          0.05111835656904879,
          null
         ]
        },
        {
         "hoverinfo": "text",
         "marker": {
          "color": [
           "cornflowerblue",
           "cornflowerblue",
           "cornflowerblue",
           "cornflowerblue",
           "cornflowerblue",
           "cornflowerblue",
           "cornflowerblue",
           "cornflowerblue",
           "cornflowerblue",
           "cornflowerblue",
           "cornflowerblue",
           "cornflowerblue",
           "cornflowerblue",
           "cornflowerblue",
           "cornflowerblue",
           "cornflowerblue",
           "cornflowerblue",
           "cornflowerblue",
           "cornflowerblue",
           "cornflowerblue",
           "cornflowerblue",
           "cornflowerblue",
           "cornflowerblue",
           "cornflowerblue",
           "cornflowerblue",
           "cornflowerblue",
           "cornflowerblue",
           "cornflowerblue",
           "cornflowerblue",
           "cornflowerblue",
           "cornflowerblue",
           "cornflowerblue",
           "cornflowerblue",
           "cornflowerblue",
           "cornflowerblue",
           "cornflowerblue",
           "cornflowerblue",
           "cornflowerblue",
           "cornflowerblue",
           "cornflowerblue",
           "cornflowerblue",
           "cornflowerblue",
           "cornflowerblue",
           "cornflowerblue",
           "cornflowerblue",
           "cornflowerblue",
           "cornflowerblue",
           "cornflowerblue",
           "cornflowerblue",
           "cornflowerblue",
           "cornflowerblue",
           "cornflowerblue",
           "cornflowerblue",
           "cornflowerblue",
           "cornflowerblue",
           "cornflowerblue",
           "cornflowerblue",
           "cornflowerblue",
           "cornflowerblue",
           "cornflowerblue",
           "cornflowerblue",
           "cornflowerblue",
           "cornflowerblue",
           "cornflowerblue",
           "cornflowerblue",
           "cornflowerblue",
           "cornflowerblue",
           "cornflowerblue",
           "cornflowerblue",
           "cornflowerblue",
           "cornflowerblue",
           "cornflowerblue",
           "cornflowerblue",
           "cornflowerblue",
           "cornflowerblue",
           "cornflowerblue",
           "cornflowerblue",
           "cornflowerblue",
           "cornflowerblue",
           "cornflowerblue",
           "cornflowerblue",
           "cornflowerblue",
           "cornflowerblue",
           "cornflowerblue",
           "cornflowerblue",
           "cornflowerblue"
          ],
          "size": [
           6,
           25,
           51,
           18,
           5,
           5,
           7,
           5,
           11,
           6,
           63,
           6,
           20,
           6,
           7,
           7,
           7,
           6,
           12,
           5,
           9,
           5,
           6,
           9,
           6,
           6,
           6,
           7,
           17,
           22,
           6,
           17,
           5,
           10,
           5,
           14,
           10,
           11,
           5,
           10,
           5,
           10,
           7,
           8,
           5,
           5,
           5,
           5,
           6,
           6,
           5,
           8,
           5,
           11,
           13,
           10,
           7,
           7,
           8,
           17,
           11,
           14,
           5,
           5,
           8,
           7,
           14,
           11,
           5,
           5,
           17,
           5,
           5,
           11,
           12,
           21,
           5,
           10,
           13,
           5,
           5,
           6,
           28,
           20,
           50,
           7
          ]
         },
         "mode": "markers+text",
         "text": [
          "<b>Nguyen Ngoc Anh</b>",
          "<b>Vuong Quan Hoang</b>",
          "<b>Nguyen Viet Cuong</b>",
          "<b>Giang Thanh Long</b>",
          "<b>Nguyen Thi Tuyet Mai</b>",
          "<b>Pham Hung Hiep</b>",
          "<b>Pham Quang Minh</b>",
          "<b>Tran Thi Tuyet</b>",
          "<b>Nguyen Van Thang</b>",
          "<b>Vo Tri Thanh</b>",
          "<b>Luu Trong Tuan</b>",
          "<b>Khuat Thu Hong</b>",
          "<b>Vo Xuan Vinh</b>",
          "<b>Pham Thi Thu Tra</b>",
          "<b>Tran Thu Hien</b>",
          "<b>Nguyen Phi Lan</b>",
          "<b>Vu Hoang Linh</b>",
          "<b>Tran Hoang Nhi</b>",
          "<b>Tran Ngoc Anh</b>",
          "<b>Le Dang Trung</b>",
          "<b>Do Quy Toan</b>",
          "<b>Vu Thanh Hung</b>",
          "<b>Pham Van Ha</b>",
          "<b>Nguyen Thi Minh Hoa</b>",
          "<b>Che Nhu Tuong</b>",
          "<b>Nguyen Thu Thuy</b>",
          "<b>Pham Hoang Hai</b>",
          "<b>Tran Nam Binh</b>",
          "<b>Vu Minh Khuong</b>",
          "<b>Tran Quang Tuyen</b>",
          "<b>Pham Thu Phuong</b>",
          "<b>Vu Van Huong</b>",
          "<b>Tran Van Kham</b>",
          "<b>Nguyen Thi Minh Trang</b>",
          "<b>Nguyen Dang Minh</b>",
          "<b>Nguyen Dinh Tho</b>",
          "<b>Doan Thanh Tinh</b>",
          "<b>Tran Thanh Thuy</b>",
          "<b>Le Quan</b>",
          "<b>Tran Huu Tuan</b>",
          "<b>Cao Dinh Kien</b>",
          "<b>Le Thai Ha</b>",
          "<b>Le Hong Hiep</b>",
          "<b>Nguyen Tien Thong</b>",
          "<b>Luu Thi Bich Ngoc</b>",
          "<b>Bui Ngoc Son</b>",
          "<b>Ha Minh Tuan</b>",
          "<b>Truong Dinh Thang</b>",
          "<b>Nguyen Thi Quynh Trang</b>",
          "<b>Nghiem Thi Ha Van</b>",
          "<b>Nguyen Lan Cuong</b>",
          "<b>Nguyen Thi Kim Thuy</b>",
          "<b>Nguyen Thi Tan Loc</b>",
          "<b>Khuat Thi Hai Oanh</b>",
          "<b>Nguyen Thi Thuy Minh</b>",
          "<b>Bui Thi Hong Minh</b>",
          "<b>Le Trinh Hai</b>",
          "<b>Pham Si Cong</b>",
          "<b>Nguyen Le Mai</b>",
          "<b>Nguyen Quynh Trang</b>",
          "<b>Vu Song Ha</b>",
          "<b>Hoang Tu Anh</b>",
          "<b>Quach Thu Trang</b>",
          "<b>Tran Hung Minh</b>",
          "<b>Nguyen Thi Hanh</b>",
          "<b>Pham Van Khanh</b>",
          "<b>Hoang Lan Anh</b>",
          "<b>Nguyen Ngoc Huong</b>",
          "<b>Pham Van Cu</b>",
          "<b>Vu Kim Chi</b>",
          "<b>Tran Thi Ly</b>",
          "<b>Vu Hong Tien</b>",
          "<b>Pham Thi Lien</b>",
          "<b>Nguyen Thanh Xuan</b>",
          "<b>Nguyen Dang Lam</b>",
          "<b>Nguyen Cao Nam</b>",
          "<b>Nguyen Van Giap</b>",
          "<b>Tran Van Giai Phong</b>",
          "<b>Le QuangThanh</b>",
          "<b>Nguyen Van Long</b>",
          "<b>Trinh Thi Thu</b>",
          "<b>Le Quang Canh</b>",
          "<b>Tran Tuan</b>",
          "<b>Tran Thu Ha</b>",
          "<b>Tran Duc Thach</b>",
          "<b>Nguyen Thu Trang</b>"
         ],
         "textfont": {
          "size": 10
         },
         "textposition": "top center",
         "type": "scatter",
         "x": [
          -0.09430763719515008,
          0.759660756453599,
          -0.2641461286340906,
          -0.23424208158924267,
          0.9189571104657311,
          0.7613383026291424,
          -0.7981097608773575,
          0.19757668665784633,
          -0.2539205240523545,
          -0.8761490833723283,
          0.4056083457591975,
          0.6340484810600308,
          -0.7382263784257944,
          -0.7414991352590682,
          0.3631965199824355,
          0.08835093056578994,
          -0.32152590623486405,
          -0.4456720108969665,
          -0.2811187308165352,
          0.7362850111733424,
          0.9343438575582735,
          0.821911782297005,
          0.17052475479665646,
          0.14402545816593407,
          0.14133982444252646,
          -0.20133547604186175,
          0.2753275715890364,
          -0.08146290710109166,
          0.9529793987082564,
          -0.19025490674706932,
          -0.3122731442443352,
          -0.20634665933250068,
          -0.6354920988087019,
          -0.43210899361565425,
          -0.9587884708003739,
          -0.4178527700260114,
          -0.19570693092197286,
          -0.06154461952425191,
          -0.31128885702245906,
          -0.9576059347254017,
          -0.1936787802898998,
          0.3157815689692911,
          0.8624429983239964,
          -0.48591139789568377,
          0.3833719225720036,
          -0.8358040555349675,
          -0.09498120734369601,
          -0.03596843209932978,
          -0.25452540024589715,
          0.3536632088077327,
          -0.9431855536806447,
          -0.9640988264982516,
          -0.18187589568387977,
          0.3784556788725562,
          0.7621018931454243,
          -0.9400439054583206,
          0.2826712486324958,
          0.05107805705259308,
          0.5008137989113324,
          0.5317383508315863,
          0.4423985751046625,
          0.42008251421453907,
          0.47021629443299784,
          0.3970714813895949,
          0.7701087034642491,
          -0.7576708177403916,
          -0.8822943838302779,
          0.9421908681113879,
          0.6297593650551384,
          0.6050129002412978,
          0.7770719701506537,
          0.5153799710800583,
          0.8269267106687558,
          0.019054050729982088,
          -0.6287892280292684,
          -0.12004118160204282,
          -0.46037525781904065,
          -0.5326807696763809,
          -0.2672487516028901,
          -0.5982876751485824,
          0.13984930792263306,
          -0.2356490634198028,
          -0.06691529989950845,
          -0.07975135071802567,
          -0.049182938809825834,
          -0.0627769116977172
         ],
         "y": [
          -0.797366703377236,
          -0.4207433939351335,
          -0.17816487094744135,
          -0.18634794935299837,
          -0.15556843858640604,
          -0.3760649264159527,
          -0.5013485901366778,
          -0.8904945395471547,
          0.37730771855578243,
          0.21938328509281624,
          -0.8459229216174387,
          0.5832529564161149,
          -0.6399527540500656,
          0.7059460102640257,
          0.8418499871002455,
          -0.9154778132662978,
          -0.2158754971784594,
          0.9348736744642864,
          -0.1546187347915996,
          -0.6807787524907482,
          0.11658083557519647,
          0.2904402015693417,
          0.23719602610173604,
          0.22898784635857927,
          0.2570554371239945,
          0.8537049328969747,
          0.7271418678255883,
          -0.7725777121024894,
          -0.03660777123519723,
          -0.20121677749153635,
          -0.1744004290541429,
          -0.1956615023437084,
          -0.6965893284571626,
          -0.8836326116129914,
          -0.06251407302333757,
          -0.8585717746834806,
          -0.22543018862203085,
          0.026301633047071248,
          -0.8272313073716371,
          0.09217733200303443,
          0.8156511776786198,
          -0.9180769686783306,
          -0.39865243033219355,
          0.6898648977131573,
          -0.8065480235053023,
          0.561209029980998,
          -0.25399180461674414,
          -0.9321555638120087,
          1,
          -0.27977733938217497,
          0.3337725543912006,
          0.3391059900654668,
          -0.8979026853284487,
          -0.2988470713909631,
          0.5458923787367704,
          -0.3024402258680161,
          0.7495364891679199,
          0.9057331645614763,
          0.7275473165879558,
          0.602388377396917,
          0.20072042376131907,
          0.21712896182367963,
          0.2248251150398005,
          0.2304410854557004,
          0.5116907765790562,
          0.44381646733375935,
          -0.1887272922869987,
          0.32242275918702357,
          -0.661269396218847,
          -0.6344247297124611,
          -0.32994385090776296,
          -0.7564706206958532,
          -0.3179645953446999,
          0.9194813402780408,
          0.647354478273375,
          -0.23845857991985733,
          0.6479634747483586,
          -0.7335917969342874,
          0.41143733701052765,
          0.8390479343126981,
          0.9763591221096117,
          0.39333561039824905,
          0.008713649320493065,
          0.02031821051439989,
          0.013326113235859995,
          0.05111835656904879
         ]
        }
       ],
       "layout": {
        "hovermode": "closest",
        "margin": {
         "b": 20,
         "l": 5,
         "r": 5,
         "t": 40
        },
        "paper_bgcolor": "rgba(0,0,0,0)",
        "plot_bgcolor": "rgba(0,0,0,0)",
        "showlegend": false,
        "template": {
         "data": {
          "bar": [
           {
            "error_x": {
             "color": "#2a3f5f"
            },
            "error_y": {
             "color": "#2a3f5f"
            },
            "marker": {
             "line": {
              "color": "#E5ECF6",
              "width": 0.5
             }
            },
            "type": "bar"
           }
          ],
          "barpolar": [
           {
            "marker": {
             "line": {
              "color": "#E5ECF6",
              "width": 0.5
             }
            },
            "type": "barpolar"
           }
          ],
          "carpet": [
           {
            "aaxis": {
             "endlinecolor": "#2a3f5f",
             "gridcolor": "white",
             "linecolor": "white",
             "minorgridcolor": "white",
             "startlinecolor": "#2a3f5f"
            },
            "baxis": {
             "endlinecolor": "#2a3f5f",
             "gridcolor": "white",
             "linecolor": "white",
             "minorgridcolor": "white",
             "startlinecolor": "#2a3f5f"
            },
            "type": "carpet"
           }
          ],
          "choropleth": [
           {
            "colorbar": {
             "outlinewidth": 0,
             "ticks": ""
            },
            "type": "choropleth"
           }
          ],
          "contour": [
           {
            "colorbar": {
             "outlinewidth": 0,
             "ticks": ""
            },
            "colorscale": [
             [
              0,
              "#0d0887"
             ],
             [
              0.1111111111111111,
              "#46039f"
             ],
             [
              0.2222222222222222,
              "#7201a8"
             ],
             [
              0.3333333333333333,
              "#9c179e"
             ],
             [
              0.4444444444444444,
              "#bd3786"
             ],
             [
              0.5555555555555556,
              "#d8576b"
             ],
             [
              0.6666666666666666,
              "#ed7953"
             ],
             [
              0.7777777777777778,
              "#fb9f3a"
             ],
             [
              0.8888888888888888,
              "#fdca26"
             ],
             [
              1,
              "#f0f921"
             ]
            ],
            "type": "contour"
           }
          ],
          "contourcarpet": [
           {
            "colorbar": {
             "outlinewidth": 0,
             "ticks": ""
            },
            "type": "contourcarpet"
           }
          ],
          "heatmap": [
           {
            "colorbar": {
             "outlinewidth": 0,
             "ticks": ""
            },
            "colorscale": [
             [
              0,
              "#0d0887"
             ],
             [
              0.1111111111111111,
              "#46039f"
             ],
             [
              0.2222222222222222,
              "#7201a8"
             ],
             [
              0.3333333333333333,
              "#9c179e"
             ],
             [
              0.4444444444444444,
              "#bd3786"
             ],
             [
              0.5555555555555556,
              "#d8576b"
             ],
             [
              0.6666666666666666,
              "#ed7953"
             ],
             [
              0.7777777777777778,
              "#fb9f3a"
             ],
             [
              0.8888888888888888,
              "#fdca26"
             ],
             [
              1,
              "#f0f921"
             ]
            ],
            "type": "heatmap"
           }
          ],
          "heatmapgl": [
           {
            "colorbar": {
             "outlinewidth": 0,
             "ticks": ""
            },
            "colorscale": [
             [
              0,
              "#0d0887"
             ],
             [
              0.1111111111111111,
              "#46039f"
             ],
             [
              0.2222222222222222,
              "#7201a8"
             ],
             [
              0.3333333333333333,
              "#9c179e"
             ],
             [
              0.4444444444444444,
              "#bd3786"
             ],
             [
              0.5555555555555556,
              "#d8576b"
             ],
             [
              0.6666666666666666,
              "#ed7953"
             ],
             [
              0.7777777777777778,
              "#fb9f3a"
             ],
             [
              0.8888888888888888,
              "#fdca26"
             ],
             [
              1,
              "#f0f921"
             ]
            ],
            "type": "heatmapgl"
           }
          ],
          "histogram": [
           {
            "marker": {
             "colorbar": {
              "outlinewidth": 0,
              "ticks": ""
             }
            },
            "type": "histogram"
           }
          ],
          "histogram2d": [
           {
            "colorbar": {
             "outlinewidth": 0,
             "ticks": ""
            },
            "colorscale": [
             [
              0,
              "#0d0887"
             ],
             [
              0.1111111111111111,
              "#46039f"
             ],
             [
              0.2222222222222222,
              "#7201a8"
             ],
             [
              0.3333333333333333,
              "#9c179e"
             ],
             [
              0.4444444444444444,
              "#bd3786"
             ],
             [
              0.5555555555555556,
              "#d8576b"
             ],
             [
              0.6666666666666666,
              "#ed7953"
             ],
             [
              0.7777777777777778,
              "#fb9f3a"
             ],
             [
              0.8888888888888888,
              "#fdca26"
             ],
             [
              1,
              "#f0f921"
             ]
            ],
            "type": "histogram2d"
           }
          ],
          "histogram2dcontour": [
           {
            "colorbar": {
             "outlinewidth": 0,
             "ticks": ""
            },
            "colorscale": [
             [
              0,
              "#0d0887"
             ],
             [
              0.1111111111111111,
              "#46039f"
             ],
             [
              0.2222222222222222,
              "#7201a8"
             ],
             [
              0.3333333333333333,
              "#9c179e"
             ],
             [
              0.4444444444444444,
              "#bd3786"
             ],
             [
              0.5555555555555556,
              "#d8576b"
             ],
             [
              0.6666666666666666,
              "#ed7953"
             ],
             [
              0.7777777777777778,
              "#fb9f3a"
             ],
             [
              0.8888888888888888,
              "#fdca26"
             ],
             [
              1,
              "#f0f921"
             ]
            ],
            "type": "histogram2dcontour"
           }
          ],
          "mesh3d": [
           {
            "colorbar": {
             "outlinewidth": 0,
             "ticks": ""
            },
            "type": "mesh3d"
           }
          ],
          "parcoords": [
           {
            "line": {
             "colorbar": {
              "outlinewidth": 0,
              "ticks": ""
             }
            },
            "type": "parcoords"
           }
          ],
          "pie": [
           {
            "automargin": true,
            "type": "pie"
           }
          ],
          "scatter": [
           {
            "marker": {
             "colorbar": {
              "outlinewidth": 0,
              "ticks": ""
             }
            },
            "type": "scatter"
           }
          ],
          "scatter3d": [
           {
            "line": {
             "colorbar": {
              "outlinewidth": 0,
              "ticks": ""
             }
            },
            "marker": {
             "colorbar": {
              "outlinewidth": 0,
              "ticks": ""
             }
            },
            "type": "scatter3d"
           }
          ],
          "scattercarpet": [
           {
            "marker": {
             "colorbar": {
              "outlinewidth": 0,
              "ticks": ""
             }
            },
            "type": "scattercarpet"
           }
          ],
          "scattergeo": [
           {
            "marker": {
             "colorbar": {
              "outlinewidth": 0,
              "ticks": ""
             }
            },
            "type": "scattergeo"
           }
          ],
          "scattergl": [
           {
            "marker": {
             "colorbar": {
              "outlinewidth": 0,
              "ticks": ""
             }
            },
            "type": "scattergl"
           }
          ],
          "scattermapbox": [
           {
            "marker": {
             "colorbar": {
              "outlinewidth": 0,
              "ticks": ""
             }
            },
            "type": "scattermapbox"
           }
          ],
          "scatterpolar": [
           {
            "marker": {
             "colorbar": {
              "outlinewidth": 0,
              "ticks": ""
             }
            },
            "type": "scatterpolar"
           }
          ],
          "scatterpolargl": [
           {
            "marker": {
             "colorbar": {
              "outlinewidth": 0,
              "ticks": ""
             }
            },
            "type": "scatterpolargl"
           }
          ],
          "scatterternary": [
           {
            "marker": {
             "colorbar": {
              "outlinewidth": 0,
              "ticks": ""
             }
            },
            "type": "scatterternary"
           }
          ],
          "surface": [
           {
            "colorbar": {
             "outlinewidth": 0,
             "ticks": ""
            },
            "colorscale": [
             [
              0,
              "#0d0887"
             ],
             [
              0.1111111111111111,
              "#46039f"
             ],
             [
              0.2222222222222222,
              "#7201a8"
             ],
             [
              0.3333333333333333,
              "#9c179e"
             ],
             [
              0.4444444444444444,
              "#bd3786"
             ],
             [
              0.5555555555555556,
              "#d8576b"
             ],
             [
              0.6666666666666666,
              "#ed7953"
             ],
             [
              0.7777777777777778,
              "#fb9f3a"
             ],
             [
              0.8888888888888888,
              "#fdca26"
             ],
             [
              1,
              "#f0f921"
             ]
            ],
            "type": "surface"
           }
          ],
          "table": [
           {
            "cells": {
             "fill": {
              "color": "#EBF0F8"
             },
             "line": {
              "color": "white"
             }
            },
            "header": {
             "fill": {
              "color": "#C8D4E3"
             },
             "line": {
              "color": "white"
             }
            },
            "type": "table"
           }
          ]
         },
         "layout": {
          "annotationdefaults": {
           "arrowcolor": "#2a3f5f",
           "arrowhead": 0,
           "arrowwidth": 1
          },
          "coloraxis": {
           "colorbar": {
            "outlinewidth": 0,
            "ticks": ""
           }
          },
          "colorscale": {
           "diverging": [
            [
             0,
             "#8e0152"
            ],
            [
             0.1,
             "#c51b7d"
            ],
            [
             0.2,
             "#de77ae"
            ],
            [
             0.3,
             "#f1b6da"
            ],
            [
             0.4,
             "#fde0ef"
            ],
            [
             0.5,
             "#f7f7f7"
            ],
            [
             0.6,
             "#e6f5d0"
            ],
            [
             0.7,
             "#b8e186"
            ],
            [
             0.8,
             "#7fbc41"
            ],
            [
             0.9,
             "#4d9221"
            ],
            [
             1,
             "#276419"
            ]
           ],
           "sequential": [
            [
             0,
             "#0d0887"
            ],
            [
             0.1111111111111111,
             "#46039f"
            ],
            [
             0.2222222222222222,
             "#7201a8"
            ],
            [
             0.3333333333333333,
             "#9c179e"
            ],
            [
             0.4444444444444444,
             "#bd3786"
            ],
            [
             0.5555555555555556,
             "#d8576b"
            ],
            [
             0.6666666666666666,
             "#ed7953"
            ],
            [
             0.7777777777777778,
             "#fb9f3a"
            ],
            [
             0.8888888888888888,
             "#fdca26"
            ],
            [
             1,
             "#f0f921"
            ]
           ],
           "sequentialminus": [
            [
             0,
             "#0d0887"
            ],
            [
             0.1111111111111111,
             "#46039f"
            ],
            [
             0.2222222222222222,
             "#7201a8"
            ],
            [
             0.3333333333333333,
             "#9c179e"
            ],
            [
             0.4444444444444444,
             "#bd3786"
            ],
            [
             0.5555555555555556,
             "#d8576b"
            ],
            [
             0.6666666666666666,
             "#ed7953"
            ],
            [
             0.7777777777777778,
             "#fb9f3a"
            ],
            [
             0.8888888888888888,
             "#fdca26"
            ],
            [
             1,
             "#f0f921"
            ]
           ]
          },
          "colorway": [
           "#636efa",
           "#EF553B",
           "#00cc96",
           "#ab63fa",
           "#FFA15A",
           "#19d3f3",
           "#FF6692",
           "#B6E880",
           "#FF97FF",
           "#FECB52"
          ],
          "font": {
           "color": "#2a3f5f"
          },
          "geo": {
           "bgcolor": "white",
           "lakecolor": "white",
           "landcolor": "#E5ECF6",
           "showlakes": true,
           "showland": true,
           "subunitcolor": "white"
          },
          "hoverlabel": {
           "align": "left"
          },
          "hovermode": "closest",
          "mapbox": {
           "style": "light"
          },
          "paper_bgcolor": "white",
          "plot_bgcolor": "#E5ECF6",
          "polar": {
           "angularaxis": {
            "gridcolor": "white",
            "linecolor": "white",
            "ticks": ""
           },
           "bgcolor": "#E5ECF6",
           "radialaxis": {
            "gridcolor": "white",
            "linecolor": "white",
            "ticks": ""
           }
          },
          "scene": {
           "xaxis": {
            "backgroundcolor": "#E5ECF6",
            "gridcolor": "white",
            "gridwidth": 2,
            "linecolor": "white",
            "showbackground": true,
            "ticks": "",
            "zerolinecolor": "white"
           },
           "yaxis": {
            "backgroundcolor": "#E5ECF6",
            "gridcolor": "white",
            "gridwidth": 2,
            "linecolor": "white",
            "showbackground": true,
            "ticks": "",
            "zerolinecolor": "white"
           },
           "zaxis": {
            "backgroundcolor": "#E5ECF6",
            "gridcolor": "white",
            "gridwidth": 2,
            "linecolor": "white",
            "showbackground": true,
            "ticks": "",
            "zerolinecolor": "white"
           }
          },
          "shapedefaults": {
           "line": {
            "color": "#2a3f5f"
           }
          },
          "ternary": {
           "aaxis": {
            "gridcolor": "white",
            "linecolor": "white",
            "ticks": ""
           },
           "baxis": {
            "gridcolor": "white",
            "linecolor": "white",
            "ticks": ""
           },
           "bgcolor": "#E5ECF6",
           "caxis": {
            "gridcolor": "white",
            "linecolor": "white",
            "ticks": ""
           }
          },
          "title": {
           "x": 0.05
          },
          "xaxis": {
           "automargin": true,
           "gridcolor": "white",
           "linecolor": "white",
           "ticks": "",
           "title": {
            "standoff": 15
           },
           "zerolinecolor": "white",
           "zerolinewidth": 2
          },
          "yaxis": {
           "automargin": true,
           "gridcolor": "white",
           "linecolor": "white",
           "ticks": "",
           "title": {
            "standoff": 15
           },
           "zerolinecolor": "white",
           "zerolinewidth": 2
          }
         }
        },
        "title": {
         "font": {
          "size": 16
         },
         "text": "Mạng các trích dẫn"
        },
        "xaxis": {
         "showgrid": false,
         "showticklabels": false,
         "zeroline": false
        },
        "yaxis": {
         "showgrid": false,
         "showticklabels": false,
         "zeroline": false
        }
       }
      },
      "text/html": [
       "<div>\n",
       "        \n",
       "        \n",
       "            <div id=\"e7a37841-4ee1-43c9-a227-03d5a7f65a3a\" class=\"plotly-graph-div\" style=\"height:525px; width:100%;\"></div>\n",
       "            <script type=\"text/javascript\">\n",
       "                require([\"plotly\"], function(Plotly) {\n",
       "                    window.PLOTLYENV=window.PLOTLYENV || {};\n",
       "                    \n",
       "                if (document.getElementById(\"e7a37841-4ee1-43c9-a227-03d5a7f65a3a\")) {\n",
       "                    Plotly.newPlot(\n",
       "                        'e7a37841-4ee1-43c9-a227-03d5a7f65a3a',\n",
       "                        [{\"hoverinfo\": \"text\", \"line\": {\"color\": \"cornflowerblue\", \"width\": 2}, \"mode\": \"lines\", \"text\": [\"Nguyen Ngoc Anh--Tran Nam Binh: 2\"], \"type\": \"scatter\", \"x\": [-0.09430763719515008, -0.08146290710109166, null], \"y\": [-0.797366703377236, -0.7725777121024894, null]}, {\"hoverinfo\": \"text\", \"line\": {\"color\": \"cornflowerblue\", \"width\": 1}, \"mode\": \"lines\", \"text\": [\"Vuong Quan Hoang--Pham Hung Hiep: 1\"], \"type\": \"scatter\", \"x\": [0.759660756453599, 0.7613383026291424, null], \"y\": [-0.4207433939351335, -0.3760649264159527, null]}, {\"hoverinfo\": \"text\", \"line\": {\"color\": \"cornflowerblue\", \"width\": 5}, \"mode\": \"lines\", \"text\": [\"Nguyen Viet Cuong--Tran Ngoc Anh: 5\"], \"type\": \"scatter\", \"x\": [-0.2641461286340906, -0.2811187308165352, null], \"y\": [-0.17816487094744135, -0.1546187347915996, null]}, {\"hoverinfo\": \"text\", \"line\": {\"color\": \"cornflowerblue\", \"width\": 1}, \"mode\": \"lines\", \"text\": [\"Nguyen Viet Cuong--Tran Quang Tuyen: 1\"], \"type\": \"scatter\", \"x\": [-0.2641461286340906, -0.19025490674706932, null], \"y\": [-0.17816487094744135, -0.20121677749153635, null]}, {\"hoverinfo\": \"text\", \"line\": {\"color\": \"cornflowerblue\", \"width\": 1}, \"mode\": \"lines\", \"text\": [\"Nguyen Viet Cuong--Vu Van Huong: 1\"], \"type\": \"scatter\", \"x\": [-0.2641461286340906, -0.20634665933250068, null], \"y\": [-0.17816487094744135, -0.1956615023437084, null]}, {\"hoverinfo\": \"text\", \"line\": {\"color\": \"cornflowerblue\", \"width\": 2}, \"mode\": \"lines\", \"text\": [\"Nguyen Viet Cuong--Pham Thu Phuong: 2\"], \"type\": \"scatter\", \"x\": [-0.2641461286340906, -0.3122731442443352, null], \"y\": [-0.17816487094744135, -0.1744004290541429, null]}, {\"hoverinfo\": \"text\", \"line\": {\"color\": \"cornflowerblue\", \"width\": 1}, \"mode\": \"lines\", \"text\": [\"Nguyen Viet Cuong--Vu Hoang Linh: 1\"], \"type\": \"scatter\", \"x\": [-0.2641461286340906, -0.32152590623486405, null], \"y\": [-0.17816487094744135, -0.2158754971784594, null]}, {\"hoverinfo\": \"text\", \"line\": {\"color\": \"cornflowerblue\", \"width\": 2}, \"mode\": \"lines\", \"text\": [\"Nguyen Viet Cuong--Giang Thanh Long: 2\"], \"type\": \"scatter\", \"x\": [-0.2641461286340906, -0.23424208158924267, null], \"y\": [-0.17816487094744135, -0.18634794935299837, null]}, {\"hoverinfo\": \"text\", \"line\": {\"color\": \"cornflowerblue\", \"width\": 1}, \"mode\": \"lines\", \"text\": [\"Giang Thanh Long--Tran Quang Tuyen: 1\"], \"type\": \"scatter\", \"x\": [-0.23424208158924267, -0.19025490674706932, null], \"y\": [-0.18634794935299837, -0.20121677749153635, null]}, {\"hoverinfo\": \"text\", \"line\": {\"color\": \"cornflowerblue\", \"width\": 1}, \"mode\": \"lines\", \"text\": [\"Giang Thanh Long--Vu Van Huong: 1\"], \"type\": \"scatter\", \"x\": [-0.23424208158924267, -0.20634665933250068, null], \"y\": [-0.18634794935299837, -0.1956615023437084, null]}, {\"hoverinfo\": \"text\", \"line\": {\"color\": \"cornflowerblue\", \"width\": 1}, \"mode\": \"lines\", \"text\": [\"Pham Hung Hiep--Tran Thi Ly: 1\"], \"type\": \"scatter\", \"x\": [0.7613383026291424, 0.7770719701506537, null], \"y\": [-0.3760649264159527, -0.32994385090776296, null]}, {\"hoverinfo\": \"text\", \"line\": {\"color\": \"cornflowerblue\", \"width\": 3}, \"mode\": \"lines\", \"text\": [\"Nguyen Van Thang--Le Quang Canh: 3\"], \"type\": \"scatter\", \"x\": [-0.2539205240523545, -0.2356490634198028, null], \"y\": [0.37730771855578243, 0.39333561039824905, null]}, {\"hoverinfo\": \"text\", \"line\": {\"color\": \"cornflowerblue\", \"width\": 1}, \"mode\": \"lines\", \"text\": [\"Nguyen Van Thang--Le QuangThanh: 1\"], \"type\": \"scatter\", \"x\": [-0.2539205240523545, -0.2672487516028901, null], \"y\": [0.37730771855578243, 0.41143733701052765, null]}, {\"hoverinfo\": \"text\", \"line\": {\"color\": \"cornflowerblue\", \"width\": 1}, \"mode\": \"lines\", \"text\": [\"Luu Trong Tuan--Luu Thi Bich Ngoc: 1\"], \"type\": \"scatter\", \"x\": [0.4056083457591975, 0.3833719225720036, null], \"y\": [-0.8459229216174387, -0.8065480235053023, null]}, {\"hoverinfo\": \"text\", \"line\": {\"color\": \"cornflowerblue\", \"width\": 2}, \"mode\": \"lines\", \"text\": [\"Pham Van Ha--Nguyen Thi Minh Hoa: 2\"], \"type\": \"scatter\", \"x\": [0.17052475479665646, 0.14402545816593407, null], \"y\": [0.23719602610173604, 0.22898784635857927, null]}, {\"hoverinfo\": \"text\", \"line\": {\"color\": \"cornflowerblue\", \"width\": 1}, \"mode\": \"lines\", \"text\": [\"Pham Van Ha--Che Nhu Tuong: 1\"], \"type\": \"scatter\", \"x\": [0.17052475479665646, 0.14133982444252646, null], \"y\": [0.23719602610173604, 0.2570554371239945, null]}, {\"hoverinfo\": \"text\", \"line\": {\"color\": \"cornflowerblue\", \"width\": 2}, \"mode\": \"lines\", \"text\": [\"Nguyen Thi Minh Hoa--Che Nhu Tuong: 2\"], \"type\": \"scatter\", \"x\": [0.14402545816593407, 0.14133982444252646, null], \"y\": [0.22898784635857927, 0.2570554371239945, null]}, {\"hoverinfo\": \"text\", \"line\": {\"color\": \"cornflowerblue\", \"width\": 2}, \"mode\": \"lines\", \"text\": [\"Nguyen Thu Thuy--Cao Dinh Kien: 2\"], \"type\": \"scatter\", \"x\": [-0.20133547604186175, -0.1936787802898998, null], \"y\": [0.8537049328969747, 0.8156511776786198, null]}, {\"hoverinfo\": \"text\", \"line\": {\"color\": \"cornflowerblue\", \"width\": 6}, \"mode\": \"lines\", \"text\": [\"Pham Hoang Hai--Le Trinh Hai: 6\"], \"type\": \"scatter\", \"x\": [0.2753275715890364, 0.2826712486324958, null], \"y\": [0.7271418678255883, 0.7495364891679199, null]}, {\"hoverinfo\": \"text\", \"line\": {\"color\": \"cornflowerblue\", \"width\": 10}, \"mode\": \"lines\", \"text\": [\"Tran Quang Tuyen--Vu Van Huong: 10\"], \"type\": \"scatter\", \"x\": [-0.19025490674706932, -0.20634665933250068, null], \"y\": [-0.20121677749153635, -0.1956615023437084, null]}, {\"hoverinfo\": \"text\", \"line\": {\"color\": \"cornflowerblue\", \"width\": 3}, \"mode\": \"lines\", \"text\": [\"Tran Quang Tuyen--Doan Thanh Tinh: 3\"], \"type\": \"scatter\", \"x\": [-0.19025490674706932, -0.19570693092197286, null], \"y\": [-0.20121677749153635, -0.22543018862203085, null]}, {\"hoverinfo\": \"text\", \"line\": {\"color\": \"cornflowerblue\", \"width\": 1}, \"mode\": \"lines\", \"text\": [\"Tran Quang Tuyen--Nguyen Cao Nam: 1\"], \"type\": \"scatter\", \"x\": [-0.19025490674706932, -0.12004118160204282, null], \"y\": [-0.20121677749153635, -0.23845857991985733, null]}, {\"hoverinfo\": \"text\", \"line\": {\"color\": \"cornflowerblue\", \"width\": 3}, \"mode\": \"lines\", \"text\": [\"Vu Van Huong--Doan Thanh Tinh: 3\"], \"type\": \"scatter\", \"x\": [-0.20634665933250068, -0.19570693092197286, null], \"y\": [-0.1956615023437084, -0.22543018862203085, null]}, {\"hoverinfo\": \"text\", \"line\": {\"color\": \"cornflowerblue\", \"width\": 4}, \"mode\": \"lines\", \"text\": [\"Nguyen Thi Minh Trang--Nguyen Dinh Tho: 4\"], \"type\": \"scatter\", \"x\": [-0.43210899361565425, -0.4178527700260114, null], \"y\": [-0.8836326116129914, -0.8585717746834806, null]}, {\"hoverinfo\": \"text\", \"line\": {\"color\": \"cornflowerblue\", \"width\": 5}, \"mode\": \"lines\", \"text\": [\"Tran Thanh Thuy--Tran Duc Thach: 5\"], \"type\": \"scatter\", \"x\": [-0.06154461952425191, -0.049182938809825834, null], \"y\": [0.026301633047071248, 0.013326113235859995, null]}, {\"hoverinfo\": \"text\", \"line\": {\"color\": \"cornflowerblue\", \"width\": 5}, \"mode\": \"lines\", \"text\": [\"Tran Thanh Thuy--Tran Thu Ha: 5\"], \"type\": \"scatter\", \"x\": [-0.06154461952425191, -0.07975135071802567, null], \"y\": [0.026301633047071248, 0.02031821051439989, null]}, {\"hoverinfo\": \"text\", \"line\": {\"color\": \"cornflowerblue\", \"width\": 5}, \"mode\": \"lines\", \"text\": [\"Tran Thanh Thuy--Tran Tuan: 5\"], \"type\": \"scatter\", \"x\": [-0.06154461952425191, -0.06691529989950845, null], \"y\": [0.026301633047071248, 0.008713649320493065, null]}, {\"hoverinfo\": \"text\", \"line\": {\"color\": \"cornflowerblue\", \"width\": 1}, \"mode\": \"lines\", \"text\": [\"Tran Thanh Thuy--Nguyen Thu Trang: 1\"], \"type\": \"scatter\", \"x\": [-0.06154461952425191, -0.0627769116977172, null], \"y\": [0.026301633047071248, 0.05111835656904879, null]}, {\"hoverinfo\": \"text\", \"line\": {\"color\": \"cornflowerblue\", \"width\": 1}, \"mode\": \"lines\", \"text\": [\"Nguyen Tien Thong--Nguyen Van Giap: 1\"], \"type\": \"scatter\", \"x\": [-0.48591139789568377, -0.46037525781904065, null], \"y\": [0.6898648977131573, 0.6479634747483586, null]}, {\"hoverinfo\": \"text\", \"line\": {\"color\": \"cornflowerblue\", \"width\": 5}, \"mode\": \"lines\", \"text\": [\"Ha Minh Tuan--Nguyen Cao Nam: 5\"], \"type\": \"scatter\", \"x\": [-0.09498120734369601, -0.12004118160204282, null], \"y\": [-0.25399180461674414, -0.23845857991985733, null]}, {\"hoverinfo\": \"text\", \"line\": {\"color\": \"cornflowerblue\", \"width\": 2}, \"mode\": \"lines\", \"text\": [\"Nghiem Thi Ha Van--Khuat Thi Hai Oanh: 2\"], \"type\": \"scatter\", \"x\": [0.3536632088077327, 0.3784556788725562, null], \"y\": [-0.27977733938217497, -0.2988470713909631, null]}, {\"hoverinfo\": \"text\", \"line\": {\"color\": \"cornflowerblue\", \"width\": 5}, \"mode\": \"lines\", \"text\": [\"Nguyen Lan Cuong--Nguyen Thi Kim Thuy: 5\"], \"type\": \"scatter\", \"x\": [-0.9431855536806447, -0.9640988264982516, null], \"y\": [0.3337725543912006, 0.3391059900654668, null]}, {\"hoverinfo\": \"text\", \"line\": {\"color\": \"cornflowerblue\", \"width\": 1}, \"mode\": \"lines\", \"text\": [\"Nguyen Thi Thuy Minh--Nguyen Thi Hanh: 1\"], \"type\": \"scatter\", \"x\": [0.7621018931454243, 0.7701087034642491, null], \"y\": [0.5458923787367704, 0.5116907765790562, null]}, {\"hoverinfo\": \"text\", \"line\": {\"color\": \"cornflowerblue\", \"width\": 1}, \"mode\": \"lines\", \"text\": [\"Pham Si Cong--Nguyen Thanh Xuan: 1\"], \"type\": \"scatter\", \"x\": [0.05107805705259308, 0.019054050729982088, null], \"y\": [0.9057331645614763, 0.9194813402780408, null]}, {\"hoverinfo\": \"text\", \"line\": {\"color\": \"cornflowerblue\", \"width\": 3}, \"mode\": \"lines\", \"text\": [\"Vu Song Ha--Hoang Tu Anh: 3\"], \"type\": \"scatter\", \"x\": [0.4423985751046625, 0.42008251421453907, null], \"y\": [0.20072042376131907, 0.21712896182367963, null]}, {\"hoverinfo\": \"text\", \"line\": {\"color\": \"cornflowerblue\", \"width\": 1}, \"mode\": \"lines\", \"text\": [\"Vu Song Ha--Quach Thu Trang: 1\"], \"type\": \"scatter\", \"x\": [0.4423985751046625, 0.47021629443299784, null], \"y\": [0.20072042376131907, 0.2248251150398005, null]}, {\"hoverinfo\": \"text\", \"line\": {\"color\": \"cornflowerblue\", \"width\": 1}, \"mode\": \"lines\", \"text\": [\"Hoang Tu Anh--Quach Thu Trang: 1\"], \"type\": \"scatter\", \"x\": [0.42008251421453907, 0.47021629443299784, null], \"y\": [0.21712896182367963, 0.2248251150398005, null]}, {\"hoverinfo\": \"text\", \"line\": {\"color\": \"cornflowerblue\", \"width\": 4}, \"mode\": \"lines\", \"text\": [\"Hoang Tu Anh--Tran Hung Minh: 4\"], \"type\": \"scatter\", \"x\": [0.42008251421453907, 0.3970714813895949, null], \"y\": [0.21712896182367963, 0.2304410854557004, null]}, {\"hoverinfo\": \"text\", \"line\": {\"color\": \"cornflowerblue\", \"width\": 2}, \"mode\": \"lines\", \"text\": [\"Pham Van Cu--Vu Kim Chi: 2\"], \"type\": \"scatter\", \"x\": [0.6297593650551384, 0.6050129002412978, null], \"y\": [-0.661269396218847, -0.6344247297124611, null]}, {\"hoverinfo\": \"text\", \"line\": {\"color\": \"cornflowerblue\", \"width\": 1}, \"mode\": \"lines\", \"text\": [\"Tran Thi Ly--Pham Thi Lien: 1\"], \"type\": \"scatter\", \"x\": [0.7770719701506537, 0.8269267106687558, null], \"y\": [-0.32994385090776296, -0.3179645953446999, null]}, {\"hoverinfo\": \"text\", \"line\": {\"color\": \"cornflowerblue\", \"width\": 1}, \"mode\": \"lines\", \"text\": [\"Le QuangThanh--Le Quang Canh: 1\"], \"type\": \"scatter\", \"x\": [-0.2672487516028901, -0.2356490634198028, null], \"y\": [0.41143733701052765, 0.39333561039824905, null]}, {\"hoverinfo\": \"text\", \"line\": {\"color\": \"cornflowerblue\", \"width\": 8}, \"mode\": \"lines\", \"text\": [\"Tran Tuan--Tran Duc Thach: 8\"], \"type\": \"scatter\", \"x\": [-0.06691529989950845, -0.049182938809825834, null], \"y\": [0.008713649320493065, 0.013326113235859995, null]}, {\"hoverinfo\": \"text\", \"line\": {\"color\": \"cornflowerblue\", \"width\": 9}, \"mode\": \"lines\", \"text\": [\"Tran Tuan--Tran Thu Ha: 9\"], \"type\": \"scatter\", \"x\": [-0.06691529989950845, -0.07975135071802567, null], \"y\": [0.008713649320493065, 0.02031821051439989, null]}, {\"hoverinfo\": \"text\", \"line\": {\"color\": \"cornflowerblue\", \"width\": 1}, \"mode\": \"lines\", \"text\": [\"Tran Tuan--Nguyen Thu Trang: 1\"], \"type\": \"scatter\", \"x\": [-0.06691529989950845, -0.0627769116977172, null], \"y\": [0.008713649320493065, 0.05111835656904879, null]}, {\"hoverinfo\": \"text\", \"line\": {\"color\": \"cornflowerblue\", \"width\": 1}, \"mode\": \"lines\", \"text\": [\"Tran Thu Ha--Nguyen Thu Trang: 1\"], \"type\": \"scatter\", \"x\": [-0.07975135071802567, -0.0627769116977172, null], \"y\": [0.02031821051439989, 0.05111835656904879, null]}, {\"hoverinfo\": \"text\", \"line\": {\"color\": \"cornflowerblue\", \"width\": 2}, \"mode\": \"lines\", \"text\": [\"Tran Thu Ha--Tran Duc Thach: 2\"], \"type\": \"scatter\", \"x\": [-0.07975135071802567, -0.049182938809825834, null], \"y\": [0.02031821051439989, 0.013326113235859995, null]}, {\"hoverinfo\": \"text\", \"line\": {\"color\": \"cornflowerblue\", \"width\": 1}, \"mode\": \"lines\", \"text\": [\"Tran Duc Thach--Nguyen Thu Trang: 1\"], \"type\": \"scatter\", \"x\": [-0.049182938809825834, -0.0627769116977172, null], \"y\": [0.013326113235859995, 0.05111835656904879, null]}, {\"hoverinfo\": \"text\", \"marker\": {\"color\": [\"cornflowerblue\", \"cornflowerblue\", \"cornflowerblue\", \"cornflowerblue\", \"cornflowerblue\", \"cornflowerblue\", \"cornflowerblue\", \"cornflowerblue\", \"cornflowerblue\", \"cornflowerblue\", \"cornflowerblue\", \"cornflowerblue\", \"cornflowerblue\", \"cornflowerblue\", \"cornflowerblue\", \"cornflowerblue\", \"cornflowerblue\", \"cornflowerblue\", \"cornflowerblue\", \"cornflowerblue\", \"cornflowerblue\", \"cornflowerblue\", \"cornflowerblue\", \"cornflowerblue\", \"cornflowerblue\", \"cornflowerblue\", \"cornflowerblue\", \"cornflowerblue\", \"cornflowerblue\", \"cornflowerblue\", \"cornflowerblue\", \"cornflowerblue\", \"cornflowerblue\", \"cornflowerblue\", \"cornflowerblue\", \"cornflowerblue\", \"cornflowerblue\", \"cornflowerblue\", \"cornflowerblue\", \"cornflowerblue\", \"cornflowerblue\", \"cornflowerblue\", \"cornflowerblue\", \"cornflowerblue\", \"cornflowerblue\", \"cornflowerblue\", \"cornflowerblue\", \"cornflowerblue\", \"cornflowerblue\", \"cornflowerblue\", \"cornflowerblue\", \"cornflowerblue\", \"cornflowerblue\", \"cornflowerblue\", \"cornflowerblue\", \"cornflowerblue\", \"cornflowerblue\", \"cornflowerblue\", \"cornflowerblue\", \"cornflowerblue\", \"cornflowerblue\", \"cornflowerblue\", \"cornflowerblue\", \"cornflowerblue\", \"cornflowerblue\", \"cornflowerblue\", \"cornflowerblue\", \"cornflowerblue\", \"cornflowerblue\", \"cornflowerblue\", \"cornflowerblue\", \"cornflowerblue\", \"cornflowerblue\", \"cornflowerblue\", \"cornflowerblue\", \"cornflowerblue\", \"cornflowerblue\", \"cornflowerblue\", \"cornflowerblue\", \"cornflowerblue\", \"cornflowerblue\", \"cornflowerblue\", \"cornflowerblue\", \"cornflowerblue\", \"cornflowerblue\", \"cornflowerblue\"], \"size\": [6, 25, 51, 18, 5, 5, 7, 5, 11, 6, 63, 6, 20, 6, 7, 7, 7, 6, 12, 5, 9, 5, 6, 9, 6, 6, 6, 7, 17, 22, 6, 17, 5, 10, 5, 14, 10, 11, 5, 10, 5, 10, 7, 8, 5, 5, 5, 5, 6, 6, 5, 8, 5, 11, 13, 10, 7, 7, 8, 17, 11, 14, 5, 5, 8, 7, 14, 11, 5, 5, 17, 5, 5, 11, 12, 21, 5, 10, 13, 5, 5, 6, 28, 20, 50, 7]}, \"mode\": \"markers+text\", \"text\": [\"<b>Nguyen Ngoc Anh</b>\", \"<b>Vuong Quan Hoang</b>\", \"<b>Nguyen Viet Cuong</b>\", \"<b>Giang Thanh Long</b>\", \"<b>Nguyen Thi Tuyet Mai</b>\", \"<b>Pham Hung Hiep</b>\", \"<b>Pham Quang Minh</b>\", \"<b>Tran Thi Tuyet</b>\", \"<b>Nguyen Van Thang</b>\", \"<b>Vo Tri Thanh</b>\", \"<b>Luu Trong Tuan</b>\", \"<b>Khuat Thu Hong</b>\", \"<b>Vo Xuan Vinh</b>\", \"<b>Pham Thi Thu Tra</b>\", \"<b>Tran Thu Hien</b>\", \"<b>Nguyen Phi Lan</b>\", \"<b>Vu Hoang Linh</b>\", \"<b>Tran Hoang Nhi</b>\", \"<b>Tran Ngoc Anh</b>\", \"<b>Le Dang Trung</b>\", \"<b>Do Quy Toan</b>\", \"<b>Vu Thanh Hung</b>\", \"<b>Pham Van Ha</b>\", \"<b>Nguyen Thi Minh Hoa</b>\", \"<b>Che Nhu Tuong</b>\", \"<b>Nguyen Thu Thuy</b>\", \"<b>Pham Hoang Hai</b>\", \"<b>Tran Nam Binh</b>\", \"<b>Vu Minh Khuong</b>\", \"<b>Tran Quang Tuyen</b>\", \"<b>Pham Thu Phuong</b>\", \"<b>Vu Van Huong</b>\", \"<b>Tran Van Kham</b>\", \"<b>Nguyen Thi Minh Trang</b>\", \"<b>Nguyen Dang Minh</b>\", \"<b>Nguyen Dinh Tho</b>\", \"<b>Doan Thanh Tinh</b>\", \"<b>Tran Thanh Thuy</b>\", \"<b>Le Quan</b>\", \"<b>Tran Huu Tuan</b>\", \"<b>Cao Dinh Kien</b>\", \"<b>Le Thai Ha</b>\", \"<b>Le Hong Hiep</b>\", \"<b>Nguyen Tien Thong</b>\", \"<b>Luu Thi Bich Ngoc</b>\", \"<b>Bui Ngoc Son</b>\", \"<b>Ha Minh Tuan</b>\", \"<b>Truong Dinh Thang</b>\", \"<b>Nguyen Thi Quynh Trang</b>\", \"<b>Nghiem Thi Ha Van</b>\", \"<b>Nguyen Lan Cuong</b>\", \"<b>Nguyen Thi Kim Thuy</b>\", \"<b>Nguyen Thi Tan Loc</b>\", \"<b>Khuat Thi Hai Oanh</b>\", \"<b>Nguyen Thi Thuy Minh</b>\", \"<b>Bui Thi Hong Minh</b>\", \"<b>Le Trinh Hai</b>\", \"<b>Pham Si Cong</b>\", \"<b>Nguyen Le Mai</b>\", \"<b>Nguyen Quynh Trang</b>\", \"<b>Vu Song Ha</b>\", \"<b>Hoang Tu Anh</b>\", \"<b>Quach Thu Trang</b>\", \"<b>Tran Hung Minh</b>\", \"<b>Nguyen Thi Hanh</b>\", \"<b>Pham Van Khanh</b>\", \"<b>Hoang Lan Anh</b>\", \"<b>Nguyen Ngoc Huong</b>\", \"<b>Pham Van Cu</b>\", \"<b>Vu Kim Chi</b>\", \"<b>Tran Thi Ly</b>\", \"<b>Vu Hong Tien</b>\", \"<b>Pham Thi Lien</b>\", \"<b>Nguyen Thanh Xuan</b>\", \"<b>Nguyen Dang Lam</b>\", \"<b>Nguyen Cao Nam</b>\", \"<b>Nguyen Van Giap</b>\", \"<b>Tran Van Giai Phong</b>\", \"<b>Le QuangThanh</b>\", \"<b>Nguyen Van Long</b>\", \"<b>Trinh Thi Thu</b>\", \"<b>Le Quang Canh</b>\", \"<b>Tran Tuan</b>\", \"<b>Tran Thu Ha</b>\", \"<b>Tran Duc Thach</b>\", \"<b>Nguyen Thu Trang</b>\"], \"textfont\": {\"size\": 10}, \"textposition\": \"top center\", \"type\": \"scatter\", \"x\": [-0.09430763719515008, 0.759660756453599, -0.2641461286340906, -0.23424208158924267, 0.9189571104657311, 0.7613383026291424, -0.7981097608773575, 0.19757668665784633, -0.2539205240523545, -0.8761490833723283, 0.4056083457591975, 0.6340484810600308, -0.7382263784257944, -0.7414991352590682, 0.3631965199824355, 0.08835093056578994, -0.32152590623486405, -0.4456720108969665, -0.2811187308165352, 0.7362850111733424, 0.9343438575582735, 0.821911782297005, 0.17052475479665646, 0.14402545816593407, 0.14133982444252646, -0.20133547604186175, 0.2753275715890364, -0.08146290710109166, 0.9529793987082564, -0.19025490674706932, -0.3122731442443352, -0.20634665933250068, -0.6354920988087019, -0.43210899361565425, -0.9587884708003739, -0.4178527700260114, -0.19570693092197286, -0.06154461952425191, -0.31128885702245906, -0.9576059347254017, -0.1936787802898998, 0.3157815689692911, 0.8624429983239964, -0.48591139789568377, 0.3833719225720036, -0.8358040555349675, -0.09498120734369601, -0.03596843209932978, -0.25452540024589715, 0.3536632088077327, -0.9431855536806447, -0.9640988264982516, -0.18187589568387977, 0.3784556788725562, 0.7621018931454243, -0.9400439054583206, 0.2826712486324958, 0.05107805705259308, 0.5008137989113324, 0.5317383508315863, 0.4423985751046625, 0.42008251421453907, 0.47021629443299784, 0.3970714813895949, 0.7701087034642491, -0.7576708177403916, -0.8822943838302779, 0.9421908681113879, 0.6297593650551384, 0.6050129002412978, 0.7770719701506537, 0.5153799710800583, 0.8269267106687558, 0.019054050729982088, -0.6287892280292684, -0.12004118160204282, -0.46037525781904065, -0.5326807696763809, -0.2672487516028901, -0.5982876751485824, 0.13984930792263306, -0.2356490634198028, -0.06691529989950845, -0.07975135071802567, -0.049182938809825834, -0.0627769116977172], \"y\": [-0.797366703377236, -0.4207433939351335, -0.17816487094744135, -0.18634794935299837, -0.15556843858640604, -0.3760649264159527, -0.5013485901366778, -0.8904945395471547, 0.37730771855578243, 0.21938328509281624, -0.8459229216174387, 0.5832529564161149, -0.6399527540500656, 0.7059460102640257, 0.8418499871002455, -0.9154778132662978, -0.2158754971784594, 0.9348736744642864, -0.1546187347915996, -0.6807787524907482, 0.11658083557519647, 0.2904402015693417, 0.23719602610173604, 0.22898784635857927, 0.2570554371239945, 0.8537049328969747, 0.7271418678255883, -0.7725777121024894, -0.03660777123519723, -0.20121677749153635, -0.1744004290541429, -0.1956615023437084, -0.6965893284571626, -0.8836326116129914, -0.06251407302333757, -0.8585717746834806, -0.22543018862203085, 0.026301633047071248, -0.8272313073716371, 0.09217733200303443, 0.8156511776786198, -0.9180769686783306, -0.39865243033219355, 0.6898648977131573, -0.8065480235053023, 0.561209029980998, -0.25399180461674414, -0.9321555638120087, 1.0, -0.27977733938217497, 0.3337725543912006, 0.3391059900654668, -0.8979026853284487, -0.2988470713909631, 0.5458923787367704, -0.3024402258680161, 0.7495364891679199, 0.9057331645614763, 0.7275473165879558, 0.602388377396917, 0.20072042376131907, 0.21712896182367963, 0.2248251150398005, 0.2304410854557004, 0.5116907765790562, 0.44381646733375935, -0.1887272922869987, 0.32242275918702357, -0.661269396218847, -0.6344247297124611, -0.32994385090776296, -0.7564706206958532, -0.3179645953446999, 0.9194813402780408, 0.647354478273375, -0.23845857991985733, 0.6479634747483586, -0.7335917969342874, 0.41143733701052765, 0.8390479343126981, 0.9763591221096117, 0.39333561039824905, 0.008713649320493065, 0.02031821051439989, 0.013326113235859995, 0.05111835656904879]}],\n",
       "                        {\"hovermode\": \"closest\", \"margin\": {\"b\": 20, \"l\": 5, \"r\": 5, \"t\": 40}, \"paper_bgcolor\": \"rgba(0,0,0,0)\", \"plot_bgcolor\": \"rgba(0,0,0,0)\", \"showlegend\": false, \"template\": {\"data\": {\"bar\": [{\"error_x\": {\"color\": \"#2a3f5f\"}, \"error_y\": {\"color\": \"#2a3f5f\"}, \"marker\": {\"line\": {\"color\": \"#E5ECF6\", \"width\": 0.5}}, \"type\": \"bar\"}], \"barpolar\": [{\"marker\": {\"line\": {\"color\": \"#E5ECF6\", \"width\": 0.5}}, \"type\": \"barpolar\"}], \"carpet\": [{\"aaxis\": {\"endlinecolor\": \"#2a3f5f\", \"gridcolor\": \"white\", \"linecolor\": \"white\", \"minorgridcolor\": \"white\", \"startlinecolor\": \"#2a3f5f\"}, \"baxis\": {\"endlinecolor\": \"#2a3f5f\", \"gridcolor\": \"white\", \"linecolor\": \"white\", \"minorgridcolor\": \"white\", \"startlinecolor\": \"#2a3f5f\"}, \"type\": \"carpet\"}], \"choropleth\": [{\"colorbar\": {\"outlinewidth\": 0, \"ticks\": \"\"}, \"type\": \"choropleth\"}], \"contour\": [{\"colorbar\": {\"outlinewidth\": 0, \"ticks\": \"\"}, \"colorscale\": [[0.0, \"#0d0887\"], [0.1111111111111111, \"#46039f\"], [0.2222222222222222, \"#7201a8\"], [0.3333333333333333, \"#9c179e\"], [0.4444444444444444, \"#bd3786\"], [0.5555555555555556, \"#d8576b\"], [0.6666666666666666, \"#ed7953\"], [0.7777777777777778, \"#fb9f3a\"], [0.8888888888888888, \"#fdca26\"], [1.0, \"#f0f921\"]], \"type\": \"contour\"}], \"contourcarpet\": [{\"colorbar\": {\"outlinewidth\": 0, \"ticks\": \"\"}, \"type\": \"contourcarpet\"}], \"heatmap\": [{\"colorbar\": {\"outlinewidth\": 0, \"ticks\": \"\"}, \"colorscale\": [[0.0, \"#0d0887\"], [0.1111111111111111, \"#46039f\"], [0.2222222222222222, \"#7201a8\"], [0.3333333333333333, \"#9c179e\"], [0.4444444444444444, \"#bd3786\"], [0.5555555555555556, \"#d8576b\"], [0.6666666666666666, \"#ed7953\"], [0.7777777777777778, \"#fb9f3a\"], [0.8888888888888888, \"#fdca26\"], [1.0, \"#f0f921\"]], \"type\": \"heatmap\"}], \"heatmapgl\": [{\"colorbar\": {\"outlinewidth\": 0, \"ticks\": \"\"}, \"colorscale\": [[0.0, \"#0d0887\"], [0.1111111111111111, \"#46039f\"], [0.2222222222222222, \"#7201a8\"], [0.3333333333333333, \"#9c179e\"], [0.4444444444444444, \"#bd3786\"], [0.5555555555555556, \"#d8576b\"], [0.6666666666666666, \"#ed7953\"], [0.7777777777777778, \"#fb9f3a\"], [0.8888888888888888, \"#fdca26\"], [1.0, \"#f0f921\"]], \"type\": \"heatmapgl\"}], \"histogram\": [{\"marker\": {\"colorbar\": {\"outlinewidth\": 0, \"ticks\": \"\"}}, \"type\": \"histogram\"}], \"histogram2d\": [{\"colorbar\": {\"outlinewidth\": 0, \"ticks\": \"\"}, \"colorscale\": [[0.0, \"#0d0887\"], [0.1111111111111111, \"#46039f\"], [0.2222222222222222, \"#7201a8\"], [0.3333333333333333, \"#9c179e\"], [0.4444444444444444, \"#bd3786\"], [0.5555555555555556, \"#d8576b\"], [0.6666666666666666, \"#ed7953\"], [0.7777777777777778, \"#fb9f3a\"], [0.8888888888888888, \"#fdca26\"], [1.0, \"#f0f921\"]], \"type\": \"histogram2d\"}], \"histogram2dcontour\": [{\"colorbar\": {\"outlinewidth\": 0, \"ticks\": \"\"}, \"colorscale\": [[0.0, \"#0d0887\"], [0.1111111111111111, \"#46039f\"], [0.2222222222222222, \"#7201a8\"], [0.3333333333333333, \"#9c179e\"], [0.4444444444444444, \"#bd3786\"], [0.5555555555555556, \"#d8576b\"], [0.6666666666666666, \"#ed7953\"], [0.7777777777777778, \"#fb9f3a\"], [0.8888888888888888, \"#fdca26\"], [1.0, \"#f0f921\"]], \"type\": \"histogram2dcontour\"}], \"mesh3d\": [{\"colorbar\": {\"outlinewidth\": 0, \"ticks\": \"\"}, \"type\": \"mesh3d\"}], \"parcoords\": [{\"line\": {\"colorbar\": {\"outlinewidth\": 0, \"ticks\": \"\"}}, \"type\": \"parcoords\"}], \"pie\": [{\"automargin\": true, \"type\": \"pie\"}], \"scatter\": [{\"marker\": {\"colorbar\": {\"outlinewidth\": 0, \"ticks\": \"\"}}, \"type\": \"scatter\"}], \"scatter3d\": [{\"line\": {\"colorbar\": {\"outlinewidth\": 0, \"ticks\": \"\"}}, \"marker\": {\"colorbar\": {\"outlinewidth\": 0, \"ticks\": \"\"}}, \"type\": \"scatter3d\"}], \"scattercarpet\": [{\"marker\": {\"colorbar\": {\"outlinewidth\": 0, \"ticks\": \"\"}}, \"type\": \"scattercarpet\"}], \"scattergeo\": [{\"marker\": {\"colorbar\": {\"outlinewidth\": 0, \"ticks\": \"\"}}, \"type\": \"scattergeo\"}], \"scattergl\": [{\"marker\": {\"colorbar\": {\"outlinewidth\": 0, \"ticks\": \"\"}}, \"type\": \"scattergl\"}], \"scattermapbox\": [{\"marker\": {\"colorbar\": {\"outlinewidth\": 0, \"ticks\": \"\"}}, \"type\": \"scattermapbox\"}], \"scatterpolar\": [{\"marker\": {\"colorbar\": {\"outlinewidth\": 0, \"ticks\": \"\"}}, \"type\": \"scatterpolar\"}], \"scatterpolargl\": [{\"marker\": {\"colorbar\": {\"outlinewidth\": 0, \"ticks\": \"\"}}, \"type\": \"scatterpolargl\"}], \"scatterternary\": [{\"marker\": {\"colorbar\": {\"outlinewidth\": 0, \"ticks\": \"\"}}, \"type\": \"scatterternary\"}], \"surface\": [{\"colorbar\": {\"outlinewidth\": 0, \"ticks\": \"\"}, \"colorscale\": [[0.0, \"#0d0887\"], [0.1111111111111111, \"#46039f\"], [0.2222222222222222, \"#7201a8\"], [0.3333333333333333, \"#9c179e\"], [0.4444444444444444, \"#bd3786\"], [0.5555555555555556, \"#d8576b\"], [0.6666666666666666, \"#ed7953\"], [0.7777777777777778, \"#fb9f3a\"], [0.8888888888888888, \"#fdca26\"], [1.0, \"#f0f921\"]], \"type\": \"surface\"}], \"table\": [{\"cells\": {\"fill\": {\"color\": \"#EBF0F8\"}, \"line\": {\"color\": \"white\"}}, \"header\": {\"fill\": {\"color\": \"#C8D4E3\"}, \"line\": {\"color\": \"white\"}}, \"type\": \"table\"}]}, \"layout\": {\"annotationdefaults\": {\"arrowcolor\": \"#2a3f5f\", \"arrowhead\": 0, \"arrowwidth\": 1}, \"coloraxis\": {\"colorbar\": {\"outlinewidth\": 0, \"ticks\": \"\"}}, \"colorscale\": {\"diverging\": [[0, \"#8e0152\"], [0.1, \"#c51b7d\"], [0.2, \"#de77ae\"], [0.3, \"#f1b6da\"], [0.4, \"#fde0ef\"], [0.5, \"#f7f7f7\"], [0.6, \"#e6f5d0\"], [0.7, \"#b8e186\"], [0.8, \"#7fbc41\"], [0.9, \"#4d9221\"], [1, \"#276419\"]], \"sequential\": [[0.0, \"#0d0887\"], [0.1111111111111111, \"#46039f\"], [0.2222222222222222, \"#7201a8\"], [0.3333333333333333, \"#9c179e\"], [0.4444444444444444, \"#bd3786\"], [0.5555555555555556, \"#d8576b\"], [0.6666666666666666, \"#ed7953\"], [0.7777777777777778, \"#fb9f3a\"], [0.8888888888888888, \"#fdca26\"], [1.0, \"#f0f921\"]], \"sequentialminus\": [[0.0, \"#0d0887\"], [0.1111111111111111, \"#46039f\"], [0.2222222222222222, \"#7201a8\"], [0.3333333333333333, \"#9c179e\"], [0.4444444444444444, \"#bd3786\"], [0.5555555555555556, \"#d8576b\"], [0.6666666666666666, \"#ed7953\"], [0.7777777777777778, \"#fb9f3a\"], [0.8888888888888888, \"#fdca26\"], [1.0, \"#f0f921\"]]}, \"colorway\": [\"#636efa\", \"#EF553B\", \"#00cc96\", \"#ab63fa\", \"#FFA15A\", \"#19d3f3\", \"#FF6692\", \"#B6E880\", \"#FF97FF\", \"#FECB52\"], \"font\": {\"color\": \"#2a3f5f\"}, \"geo\": {\"bgcolor\": \"white\", \"lakecolor\": \"white\", \"landcolor\": \"#E5ECF6\", \"showlakes\": true, \"showland\": true, \"subunitcolor\": \"white\"}, \"hoverlabel\": {\"align\": \"left\"}, \"hovermode\": \"closest\", \"mapbox\": {\"style\": \"light\"}, \"paper_bgcolor\": \"white\", \"plot_bgcolor\": \"#E5ECF6\", \"polar\": {\"angularaxis\": {\"gridcolor\": \"white\", \"linecolor\": \"white\", \"ticks\": \"\"}, \"bgcolor\": \"#E5ECF6\", \"radialaxis\": {\"gridcolor\": \"white\", \"linecolor\": \"white\", \"ticks\": \"\"}}, \"scene\": {\"xaxis\": {\"backgroundcolor\": \"#E5ECF6\", \"gridcolor\": \"white\", \"gridwidth\": 2, \"linecolor\": \"white\", \"showbackground\": true, \"ticks\": \"\", \"zerolinecolor\": \"white\"}, \"yaxis\": {\"backgroundcolor\": \"#E5ECF6\", \"gridcolor\": \"white\", \"gridwidth\": 2, \"linecolor\": \"white\", \"showbackground\": true, \"ticks\": \"\", \"zerolinecolor\": \"white\"}, \"zaxis\": {\"backgroundcolor\": \"#E5ECF6\", \"gridcolor\": \"white\", \"gridwidth\": 2, \"linecolor\": \"white\", \"showbackground\": true, \"ticks\": \"\", \"zerolinecolor\": \"white\"}}, \"shapedefaults\": {\"line\": {\"color\": \"#2a3f5f\"}}, \"ternary\": {\"aaxis\": {\"gridcolor\": \"white\", \"linecolor\": \"white\", \"ticks\": \"\"}, \"baxis\": {\"gridcolor\": \"white\", \"linecolor\": \"white\", \"ticks\": \"\"}, \"bgcolor\": \"#E5ECF6\", \"caxis\": {\"gridcolor\": \"white\", \"linecolor\": \"white\", \"ticks\": \"\"}}, \"title\": {\"x\": 0.05}, \"xaxis\": {\"automargin\": true, \"gridcolor\": \"white\", \"linecolor\": \"white\", \"ticks\": \"\", \"title\": {\"standoff\": 15}, \"zerolinecolor\": \"white\", \"zerolinewidth\": 2}, \"yaxis\": {\"automargin\": true, \"gridcolor\": \"white\", \"linecolor\": \"white\", \"ticks\": \"\", \"title\": {\"standoff\": 15}, \"zerolinecolor\": \"white\", \"zerolinewidth\": 2}}}, \"title\": {\"font\": {\"size\": 16}, \"text\": \"M\\u1ea1ng c\\u00e1c tr\\u00edch d\\u1eabn\"}, \"xaxis\": {\"showgrid\": false, \"showticklabels\": false, \"zeroline\": false}, \"yaxis\": {\"showgrid\": false, \"showticklabels\": false, \"zeroline\": false}},\n",
       "                        {\"responsive\": true}\n",
       "                    ).then(function(){\n",
       "                            \n",
       "var gd = document.getElementById('e7a37841-4ee1-43c9-a227-03d5a7f65a3a');\n",
       "var x = new MutationObserver(function (mutations, observer) {{\n",
       "        var display = window.getComputedStyle(gd).display;\n",
       "        if (!display || display === 'none') {{\n",
       "            console.log([gd, 'removed!']);\n",
       "            Plotly.purge(gd);\n",
       "            observer.disconnect();\n",
       "        }}\n",
       "}});\n",
       "\n",
       "// Listen for the removal of the full notebook cells\n",
       "var notebookContainer = gd.closest('#notebook-container');\n",
       "if (notebookContainer) {{\n",
       "    x.observe(notebookContainer, {childList: true});\n",
       "}}\n",
       "\n",
       "// Listen for the clearing of the current output cell\n",
       "var outputEl = gd.closest('.output');\n",
       "if (outputEl) {{\n",
       "    x.observe(outputEl, {childList: true});\n",
       "}}\n",
       "\n",
       "                        })\n",
       "                };\n",
       "                });\n",
       "            </script>\n",
       "        </div>"
      ]
     },
     "metadata": {},
     "output_type": "display_data"
    }
   ],
   "source": [
    "# Customize layout\n",
    "layout = go.Layout(\n",
    "    title='Mạng các trích dẫn',\n",
    "    titlefont_size=16,\n",
    "    showlegend=False,\n",
    "    hovermode='closest',\n",
    "    margin=dict(b=20,l=5,r=5,t=40),\n",
    "    paper_bgcolor='rgba(0,0,0,0)', # transparent background\n",
    "    plot_bgcolor='rgba(0,0,0,0)', # transparent 2nd background\n",
    "    xaxis =  {'showgrid': False, 'zeroline': False}, # no gridlines\n",
    "    yaxis = {'showgrid': False, 'zeroline': False}, # no gridlines\n",
    ")\n",
    "\n",
    "# Create figure\n",
    "fig = go.Figure(layout = layout)\n",
    "\n",
    "# Add all edge traces\n",
    "for trace in edge_trace:\n",
    "    fig.add_trace(trace)\n",
    "    \n",
    "# Add node trace\n",
    "fig.add_trace(node_trace)\n",
    "\n",
    "# Remove legend\n",
    "fig.update_layout(showlegend = False)\n",
    "\n",
    "# Remove tick labels\n",
    "fig.update_xaxes(showticklabels = False)\n",
    "fig.update_yaxes(showticklabels = False)\n",
    "\n",
    "# Show figure\n",
    "fig.show()"
   ]
  }
 ],
 "metadata": {
  "kernelspec": {
   "display_name": "Python 3",
   "language": "python",
   "name": "python3"
  },
  "language_info": {
   "codemirror_mode": {
    "name": "ipython",
    "version": 3
   },
   "file_extension": ".py",
   "mimetype": "text/x-python",
   "name": "python",
   "nbconvert_exporter": "python",
   "pygments_lexer": "ipython3",
   "version": "3.6.8"
  }
 },
 "nbformat": 4,
 "nbformat_minor": 2
}
