{
 "cells": [
  {
   "cell_type": "code",
   "execution_count": 1,
   "metadata": {},
   "outputs": [
    {
     "name": "stdout",
     "output_type": "stream",
     "text": [
      "Requirement already satisfied: plotly in /home/cpu12449/anaconda3/lib/python3.6/site-packages (4.9.0)\r\n",
      "Requirement already satisfied: retrying>=1.3.3 in /home/cpu12449/anaconda3/lib/python3.6/site-packages (from plotly) (1.3.3)\r\n",
      "Requirement already satisfied: six in /home/cpu12449/anaconda3/lib/python3.6/site-packages (from plotly) (1.12.0)\r\n"
     ]
    }
   ],
   "source": [
    "!pip install plotly\n",
    "\n",
    "import numpy as np\n",
    "import pandas as pd\n",
    "import matplotlib.pyplot as plt\n",
    "import plotly.graph_objects as go\n",
    "import networkx as nx\n",
    "\n",
    "%matplotlib inline"
   ]
  },
  {
   "cell_type": "markdown",
   "metadata": {},
   "source": [
    "### Read csv data"
   ]
  },
  {
   "cell_type": "code",
   "execution_count": 2,
   "metadata": {},
   "outputs": [
    {
     "data": {
      "text/html": [
       "<div>\n",
       "<style scoped>\n",
       "    .dataframe tbody tr th:only-of-type {\n",
       "        vertical-align: middle;\n",
       "    }\n",
       "\n",
       "    .dataframe tbody tr th {\n",
       "        vertical-align: top;\n",
       "    }\n",
       "\n",
       "    .dataframe thead th {\n",
       "        text-align: right;\n",
       "    }\n",
       "</style>\n",
       "<table border=\"1\" class=\"dataframe\">\n",
       "  <thead>\n",
       "    <tr style=\"text-align: right;\">\n",
       "      <th></th>\n",
       "      <th>id</th>\n",
       "      <th>scientist</th>\n",
       "      <th>Vietnamese Name</th>\n",
       "      <th>field.1</th>\n",
       "      <th>field.2</th>\n",
       "      <th>au.key</th>\n",
       "      <th>au.solo</th>\n",
       "      <th>au.coll</th>\n",
       "      <th>au.uniq</th>\n",
       "      <th>au.vn</th>\n",
       "      <th>...</th>\n",
       "      <th>age</th>\n",
       "      <th>restime</th>\n",
       "      <th>sex</th>\n",
       "      <th>ceb</th>\n",
       "      <th>affil1</th>\n",
       "      <th>affil2</th>\n",
       "      <th>Full affiliation name</th>\n",
       "      <th>prov/coun</th>\n",
       "      <th>region</th>\n",
       "      <th>intexp</th>\n",
       "    </tr>\n",
       "  </thead>\n",
       "  <tbody>\n",
       "    <tr>\n",
       "      <th>0</th>\n",
       "      <td>s001</td>\n",
       "      <td>nguyenngocanh</td>\n",
       "      <td>Nguyen Ngoc Anh</td>\n",
       "      <td>econ</td>\n",
       "      <td>manag</td>\n",
       "      <td>3</td>\n",
       "      <td>0</td>\n",
       "      <td>3</td>\n",
       "      <td>11</td>\n",
       "      <td>9</td>\n",
       "      <td>...</td>\n",
       "      <td>46</td>\n",
       "      <td>20</td>\n",
       "      <td>M</td>\n",
       "      <td>1.0</td>\n",
       "      <td>Depocen</td>\n",
       "      <td>NaN</td>\n",
       "      <td>Dev and Pol Res Center</td>\n",
       "      <td>HN</td>\n",
       "      <td>North</td>\n",
       "      <td>NaN</td>\n",
       "    </tr>\n",
       "    <tr>\n",
       "      <th>1</th>\n",
       "      <td>s002</td>\n",
       "      <td>phamntloan</td>\n",
       "      <td>Pham N T Loan</td>\n",
       "      <td>econ</td>\n",
       "      <td>manag</td>\n",
       "      <td>2</td>\n",
       "      <td>1</td>\n",
       "      <td>1</td>\n",
       "      <td>4</td>\n",
       "      <td>1</td>\n",
       "      <td>...</td>\n",
       "      <td>30</td>\n",
       "      <td>4</td>\n",
       "      <td>F</td>\n",
       "      <td>2.0</td>\n",
       "      <td>BUH</td>\n",
       "      <td>NaN</td>\n",
       "      <td>Banking Univ HCM</td>\n",
       "      <td>HCM</td>\n",
       "      <td>South</td>\n",
       "      <td>NaN</td>\n",
       "    </tr>\n",
       "    <tr>\n",
       "      <th>2</th>\n",
       "      <td>s003</td>\n",
       "      <td>vuongquanhoang</td>\n",
       "      <td>Vuong Quan Hoang</td>\n",
       "      <td>econ</td>\n",
       "      <td>health</td>\n",
       "      <td>23</td>\n",
       "      <td>11</td>\n",
       "      <td>2</td>\n",
       "      <td>12</td>\n",
       "      <td>10</td>\n",
       "      <td>...</td>\n",
       "      <td>46</td>\n",
       "      <td>20</td>\n",
       "      <td>M</td>\n",
       "      <td>3.0</td>\n",
       "      <td>FPTU</td>\n",
       "      <td>FSB</td>\n",
       "      <td>FBT School of Business</td>\n",
       "      <td>HN</td>\n",
       "      <td>North</td>\n",
       "      <td>NaN</td>\n",
       "    </tr>\n",
       "    <tr>\n",
       "      <th>3</th>\n",
       "      <td>s004</td>\n",
       "      <td>nguyenvietcuong</td>\n",
       "      <td>Nguyen Viet Cuong</td>\n",
       "      <td>econ</td>\n",
       "      <td>pol</td>\n",
       "      <td>37</td>\n",
       "      <td>23</td>\n",
       "      <td>14</td>\n",
       "      <td>26</td>\n",
       "      <td>15</td>\n",
       "      <td>...</td>\n",
       "      <td>41</td>\n",
       "      <td>15</td>\n",
       "      <td>M</td>\n",
       "      <td>4.0</td>\n",
       "      <td>NEU</td>\n",
       "      <td>IPMM</td>\n",
       "      <td>Inst Pub Pol &amp; Manag, Natl Econ Univ</td>\n",
       "      <td>HN</td>\n",
       "      <td>North</td>\n",
       "      <td>NaN</td>\n",
       "    </tr>\n",
       "    <tr>\n",
       "      <th>4</th>\n",
       "      <td>s005</td>\n",
       "      <td>giangthanhlong</td>\n",
       "      <td>Giang Thanh Long</td>\n",
       "      <td>pol</td>\n",
       "      <td>econ</td>\n",
       "      <td>11</td>\n",
       "      <td>4</td>\n",
       "      <td>7</td>\n",
       "      <td>12</td>\n",
       "      <td>8</td>\n",
       "      <td>...</td>\n",
       "      <td>42</td>\n",
       "      <td>15</td>\n",
       "      <td>M</td>\n",
       "      <td>4.0</td>\n",
       "      <td>NEU</td>\n",
       "      <td>IPMM</td>\n",
       "      <td>Natl Econ Univ</td>\n",
       "      <td>HN</td>\n",
       "      <td>North</td>\n",
       "      <td>NaN</td>\n",
       "    </tr>\n",
       "  </tbody>\n",
       "</table>\n",
       "<p>5 rows × 25 columns</p>\n",
       "</div>"
      ],
      "text/plain": [
       "     id        scientist    Vietnamese Name field.1 field.2  au.key  au.solo  \\\n",
       "0  s001    nguyenngocanh   Nguyen Ngoc Anh     econ   manag       3        0   \n",
       "1  s002       phamntloan     Pham N T Loan     econ   manag       2        1   \n",
       "2  s003   vuongquanhoang   Vuong Quan Hoang    econ  health      23       11   \n",
       "3  s004  nguyenvietcuong  Nguyen Viet Cuong    econ     pol      37       23   \n",
       "4  s005   giangthanhlong   Giang Thanh Long     pol    econ      11        4   \n",
       "\n",
       "   au.coll  au.uniq  au.vn  ...  age  restime  sex  ceb   affil1  affil2  \\\n",
       "0        3       11      9  ...   46       20    M  1.0  Depocen     NaN   \n",
       "1        1        4      1  ...   30        4    F  2.0     BUH      NaN   \n",
       "2        2       12     10  ...   46       20    M  3.0     FPTU     FSB   \n",
       "3       14       26     15  ...   41       15    M  4.0      NEU    IPMM   \n",
       "4        7       12      8  ...   42       15    M  4.0      NEU    IPMM   \n",
       "\n",
       "                  Full affiliation name prov/coun  region intexp  \n",
       "0                Dev and Pol Res Center        HN   North    NaN  \n",
       "1                      Banking Univ HCM       HCM   South    NaN  \n",
       "2                FBT School of Business        HN   North    NaN  \n",
       "3  Inst Pub Pol & Manag, Natl Econ Univ        HN   North    NaN  \n",
       "4                        Natl Econ Univ        HN   North    NaN  \n",
       "\n",
       "[5 rows x 25 columns]"
      ]
     },
     "execution_count": 2,
     "metadata": {},
     "output_type": "execute_result"
    }
   ],
   "source": [
    "data_df = pd.read_csv('data.csv', encoding = \"ISO-8859-1\")\n",
    "data_df.head()"
   ]
  },
  {
   "cell_type": "code",
   "execution_count": 3,
   "metadata": {},
   "outputs": [
    {
     "data": {
      "text/html": [
       "<div>\n",
       "<style scoped>\n",
       "    .dataframe tbody tr th:only-of-type {\n",
       "        vertical-align: middle;\n",
       "    }\n",
       "\n",
       "    .dataframe tbody tr th {\n",
       "        vertical-align: top;\n",
       "    }\n",
       "\n",
       "    .dataframe thead th {\n",
       "        text-align: right;\n",
       "    }\n",
       "</style>\n",
       "<table border=\"1\" class=\"dataframe\">\n",
       "  <thead>\n",
       "    <tr style=\"text-align: right;\">\n",
       "      <th></th>\n",
       "      <th>from</th>\n",
       "      <th>to</th>\n",
       "      <th>weight</th>\n",
       "      <th>type</th>\n",
       "    </tr>\n",
       "  </thead>\n",
       "  <tbody>\n",
       "    <tr>\n",
       "      <th>0</th>\n",
       "      <td>s001</td>\n",
       "      <td>s073</td>\n",
       "      <td>1</td>\n",
       "      <td>colla</td>\n",
       "    </tr>\n",
       "    <tr>\n",
       "      <th>1</th>\n",
       "      <td>s001</td>\n",
       "      <td>s072</td>\n",
       "      <td>1</td>\n",
       "      <td>colla</td>\n",
       "    </tr>\n",
       "    <tr>\n",
       "      <th>2</th>\n",
       "      <td>s001</td>\n",
       "      <td>s054</td>\n",
       "      <td>1</td>\n",
       "      <td>colla</td>\n",
       "    </tr>\n",
       "    <tr>\n",
       "      <th>3</th>\n",
       "      <td>s004</td>\n",
       "      <td>s046</td>\n",
       "      <td>1</td>\n",
       "      <td>colla</td>\n",
       "    </tr>\n",
       "    <tr>\n",
       "      <th>4</th>\n",
       "      <td>s004</td>\n",
       "      <td>s080</td>\n",
       "      <td>1</td>\n",
       "      <td>colla</td>\n",
       "    </tr>\n",
       "  </tbody>\n",
       "</table>\n",
       "</div>"
      ],
      "text/plain": [
       "   from    to  weight   type\n",
       "0  s001  s073       1  colla\n",
       "1  s001  s072       1  colla\n",
       "2  s001  s054       1  colla\n",
       "3  s004  s046       1  colla\n",
       "4  s004  s080       1  colla"
      ]
     },
     "execution_count": 3,
     "metadata": {},
     "output_type": "execute_result"
    }
   ],
   "source": [
    "link_df = pd.read_csv('link_data.csv', encoding='utf-8')\n",
    "link_df.head()"
   ]
  },
  {
   "cell_type": "markdown",
   "metadata": {},
   "source": [
    "### Create network graph"
   ]
  },
  {
   "cell_type": "code",
   "execution_count": 28,
   "metadata": {},
   "outputs": [],
   "source": [
    "def get_name(id_):\n",
    "    return data_df[data_df.id == id_]['Vietnamese Name'].item().strip()\n",
    "\n",
    "\n",
    "social_sciences = nx.Graph()\n",
    "\n",
    "unused_nodes = set()\n",
    "\n",
    "for id_, name, n_article in data_df[['id', 'Vietnamese Name', ' cp ']].values.tolist():\n",
    "    if n_article >= 5:\n",
    "        social_sciences.add_node(name.strip(), size = n_article)\n",
    "    else:\n",
    "        unused_nodes.add(id_)\n",
    "    \n",
    "for f, t, w in link_df[['from', 'to', 'weight']].values.tolist():\n",
    "    if f not in unused_nodes and t not in unused_nodes:\n",
    "        social_sciences.add_edge(get_name(f), get_name(t), weight=w)\n",
    "        \n",
    "# Get positions for the nodes in G\n",
    "pos_ = nx.spring_layout(social_sciences)"
   ]
  },
  {
   "cell_type": "code",
   "execution_count": 29,
   "metadata": {},
   "outputs": [],
   "source": [
    "# Custom function to create an edge between node x and node y, with a given text and width\n",
    "def make_edge(x, y, text, width):\n",
    "    return  go.Scatter(x         = x,\n",
    "                       y         = y,\n",
    "                       line      = dict(width = width,\n",
    "                                   color = 'cornflowerblue'),\n",
    "                       hoverinfo = 'text',\n",
    "                       text      = ([text]),\n",
    "                       mode      = 'lines')\n",
    "\n",
    "# For each edge, make an edge_trace, append to list\n",
    "edge_trace = []\n",
    "for edge in social_sciences.edges():\n",
    "    if social_sciences.edges()[edge]['weight'] > 0:\n",
    "        char_1 = edge[0]\n",
    "        char_2 = edge[1]\n",
    "        x0, y0 = pos_[char_1]\n",
    "        x1, y1 = pos_[char_2]\n",
    "        text   = char_1 + '--' + char_2 + ': ' + str(social_sciences.edges()[edge]['weight'])\n",
    "        trace  = make_edge([x0, x1, None], [y0, y1, None], text, \n",
    "                           width = social_sciences.edges()[edge]['weight'])\n",
    "        edge_trace.append(trace)"
   ]
  },
  {
   "cell_type": "code",
   "execution_count": 30,
   "metadata": {},
   "outputs": [],
   "source": [
    "node_trace = go.Scatter(x         = [],\n",
    "                        y         = [],\n",
    "                        text      = [],\n",
    "                        textposition = \"top center\",\n",
    "                        textfont_size = 10,\n",
    "                        mode      = 'markers+text',\n",
    "                        hoverinfo = 'text',\n",
    "                        marker    = dict(color = [], size = [], line  = None))\n",
    "\n",
    "# For each node in graph, get the position and size and add to the node_trace\n",
    "for node in social_sciences.nodes():\n",
    "    x, y = pos_[node]\n",
    "    node_trace['x'] += tuple([x])\n",
    "    node_trace['y'] += tuple([y])\n",
    "    node_trace['marker']['color'] += tuple(['cornflowerblue'])\n",
    "    node_trace['marker']['size'] += tuple([social_sciences.nodes()[node]['size']])\n",
    "    node_trace['text'] += tuple(['<b>' + node + '</b>'])"
   ]
  },
  {
   "cell_type": "markdown",
   "metadata": {},
   "source": [
    "### Visualize graph"
   ]
  },
  {
   "cell_type": "code",
   "execution_count": 31,
   "metadata": {},
   "outputs": [
    {
     "data": {
      "application/vnd.plotly.v1+json": {
       "config": {
        "plotlyServerURL": "https://plot.ly"
       },
       "data": [
        {
         "hoverinfo": "text",
         "line": {
          "color": "cornflowerblue",
          "width": 5
         },
         "mode": "lines",
         "text": [
          "Nguyen Viet Cuong--Tran Ngoc Anh: 5"
         ],
         "type": "scatter",
         "x": [
          0.13277591070740782,
          0.16955465373878836,
          null
         ],
         "y": [
          0.21656652498702988,
          0.2053196145114138,
          null
         ]
        },
        {
         "hoverinfo": "text",
         "line": {
          "color": "cornflowerblue",
          "width": 1
         },
         "mode": "lines",
         "text": [
          "Nguyen Viet Cuong--Tran Quang Tuyen: 1"
         ],
         "type": "scatter",
         "x": [
          0.13277591070740782,
          0.048051720042614855,
          null
         ],
         "y": [
          0.21656652498702988,
          0.2053098123430924,
          null
         ]
        },
        {
         "hoverinfo": "text",
         "line": {
          "color": "cornflowerblue",
          "width": 1
         },
         "mode": "lines",
         "text": [
          "Nguyen Viet Cuong--Vu Van Huong: 1"
         ],
         "type": "scatter",
         "x": [
          0.13277591070740782,
          0.06565005477641646,
          null
         ],
         "y": [
          0.21656652498702988,
          0.18507162138872146,
          null
         ]
        },
        {
         "hoverinfo": "text",
         "line": {
          "color": "cornflowerblue",
          "width": 1
         },
         "mode": "lines",
         "text": [
          "Nguyen Viet Cuong--Vu Hoang Linh: 1"
         ],
         "type": "scatter",
         "x": [
          0.13277591070740782,
          0.19681546181270188,
          null
         ],
         "y": [
          0.21656652498702988,
          0.2714823080880941,
          null
         ]
        },
        {
         "hoverinfo": "text",
         "line": {
          "color": "cornflowerblue",
          "width": 2
         },
         "mode": "lines",
         "text": [
          "Nguyen Viet Cuong--Giang Thanh Long: 2"
         ],
         "type": "scatter",
         "x": [
          0.13277591070740782,
          0.09358262279233447,
          null
         ],
         "y": [
          0.21656652498702988,
          0.22801161599486147,
          null
         ]
        },
        {
         "hoverinfo": "text",
         "line": {
          "color": "cornflowerblue",
          "width": 1
         },
         "mode": "lines",
         "text": [
          "Giang Thanh Long--Tran Quang Tuyen: 1"
         ],
         "type": "scatter",
         "x": [
          0.09358262279233447,
          0.048051720042614855,
          null
         ],
         "y": [
          0.22801161599486147,
          0.2053098123430924,
          null
         ]
        },
        {
         "hoverinfo": "text",
         "line": {
          "color": "cornflowerblue",
          "width": 1
         },
         "mode": "lines",
         "text": [
          "Giang Thanh Long--Vu Van Huong: 1"
         ],
         "type": "scatter",
         "x": [
          0.09358262279233447,
          0.06565005477641646,
          null
         ],
         "y": [
          0.22801161599486147,
          0.18507162138872146,
          null
         ]
        },
        {
         "hoverinfo": "text",
         "line": {
          "color": "cornflowerblue",
          "width": 1
         },
         "mode": "lines",
         "text": [
          "Nguyen Van Thang--Le QuangThanh: 1"
         ],
         "type": "scatter",
         "x": [
          -0.648899173744876,
          -0.6926352247127913,
          null
         ],
         "y": [
          0.4573759771290502,
          0.43759120623139425,
          null
         ]
        },
        {
         "hoverinfo": "text",
         "line": {
          "color": "cornflowerblue",
          "width": 10
         },
         "mode": "lines",
         "text": [
          "Tran Quang Tuyen--Vu Van Huong: 10"
         ],
         "type": "scatter",
         "x": [
          0.048051720042614855,
          0.06565005477641646,
          null
         ],
         "y": [
          0.2053098123430924,
          0.18507162138872146,
          null
         ]
        },
        {
         "hoverinfo": "text",
         "line": {
          "color": "cornflowerblue",
          "width": 3
         },
         "mode": "lines",
         "text": [
          "Tran Quang Tuyen--Doan Thanh Tinh: 3"
         ],
         "type": "scatter",
         "x": [
          0.048051720042614855,
          0.03216688362857749,
          null
         ],
         "y": [
          0.2053098123430924,
          0.16733809172345568,
          null
         ]
        },
        {
         "hoverinfo": "text",
         "line": {
          "color": "cornflowerblue",
          "width": 1
         },
         "mode": "lines",
         "text": [
          "Tran Quang Tuyen--Nguyen Cao Nam: 1"
         ],
         "type": "scatter",
         "x": [
          0.048051720042614855,
          -0.023725897591409608,
          null
         ],
         "y": [
          0.2053098123430924,
          0.27358326029219165,
          null
         ]
        },
        {
         "hoverinfo": "text",
         "line": {
          "color": "cornflowerblue",
          "width": 3
         },
         "mode": "lines",
         "text": [
          "Vu Van Huong--Doan Thanh Tinh: 3"
         ],
         "type": "scatter",
         "x": [
          0.06565005477641646,
          0.03216688362857749,
          null
         ],
         "y": [
          0.18507162138872146,
          0.16733809172345568,
          null
         ]
        },
        {
         "hoverinfo": "text",
         "line": {
          "color": "cornflowerblue",
          "width": 4
         },
         "mode": "lines",
         "text": [
          "Nguyen Thi Minh Trang--Nguyen Dinh Tho: 4"
         ],
         "type": "scatter",
         "x": [
          -0.14785339580150506,
          -0.17808010394912152,
          null
         ],
         "y": [
          -0.19486048533077086,
          -0.19886959729239512,
          null
         ]
        },
        {
         "hoverinfo": "text",
         "line": {
          "color": "cornflowerblue",
          "width": 5
         },
         "mode": "lines",
         "text": [
          "Ha Minh Tuan--Nguyen Cao Nam: 5"
         ],
         "type": "scatter",
         "x": [
          -0.050379827137069885,
          -0.023725897591409608,
          null
         ],
         "y": [
          0.30093018473019084,
          0.27358326029219165,
          null
         ]
        },
        {
         "hoverinfo": "text",
         "line": {
          "color": "cornflowerblue",
          "width": 1
         },
         "mode": "lines",
         "text": [
          "Nguyen Thi Thuy Minh--Nguyen Thi Hanh: 1"
         ],
         "type": "scatter",
         "x": [
          0.26397686672546694,
          0.20119073978182364,
          null
         ],
         "y": [
          0.9171346241244525,
          0.9370434200129043,
          null
         ]
        },
        {
         "hoverinfo": "text",
         "line": {
          "color": "cornflowerblue",
          "width": 1
         },
         "mode": "lines",
         "text": [
          "Pham Si Cong--Nguyen Thanh Xuan: 1"
         ],
         "type": "scatter",
         "x": [
          0.747692284599661,
          0.6938318777327656,
          null
         ],
         "y": [
          -0.5201159180650338,
          -0.4836351997956052,
          null
         ]
        },
        {
         "hoverinfo": "text",
         "line": {
          "color": "cornflowerblue",
          "width": 3
         },
         "mode": "lines",
         "text": [
          "Vu Song Ha--Hoang Tu Anh: 3"
         ],
         "type": "scatter",
         "x": [
          0.8194662629621774,
          0.8442323770542128,
          null
         ],
         "y": [
          0.12250249303105845,
          0.14530983131201114,
          null
         ]
        },
        {
         "hoverinfo": "text",
         "line": {
          "color": "cornflowerblue",
          "width": 8
         },
         "mode": "lines",
         "text": [
          "Tran Tuan--Tran Duc Thach: 8"
         ],
         "type": "scatter",
         "x": [
          0.20315744013378606,
          0.19181811409365399,
          null
         ],
         "y": [
          -0.2710888227247652,
          -0.29241117953338797,
          null
         ]
        },
        {
         "hoverinfo": "text",
         "marker": {
          "color": [
           "cornflowerblue",
           "cornflowerblue",
           "cornflowerblue",
           "cornflowerblue",
           "cornflowerblue",
           "cornflowerblue",
           "cornflowerblue",
           "cornflowerblue",
           "cornflowerblue",
           "cornflowerblue",
           "cornflowerblue",
           "cornflowerblue",
           "cornflowerblue",
           "cornflowerblue",
           "cornflowerblue",
           "cornflowerblue",
           "cornflowerblue",
           "cornflowerblue",
           "cornflowerblue",
           "cornflowerblue",
           "cornflowerblue",
           "cornflowerblue",
           "cornflowerblue",
           "cornflowerblue",
           "cornflowerblue",
           "cornflowerblue",
           "cornflowerblue",
           "cornflowerblue",
           "cornflowerblue",
           "cornflowerblue",
           "cornflowerblue",
           "cornflowerblue",
           "cornflowerblue",
           "cornflowerblue",
           "cornflowerblue",
           "cornflowerblue",
           "cornflowerblue",
           "cornflowerblue",
           "cornflowerblue",
           "cornflowerblue",
           "cornflowerblue",
           "cornflowerblue",
           "cornflowerblue",
           "cornflowerblue",
           "cornflowerblue",
           "cornflowerblue",
           "cornflowerblue",
           "cornflowerblue"
          ],
          "size": [
           24,
           42.99,
           13.66,
           7,
           5,
           10,
           6,
           61.16,
           18,
           5,
           5,
           5.98,
           7.5,
           12.83,
           16.32,
           8.31,
           5,
           8,
           10.83,
           7.91,
           7.83,
           5,
           10,
           7,
           8,
           5,
           5,
           12,
           8,
           6.5,
           5.33,
           5.32,
           9.65,
           7.83,
           7.06,
           8,
           12.58,
           9.66,
           15,
           7.16,
           8.49,
           11.31,
           5.12,
           11.83,
           5,
           5,
           7.01,
           19.9
          ]
         },
         "mode": "markers+text",
         "text": [
          "<b>Vuong Quan Hoang</b>",
          "<b>Nguyen Viet Cuong</b>",
          "<b>Giang Thanh Long</b>",
          "<b>Pham Quang Minh</b>",
          "<b>Tran Thi Tuyet</b>",
          "<b>Nguyen Van Thang</b>",
          "<b>Vo Tri Thanh</b>",
          "<b>Luu Trong Tuan</b>",
          "<b>Vo Xuan Vinh</b>",
          "<b>Pham Thi Thu Tra</b>",
          "<b>Vu Hoang Linh</b>",
          "<b>Tran Ngoc Anh</b>",
          "<b>Do Quy Toan</b>",
          "<b>Vu Minh Khuong</b>",
          "<b>Tran Quang Tuyen</b>",
          "<b>Vu Van Huong</b>",
          "<b>Tran Van Kham</b>",
          "<b>Nguyen Thi Minh Trang</b>",
          "<b>Nguyen Dinh Tho</b>",
          "<b>Doan Thanh Tinh</b>",
          "<b>Tran Huu Tuan</b>",
          "<b>Cao Dinh Kien</b>",
          "<b>Le Thai Ha</b>",
          "<b>Le Hong Hiep</b>",
          "<b>Nguyen Tien Thong</b>",
          "<b>Ha Minh Tuan</b>",
          "<b>Nguyen Thi Quynh Trang</b>",
          "<b>Nguyen Thi Thuy Minh</b>",
          "<b>Bui Thi Hong Minh</b>",
          "<b>Le Trinh Hai</b>",
          "<b>Pham Si Cong</b>",
          "<b>Nguyen Le Mai</b>",
          "<b>Nguyen Quynh Trang</b>",
          "<b>Vu Song Ha</b>",
          "<b>Hoang Tu Anh</b>",
          "<b>Nguyen Thi Hanh</b>",
          "<b>Hoang Lan Anh</b>",
          "<b>Nguyen Ngoc Huong</b>",
          "<b>Tran Thi Ly</b>",
          "<b>Nguyen Thanh Xuan</b>",
          "<b>Nguyen Dang Lam</b>",
          "<b>Nguyen Cao Nam</b>",
          "<b>Tran Van Giai Phong</b>",
          "<b>Le QuangThanh</b>",
          "<b>Nguyen Van Long</b>",
          "<b>Trinh Thi Thu</b>",
          "<b>Tran Tuan</b>",
          "<b>Tran Duc Thach</b>"
         ],
         "textfont": {
          "size": 10
         },
         "textposition": "top center",
         "type": "scatter",
         "x": [
          0.531982598582326,
          0.13277591070740782,
          0.09358262279233447,
          -0.538438580256572,
          -0.5565969845910047,
          -0.648899173744876,
          -0.9356760881101872,
          0.989181447271499,
          -0.8415338577341944,
          -0.11893879398580127,
          0.19681546181270188,
          0.16955465373878836,
          0.15418907207405225,
          -0.6009937571234946,
          0.048051720042614855,
          0.06565005477641646,
          -0.07565035986173309,
          -0.14785339580150506,
          -0.17808010394912152,
          0.03216688362857749,
          -0.9716106278631517,
          -0.5689645730995951,
          0.22439838880834326,
          0.6382919628847912,
          0.7777546141387129,
          -0.050379827137069885,
          -0.8808003312654596,
          0.26397686672546694,
          -0.32089909210081946,
          -0.9184519640899395,
          0.747692284599661,
          0.9403459003220956,
          -0.32295689285136414,
          0.8194662629621774,
          0.8442323770542128,
          0.20119073978182364,
          -0.8411512904339828,
          0.9358353999267113,
          -0.9441464468939594,
          0.6938318777327656,
          0.7532036463487616,
          -0.023725897591409608,
          -0.6415036821470423,
          -0.6926352247127913,
          0.335584646931366,
          0.8351559974740249,
          0.20315744013378606,
          0.19181811409365399
         ],
         "y": [
          -0.8289865416574861,
          0.21656652498702988,
          0.22801161599486147,
          0.877983338334577,
          -0.8348598431263903,
          0.4573759771290502,
          0.36185347047174127,
          0.0624306395453586,
          -0.5622431395901968,
          -0.8230511421456619,
          0.2714823080880941,
          0.2053196145114138,
          -0.9672503160228016,
          -0.6868510997996264,
          0.2053098123430924,
          0.18507162138872146,
          -0.9855471328533414,
          -0.19486048533077086,
          -0.19886959729239512,
          0.16733809172345568,
          0.010547758648096503,
          0.6947482326370723,
          0.9108316071295408,
          -0.6906715294501048,
          0.7995849778066451,
          0.30093018473019084,
          -0.368701578754512,
          0.9171346241244525,
          1,
          0.1796727794532425,
          -0.5201159180650338,
          -0.17500597965551493,
          -0.8881363152252592,
          0.12250249303105845,
          0.14530983131201114,
          0.9370434200129043,
          0.6555586595687782,
          0.38600779585728207,
          -0.17997714551407243,
          -0.4836351997956052,
          0.594491881982061,
          0.27358326029219165,
          -0.4630797209578981,
          0.43759120623139425,
          -0.8855638511154238,
          -0.30337518872407065,
          -0.2710888227247652,
          -0.29241117953338797
         ]
        }
       ],
       "layout": {
        "hovermode": "closest",
        "margin": {
         "b": 20,
         "l": 5,
         "r": 5,
         "t": 40
        },
        "paper_bgcolor": "rgba(0,0,0,0)",
        "plot_bgcolor": "rgba(0,0,0,0)",
        "showlegend": false,
        "template": {
         "data": {
          "bar": [
           {
            "error_x": {
             "color": "#2a3f5f"
            },
            "error_y": {
             "color": "#2a3f5f"
            },
            "marker": {
             "line": {
              "color": "#E5ECF6",
              "width": 0.5
             }
            },
            "type": "bar"
           }
          ],
          "barpolar": [
           {
            "marker": {
             "line": {
              "color": "#E5ECF6",
              "width": 0.5
             }
            },
            "type": "barpolar"
           }
          ],
          "carpet": [
           {
            "aaxis": {
             "endlinecolor": "#2a3f5f",
             "gridcolor": "white",
             "linecolor": "white",
             "minorgridcolor": "white",
             "startlinecolor": "#2a3f5f"
            },
            "baxis": {
             "endlinecolor": "#2a3f5f",
             "gridcolor": "white",
             "linecolor": "white",
             "minorgridcolor": "white",
             "startlinecolor": "#2a3f5f"
            },
            "type": "carpet"
           }
          ],
          "choropleth": [
           {
            "colorbar": {
             "outlinewidth": 0,
             "ticks": ""
            },
            "type": "choropleth"
           }
          ],
          "contour": [
           {
            "colorbar": {
             "outlinewidth": 0,
             "ticks": ""
            },
            "colorscale": [
             [
              0,
              "#0d0887"
             ],
             [
              0.1111111111111111,
              "#46039f"
             ],
             [
              0.2222222222222222,
              "#7201a8"
             ],
             [
              0.3333333333333333,
              "#9c179e"
             ],
             [
              0.4444444444444444,
              "#bd3786"
             ],
             [
              0.5555555555555556,
              "#d8576b"
             ],
             [
              0.6666666666666666,
              "#ed7953"
             ],
             [
              0.7777777777777778,
              "#fb9f3a"
             ],
             [
              0.8888888888888888,
              "#fdca26"
             ],
             [
              1,
              "#f0f921"
             ]
            ],
            "type": "contour"
           }
          ],
          "contourcarpet": [
           {
            "colorbar": {
             "outlinewidth": 0,
             "ticks": ""
            },
            "type": "contourcarpet"
           }
          ],
          "heatmap": [
           {
            "colorbar": {
             "outlinewidth": 0,
             "ticks": ""
            },
            "colorscale": [
             [
              0,
              "#0d0887"
             ],
             [
              0.1111111111111111,
              "#46039f"
             ],
             [
              0.2222222222222222,
              "#7201a8"
             ],
             [
              0.3333333333333333,
              "#9c179e"
             ],
             [
              0.4444444444444444,
              "#bd3786"
             ],
             [
              0.5555555555555556,
              "#d8576b"
             ],
             [
              0.6666666666666666,
              "#ed7953"
             ],
             [
              0.7777777777777778,
              "#fb9f3a"
             ],
             [
              0.8888888888888888,
              "#fdca26"
             ],
             [
              1,
              "#f0f921"
             ]
            ],
            "type": "heatmap"
           }
          ],
          "heatmapgl": [
           {
            "colorbar": {
             "outlinewidth": 0,
             "ticks": ""
            },
            "colorscale": [
             [
              0,
              "#0d0887"
             ],
             [
              0.1111111111111111,
              "#46039f"
             ],
             [
              0.2222222222222222,
              "#7201a8"
             ],
             [
              0.3333333333333333,
              "#9c179e"
             ],
             [
              0.4444444444444444,
              "#bd3786"
             ],
             [
              0.5555555555555556,
              "#d8576b"
             ],
             [
              0.6666666666666666,
              "#ed7953"
             ],
             [
              0.7777777777777778,
              "#fb9f3a"
             ],
             [
              0.8888888888888888,
              "#fdca26"
             ],
             [
              1,
              "#f0f921"
             ]
            ],
            "type": "heatmapgl"
           }
          ],
          "histogram": [
           {
            "marker": {
             "colorbar": {
              "outlinewidth": 0,
              "ticks": ""
             }
            },
            "type": "histogram"
           }
          ],
          "histogram2d": [
           {
            "colorbar": {
             "outlinewidth": 0,
             "ticks": ""
            },
            "colorscale": [
             [
              0,
              "#0d0887"
             ],
             [
              0.1111111111111111,
              "#46039f"
             ],
             [
              0.2222222222222222,
              "#7201a8"
             ],
             [
              0.3333333333333333,
              "#9c179e"
             ],
             [
              0.4444444444444444,
              "#bd3786"
             ],
             [
              0.5555555555555556,
              "#d8576b"
             ],
             [
              0.6666666666666666,
              "#ed7953"
             ],
             [
              0.7777777777777778,
              "#fb9f3a"
             ],
             [
              0.8888888888888888,
              "#fdca26"
             ],
             [
              1,
              "#f0f921"
             ]
            ],
            "type": "histogram2d"
           }
          ],
          "histogram2dcontour": [
           {
            "colorbar": {
             "outlinewidth": 0,
             "ticks": ""
            },
            "colorscale": [
             [
              0,
              "#0d0887"
             ],
             [
              0.1111111111111111,
              "#46039f"
             ],
             [
              0.2222222222222222,
              "#7201a8"
             ],
             [
              0.3333333333333333,
              "#9c179e"
             ],
             [
              0.4444444444444444,
              "#bd3786"
             ],
             [
              0.5555555555555556,
              "#d8576b"
             ],
             [
              0.6666666666666666,
              "#ed7953"
             ],
             [
              0.7777777777777778,
              "#fb9f3a"
             ],
             [
              0.8888888888888888,
              "#fdca26"
             ],
             [
              1,
              "#f0f921"
             ]
            ],
            "type": "histogram2dcontour"
           }
          ],
          "mesh3d": [
           {
            "colorbar": {
             "outlinewidth": 0,
             "ticks": ""
            },
            "type": "mesh3d"
           }
          ],
          "parcoords": [
           {
            "line": {
             "colorbar": {
              "outlinewidth": 0,
              "ticks": ""
             }
            },
            "type": "parcoords"
           }
          ],
          "pie": [
           {
            "automargin": true,
            "type": "pie"
           }
          ],
          "scatter": [
           {
            "marker": {
             "colorbar": {
              "outlinewidth": 0,
              "ticks": ""
             }
            },
            "type": "scatter"
           }
          ],
          "scatter3d": [
           {
            "line": {
             "colorbar": {
              "outlinewidth": 0,
              "ticks": ""
             }
            },
            "marker": {
             "colorbar": {
              "outlinewidth": 0,
              "ticks": ""
             }
            },
            "type": "scatter3d"
           }
          ],
          "scattercarpet": [
           {
            "marker": {
             "colorbar": {
              "outlinewidth": 0,
              "ticks": ""
             }
            },
            "type": "scattercarpet"
           }
          ],
          "scattergeo": [
           {
            "marker": {
             "colorbar": {
              "outlinewidth": 0,
              "ticks": ""
             }
            },
            "type": "scattergeo"
           }
          ],
          "scattergl": [
           {
            "marker": {
             "colorbar": {
              "outlinewidth": 0,
              "ticks": ""
             }
            },
            "type": "scattergl"
           }
          ],
          "scattermapbox": [
           {
            "marker": {
             "colorbar": {
              "outlinewidth": 0,
              "ticks": ""
             }
            },
            "type": "scattermapbox"
           }
          ],
          "scatterpolar": [
           {
            "marker": {
             "colorbar": {
              "outlinewidth": 0,
              "ticks": ""
             }
            },
            "type": "scatterpolar"
           }
          ],
          "scatterpolargl": [
           {
            "marker": {
             "colorbar": {
              "outlinewidth": 0,
              "ticks": ""
             }
            },
            "type": "scatterpolargl"
           }
          ],
          "scatterternary": [
           {
            "marker": {
             "colorbar": {
              "outlinewidth": 0,
              "ticks": ""
             }
            },
            "type": "scatterternary"
           }
          ],
          "surface": [
           {
            "colorbar": {
             "outlinewidth": 0,
             "ticks": ""
            },
            "colorscale": [
             [
              0,
              "#0d0887"
             ],
             [
              0.1111111111111111,
              "#46039f"
             ],
             [
              0.2222222222222222,
              "#7201a8"
             ],
             [
              0.3333333333333333,
              "#9c179e"
             ],
             [
              0.4444444444444444,
              "#bd3786"
             ],
             [
              0.5555555555555556,
              "#d8576b"
             ],
             [
              0.6666666666666666,
              "#ed7953"
             ],
             [
              0.7777777777777778,
              "#fb9f3a"
             ],
             [
              0.8888888888888888,
              "#fdca26"
             ],
             [
              1,
              "#f0f921"
             ]
            ],
            "type": "surface"
           }
          ],
          "table": [
           {
            "cells": {
             "fill": {
              "color": "#EBF0F8"
             },
             "line": {
              "color": "white"
             }
            },
            "header": {
             "fill": {
              "color": "#C8D4E3"
             },
             "line": {
              "color": "white"
             }
            },
            "type": "table"
           }
          ]
         },
         "layout": {
          "annotationdefaults": {
           "arrowcolor": "#2a3f5f",
           "arrowhead": 0,
           "arrowwidth": 1
          },
          "coloraxis": {
           "colorbar": {
            "outlinewidth": 0,
            "ticks": ""
           }
          },
          "colorscale": {
           "diverging": [
            [
             0,
             "#8e0152"
            ],
            [
             0.1,
             "#c51b7d"
            ],
            [
             0.2,
             "#de77ae"
            ],
            [
             0.3,
             "#f1b6da"
            ],
            [
             0.4,
             "#fde0ef"
            ],
            [
             0.5,
             "#f7f7f7"
            ],
            [
             0.6,
             "#e6f5d0"
            ],
            [
             0.7,
             "#b8e186"
            ],
            [
             0.8,
             "#7fbc41"
            ],
            [
             0.9,
             "#4d9221"
            ],
            [
             1,
             "#276419"
            ]
           ],
           "sequential": [
            [
             0,
             "#0d0887"
            ],
            [
             0.1111111111111111,
             "#46039f"
            ],
            [
             0.2222222222222222,
             "#7201a8"
            ],
            [
             0.3333333333333333,
             "#9c179e"
            ],
            [
             0.4444444444444444,
             "#bd3786"
            ],
            [
             0.5555555555555556,
             "#d8576b"
            ],
            [
             0.6666666666666666,
             "#ed7953"
            ],
            [
             0.7777777777777778,
             "#fb9f3a"
            ],
            [
             0.8888888888888888,
             "#fdca26"
            ],
            [
             1,
             "#f0f921"
            ]
           ],
           "sequentialminus": [
            [
             0,
             "#0d0887"
            ],
            [
             0.1111111111111111,
             "#46039f"
            ],
            [
             0.2222222222222222,
             "#7201a8"
            ],
            [
             0.3333333333333333,
             "#9c179e"
            ],
            [
             0.4444444444444444,
             "#bd3786"
            ],
            [
             0.5555555555555556,
             "#d8576b"
            ],
            [
             0.6666666666666666,
             "#ed7953"
            ],
            [
             0.7777777777777778,
             "#fb9f3a"
            ],
            [
             0.8888888888888888,
             "#fdca26"
            ],
            [
             1,
             "#f0f921"
            ]
           ]
          },
          "colorway": [
           "#636efa",
           "#EF553B",
           "#00cc96",
           "#ab63fa",
           "#FFA15A",
           "#19d3f3",
           "#FF6692",
           "#B6E880",
           "#FF97FF",
           "#FECB52"
          ],
          "font": {
           "color": "#2a3f5f"
          },
          "geo": {
           "bgcolor": "white",
           "lakecolor": "white",
           "landcolor": "#E5ECF6",
           "showlakes": true,
           "showland": true,
           "subunitcolor": "white"
          },
          "hoverlabel": {
           "align": "left"
          },
          "hovermode": "closest",
          "mapbox": {
           "style": "light"
          },
          "paper_bgcolor": "white",
          "plot_bgcolor": "#E5ECF6",
          "polar": {
           "angularaxis": {
            "gridcolor": "white",
            "linecolor": "white",
            "ticks": ""
           },
           "bgcolor": "#E5ECF6",
           "radialaxis": {
            "gridcolor": "white",
            "linecolor": "white",
            "ticks": ""
           }
          },
          "scene": {
           "xaxis": {
            "backgroundcolor": "#E5ECF6",
            "gridcolor": "white",
            "gridwidth": 2,
            "linecolor": "white",
            "showbackground": true,
            "ticks": "",
            "zerolinecolor": "white"
           },
           "yaxis": {
            "backgroundcolor": "#E5ECF6",
            "gridcolor": "white",
            "gridwidth": 2,
            "linecolor": "white",
            "showbackground": true,
            "ticks": "",
            "zerolinecolor": "white"
           },
           "zaxis": {
            "backgroundcolor": "#E5ECF6",
            "gridcolor": "white",
            "gridwidth": 2,
            "linecolor": "white",
            "showbackground": true,
            "ticks": "",
            "zerolinecolor": "white"
           }
          },
          "shapedefaults": {
           "line": {
            "color": "#2a3f5f"
           }
          },
          "ternary": {
           "aaxis": {
            "gridcolor": "white",
            "linecolor": "white",
            "ticks": ""
           },
           "baxis": {
            "gridcolor": "white",
            "linecolor": "white",
            "ticks": ""
           },
           "bgcolor": "#E5ECF6",
           "caxis": {
            "gridcolor": "white",
            "linecolor": "white",
            "ticks": ""
           }
          },
          "title": {
           "x": 0.05
          },
          "xaxis": {
           "automargin": true,
           "gridcolor": "white",
           "linecolor": "white",
           "ticks": "",
           "title": {
            "standoff": 15
           },
           "zerolinecolor": "white",
           "zerolinewidth": 2
          },
          "yaxis": {
           "automargin": true,
           "gridcolor": "white",
           "linecolor": "white",
           "ticks": "",
           "title": {
            "standoff": 15
           },
           "zerolinecolor": "white",
           "zerolinewidth": 2
          }
         }
        },
        "title": {
         "font": {
          "size": 16
         },
         "text": "Mạng các trích dẫn"
        },
        "xaxis": {
         "showgrid": false,
         "showticklabels": false,
         "zeroline": false
        },
        "yaxis": {
         "showgrid": false,
         "showticklabels": false,
         "zeroline": false
        }
       }
      },
      "text/html": [
       "<div>\n",
       "        \n",
       "        \n",
       "            <div id=\"e553fa40-3fb5-499e-9cff-17f0cca68f7d\" class=\"plotly-graph-div\" style=\"height:525px; width:100%;\"></div>\n",
       "            <script type=\"text/javascript\">\n",
       "                require([\"plotly\"], function(Plotly) {\n",
       "                    window.PLOTLYENV=window.PLOTLYENV || {};\n",
       "                    \n",
       "                if (document.getElementById(\"e553fa40-3fb5-499e-9cff-17f0cca68f7d\")) {\n",
       "                    Plotly.newPlot(\n",
       "                        'e553fa40-3fb5-499e-9cff-17f0cca68f7d',\n",
       "                        [{\"hoverinfo\": \"text\", \"line\": {\"color\": \"cornflowerblue\", \"width\": 5}, \"mode\": \"lines\", \"text\": [\"Nguyen Viet Cuong--Tran Ngoc Anh: 5\"], \"type\": \"scatter\", \"x\": [0.13277591070740782, 0.16955465373878836, null], \"y\": [0.21656652498702988, 0.2053196145114138, null]}, {\"hoverinfo\": \"text\", \"line\": {\"color\": \"cornflowerblue\", \"width\": 1}, \"mode\": \"lines\", \"text\": [\"Nguyen Viet Cuong--Tran Quang Tuyen: 1\"], \"type\": \"scatter\", \"x\": [0.13277591070740782, 0.048051720042614855, null], \"y\": [0.21656652498702988, 0.2053098123430924, null]}, {\"hoverinfo\": \"text\", \"line\": {\"color\": \"cornflowerblue\", \"width\": 1}, \"mode\": \"lines\", \"text\": [\"Nguyen Viet Cuong--Vu Van Huong: 1\"], \"type\": \"scatter\", \"x\": [0.13277591070740782, 0.06565005477641646, null], \"y\": [0.21656652498702988, 0.18507162138872146, null]}, {\"hoverinfo\": \"text\", \"line\": {\"color\": \"cornflowerblue\", \"width\": 1}, \"mode\": \"lines\", \"text\": [\"Nguyen Viet Cuong--Vu Hoang Linh: 1\"], \"type\": \"scatter\", \"x\": [0.13277591070740782, 0.19681546181270188, null], \"y\": [0.21656652498702988, 0.2714823080880941, null]}, {\"hoverinfo\": \"text\", \"line\": {\"color\": \"cornflowerblue\", \"width\": 2}, \"mode\": \"lines\", \"text\": [\"Nguyen Viet Cuong--Giang Thanh Long: 2\"], \"type\": \"scatter\", \"x\": [0.13277591070740782, 0.09358262279233447, null], \"y\": [0.21656652498702988, 0.22801161599486147, null]}, {\"hoverinfo\": \"text\", \"line\": {\"color\": \"cornflowerblue\", \"width\": 1}, \"mode\": \"lines\", \"text\": [\"Giang Thanh Long--Tran Quang Tuyen: 1\"], \"type\": \"scatter\", \"x\": [0.09358262279233447, 0.048051720042614855, null], \"y\": [0.22801161599486147, 0.2053098123430924, null]}, {\"hoverinfo\": \"text\", \"line\": {\"color\": \"cornflowerblue\", \"width\": 1}, \"mode\": \"lines\", \"text\": [\"Giang Thanh Long--Vu Van Huong: 1\"], \"type\": \"scatter\", \"x\": [0.09358262279233447, 0.06565005477641646, null], \"y\": [0.22801161599486147, 0.18507162138872146, null]}, {\"hoverinfo\": \"text\", \"line\": {\"color\": \"cornflowerblue\", \"width\": 1}, \"mode\": \"lines\", \"text\": [\"Nguyen Van Thang--Le QuangThanh: 1\"], \"type\": \"scatter\", \"x\": [-0.648899173744876, -0.6926352247127913, null], \"y\": [0.4573759771290502, 0.43759120623139425, null]}, {\"hoverinfo\": \"text\", \"line\": {\"color\": \"cornflowerblue\", \"width\": 10}, \"mode\": \"lines\", \"text\": [\"Tran Quang Tuyen--Vu Van Huong: 10\"], \"type\": \"scatter\", \"x\": [0.048051720042614855, 0.06565005477641646, null], \"y\": [0.2053098123430924, 0.18507162138872146, null]}, {\"hoverinfo\": \"text\", \"line\": {\"color\": \"cornflowerblue\", \"width\": 3}, \"mode\": \"lines\", \"text\": [\"Tran Quang Tuyen--Doan Thanh Tinh: 3\"], \"type\": \"scatter\", \"x\": [0.048051720042614855, 0.03216688362857749, null], \"y\": [0.2053098123430924, 0.16733809172345568, null]}, {\"hoverinfo\": \"text\", \"line\": {\"color\": \"cornflowerblue\", \"width\": 1}, \"mode\": \"lines\", \"text\": [\"Tran Quang Tuyen--Nguyen Cao Nam: 1\"], \"type\": \"scatter\", \"x\": [0.048051720042614855, -0.023725897591409608, null], \"y\": [0.2053098123430924, 0.27358326029219165, null]}, {\"hoverinfo\": \"text\", \"line\": {\"color\": \"cornflowerblue\", \"width\": 3}, \"mode\": \"lines\", \"text\": [\"Vu Van Huong--Doan Thanh Tinh: 3\"], \"type\": \"scatter\", \"x\": [0.06565005477641646, 0.03216688362857749, null], \"y\": [0.18507162138872146, 0.16733809172345568, null]}, {\"hoverinfo\": \"text\", \"line\": {\"color\": \"cornflowerblue\", \"width\": 4}, \"mode\": \"lines\", \"text\": [\"Nguyen Thi Minh Trang--Nguyen Dinh Tho: 4\"], \"type\": \"scatter\", \"x\": [-0.14785339580150506, -0.17808010394912152, null], \"y\": [-0.19486048533077086, -0.19886959729239512, null]}, {\"hoverinfo\": \"text\", \"line\": {\"color\": \"cornflowerblue\", \"width\": 5}, \"mode\": \"lines\", \"text\": [\"Ha Minh Tuan--Nguyen Cao Nam: 5\"], \"type\": \"scatter\", \"x\": [-0.050379827137069885, -0.023725897591409608, null], \"y\": [0.30093018473019084, 0.27358326029219165, null]}, {\"hoverinfo\": \"text\", \"line\": {\"color\": \"cornflowerblue\", \"width\": 1}, \"mode\": \"lines\", \"text\": [\"Nguyen Thi Thuy Minh--Nguyen Thi Hanh: 1\"], \"type\": \"scatter\", \"x\": [0.26397686672546694, 0.20119073978182364, null], \"y\": [0.9171346241244525, 0.9370434200129043, null]}, {\"hoverinfo\": \"text\", \"line\": {\"color\": \"cornflowerblue\", \"width\": 1}, \"mode\": \"lines\", \"text\": [\"Pham Si Cong--Nguyen Thanh Xuan: 1\"], \"type\": \"scatter\", \"x\": [0.747692284599661, 0.6938318777327656, null], \"y\": [-0.5201159180650338, -0.4836351997956052, null]}, {\"hoverinfo\": \"text\", \"line\": {\"color\": \"cornflowerblue\", \"width\": 3}, \"mode\": \"lines\", \"text\": [\"Vu Song Ha--Hoang Tu Anh: 3\"], \"type\": \"scatter\", \"x\": [0.8194662629621774, 0.8442323770542128, null], \"y\": [0.12250249303105845, 0.14530983131201114, null]}, {\"hoverinfo\": \"text\", \"line\": {\"color\": \"cornflowerblue\", \"width\": 8}, \"mode\": \"lines\", \"text\": [\"Tran Tuan--Tran Duc Thach: 8\"], \"type\": \"scatter\", \"x\": [0.20315744013378606, 0.19181811409365399, null], \"y\": [-0.2710888227247652, -0.29241117953338797, null]}, {\"hoverinfo\": \"text\", \"marker\": {\"color\": [\"cornflowerblue\", \"cornflowerblue\", \"cornflowerblue\", \"cornflowerblue\", \"cornflowerblue\", \"cornflowerblue\", \"cornflowerblue\", \"cornflowerblue\", \"cornflowerblue\", \"cornflowerblue\", \"cornflowerblue\", \"cornflowerblue\", \"cornflowerblue\", \"cornflowerblue\", \"cornflowerblue\", \"cornflowerblue\", \"cornflowerblue\", \"cornflowerblue\", \"cornflowerblue\", \"cornflowerblue\", \"cornflowerblue\", \"cornflowerblue\", \"cornflowerblue\", \"cornflowerblue\", \"cornflowerblue\", \"cornflowerblue\", \"cornflowerblue\", \"cornflowerblue\", \"cornflowerblue\", \"cornflowerblue\", \"cornflowerblue\", \"cornflowerblue\", \"cornflowerblue\", \"cornflowerblue\", \"cornflowerblue\", \"cornflowerblue\", \"cornflowerblue\", \"cornflowerblue\", \"cornflowerblue\", \"cornflowerblue\", \"cornflowerblue\", \"cornflowerblue\", \"cornflowerblue\", \"cornflowerblue\", \"cornflowerblue\", \"cornflowerblue\", \"cornflowerblue\", \"cornflowerblue\"], \"size\": [24.0, 42.99, 13.66, 7.0, 5.0, 10.0, 6.0, 61.16, 18.0, 5.0, 5.0, 5.98, 7.5, 12.83, 16.32, 8.31, 5.0, 8.0, 10.83, 7.91, 7.83, 5.0, 10.0, 7.0, 8.0, 5.0, 5.0, 12.0, 8.0, 6.5, 5.33, 5.32, 9.65, 7.83, 7.06, 8.0, 12.58, 9.66, 15.0, 7.16, 8.49, 11.31, 5.12, 11.83, 5.0, 5.0, 7.01, 19.9]}, \"mode\": \"markers+text\", \"text\": [\"<b>Vuong Quan Hoang</b>\", \"<b>Nguyen Viet Cuong</b>\", \"<b>Giang Thanh Long</b>\", \"<b>Pham Quang Minh</b>\", \"<b>Tran Thi Tuyet</b>\", \"<b>Nguyen Van Thang</b>\", \"<b>Vo Tri Thanh</b>\", \"<b>Luu Trong Tuan</b>\", \"<b>Vo Xuan Vinh</b>\", \"<b>Pham Thi Thu Tra</b>\", \"<b>Vu Hoang Linh</b>\", \"<b>Tran Ngoc Anh</b>\", \"<b>Do Quy Toan</b>\", \"<b>Vu Minh Khuong</b>\", \"<b>Tran Quang Tuyen</b>\", \"<b>Vu Van Huong</b>\", \"<b>Tran Van Kham</b>\", \"<b>Nguyen Thi Minh Trang</b>\", \"<b>Nguyen Dinh Tho</b>\", \"<b>Doan Thanh Tinh</b>\", \"<b>Tran Huu Tuan</b>\", \"<b>Cao Dinh Kien</b>\", \"<b>Le Thai Ha</b>\", \"<b>Le Hong Hiep</b>\", \"<b>Nguyen Tien Thong</b>\", \"<b>Ha Minh Tuan</b>\", \"<b>Nguyen Thi Quynh Trang</b>\", \"<b>Nguyen Thi Thuy Minh</b>\", \"<b>Bui Thi Hong Minh</b>\", \"<b>Le Trinh Hai</b>\", \"<b>Pham Si Cong</b>\", \"<b>Nguyen Le Mai</b>\", \"<b>Nguyen Quynh Trang</b>\", \"<b>Vu Song Ha</b>\", \"<b>Hoang Tu Anh</b>\", \"<b>Nguyen Thi Hanh</b>\", \"<b>Hoang Lan Anh</b>\", \"<b>Nguyen Ngoc Huong</b>\", \"<b>Tran Thi Ly</b>\", \"<b>Nguyen Thanh Xuan</b>\", \"<b>Nguyen Dang Lam</b>\", \"<b>Nguyen Cao Nam</b>\", \"<b>Tran Van Giai Phong</b>\", \"<b>Le QuangThanh</b>\", \"<b>Nguyen Van Long</b>\", \"<b>Trinh Thi Thu</b>\", \"<b>Tran Tuan</b>\", \"<b>Tran Duc Thach</b>\"], \"textfont\": {\"size\": 10}, \"textposition\": \"top center\", \"type\": \"scatter\", \"x\": [0.531982598582326, 0.13277591070740782, 0.09358262279233447, -0.538438580256572, -0.5565969845910047, -0.648899173744876, -0.9356760881101872, 0.989181447271499, -0.8415338577341944, -0.11893879398580127, 0.19681546181270188, 0.16955465373878836, 0.15418907207405225, -0.6009937571234946, 0.048051720042614855, 0.06565005477641646, -0.07565035986173309, -0.14785339580150506, -0.17808010394912152, 0.03216688362857749, -0.9716106278631517, -0.5689645730995951, 0.22439838880834326, 0.6382919628847912, 0.7777546141387129, -0.050379827137069885, -0.8808003312654596, 0.26397686672546694, -0.32089909210081946, -0.9184519640899395, 0.747692284599661, 0.9403459003220956, -0.32295689285136414, 0.8194662629621774, 0.8442323770542128, 0.20119073978182364, -0.8411512904339828, 0.9358353999267113, -0.9441464468939594, 0.6938318777327656, 0.7532036463487616, -0.023725897591409608, -0.6415036821470423, -0.6926352247127913, 0.335584646931366, 0.8351559974740249, 0.20315744013378606, 0.19181811409365399], \"y\": [-0.8289865416574861, 0.21656652498702988, 0.22801161599486147, 0.877983338334577, -0.8348598431263903, 0.4573759771290502, 0.36185347047174127, 0.0624306395453586, -0.5622431395901968, -0.8230511421456619, 0.2714823080880941, 0.2053196145114138, -0.9672503160228016, -0.6868510997996264, 0.2053098123430924, 0.18507162138872146, -0.9855471328533414, -0.19486048533077086, -0.19886959729239512, 0.16733809172345568, 0.010547758648096503, 0.6947482326370723, 0.9108316071295408, -0.6906715294501048, 0.7995849778066451, 0.30093018473019084, -0.368701578754512, 0.9171346241244525, 1.0, 0.1796727794532425, -0.5201159180650338, -0.17500597965551493, -0.8881363152252592, 0.12250249303105845, 0.14530983131201114, 0.9370434200129043, 0.6555586595687782, 0.38600779585728207, -0.17997714551407243, -0.4836351997956052, 0.594491881982061, 0.27358326029219165, -0.4630797209578981, 0.43759120623139425, -0.8855638511154238, -0.30337518872407065, -0.2710888227247652, -0.29241117953338797]}],\n",
       "                        {\"hovermode\": \"closest\", \"margin\": {\"b\": 20, \"l\": 5, \"r\": 5, \"t\": 40}, \"paper_bgcolor\": \"rgba(0,0,0,0)\", \"plot_bgcolor\": \"rgba(0,0,0,0)\", \"showlegend\": false, \"template\": {\"data\": {\"bar\": [{\"error_x\": {\"color\": \"#2a3f5f\"}, \"error_y\": {\"color\": \"#2a3f5f\"}, \"marker\": {\"line\": {\"color\": \"#E5ECF6\", \"width\": 0.5}}, \"type\": \"bar\"}], \"barpolar\": [{\"marker\": {\"line\": {\"color\": \"#E5ECF6\", \"width\": 0.5}}, \"type\": \"barpolar\"}], \"carpet\": [{\"aaxis\": {\"endlinecolor\": \"#2a3f5f\", \"gridcolor\": \"white\", \"linecolor\": \"white\", \"minorgridcolor\": \"white\", \"startlinecolor\": \"#2a3f5f\"}, \"baxis\": {\"endlinecolor\": \"#2a3f5f\", \"gridcolor\": \"white\", \"linecolor\": \"white\", \"minorgridcolor\": \"white\", \"startlinecolor\": \"#2a3f5f\"}, \"type\": \"carpet\"}], \"choropleth\": [{\"colorbar\": {\"outlinewidth\": 0, \"ticks\": \"\"}, \"type\": \"choropleth\"}], \"contour\": [{\"colorbar\": {\"outlinewidth\": 0, \"ticks\": \"\"}, \"colorscale\": [[0.0, \"#0d0887\"], [0.1111111111111111, \"#46039f\"], [0.2222222222222222, \"#7201a8\"], [0.3333333333333333, \"#9c179e\"], [0.4444444444444444, \"#bd3786\"], [0.5555555555555556, \"#d8576b\"], [0.6666666666666666, \"#ed7953\"], [0.7777777777777778, \"#fb9f3a\"], [0.8888888888888888, \"#fdca26\"], [1.0, \"#f0f921\"]], \"type\": \"contour\"}], \"contourcarpet\": [{\"colorbar\": {\"outlinewidth\": 0, \"ticks\": \"\"}, \"type\": \"contourcarpet\"}], \"heatmap\": [{\"colorbar\": {\"outlinewidth\": 0, \"ticks\": \"\"}, \"colorscale\": [[0.0, \"#0d0887\"], [0.1111111111111111, \"#46039f\"], [0.2222222222222222, \"#7201a8\"], [0.3333333333333333, \"#9c179e\"], [0.4444444444444444, \"#bd3786\"], [0.5555555555555556, \"#d8576b\"], [0.6666666666666666, \"#ed7953\"], [0.7777777777777778, \"#fb9f3a\"], [0.8888888888888888, \"#fdca26\"], [1.0, \"#f0f921\"]], \"type\": \"heatmap\"}], \"heatmapgl\": [{\"colorbar\": {\"outlinewidth\": 0, \"ticks\": \"\"}, \"colorscale\": [[0.0, \"#0d0887\"], [0.1111111111111111, \"#46039f\"], [0.2222222222222222, \"#7201a8\"], [0.3333333333333333, \"#9c179e\"], [0.4444444444444444, \"#bd3786\"], [0.5555555555555556, \"#d8576b\"], [0.6666666666666666, \"#ed7953\"], [0.7777777777777778, \"#fb9f3a\"], [0.8888888888888888, \"#fdca26\"], [1.0, \"#f0f921\"]], \"type\": \"heatmapgl\"}], \"histogram\": [{\"marker\": {\"colorbar\": {\"outlinewidth\": 0, \"ticks\": \"\"}}, \"type\": \"histogram\"}], \"histogram2d\": [{\"colorbar\": {\"outlinewidth\": 0, \"ticks\": \"\"}, \"colorscale\": [[0.0, \"#0d0887\"], [0.1111111111111111, \"#46039f\"], [0.2222222222222222, \"#7201a8\"], [0.3333333333333333, \"#9c179e\"], [0.4444444444444444, \"#bd3786\"], [0.5555555555555556, \"#d8576b\"], [0.6666666666666666, \"#ed7953\"], [0.7777777777777778, \"#fb9f3a\"], [0.8888888888888888, \"#fdca26\"], [1.0, \"#f0f921\"]], \"type\": \"histogram2d\"}], \"histogram2dcontour\": [{\"colorbar\": {\"outlinewidth\": 0, \"ticks\": \"\"}, \"colorscale\": [[0.0, \"#0d0887\"], [0.1111111111111111, \"#46039f\"], [0.2222222222222222, \"#7201a8\"], [0.3333333333333333, \"#9c179e\"], [0.4444444444444444, \"#bd3786\"], [0.5555555555555556, \"#d8576b\"], [0.6666666666666666, \"#ed7953\"], [0.7777777777777778, \"#fb9f3a\"], [0.8888888888888888, \"#fdca26\"], [1.0, \"#f0f921\"]], \"type\": \"histogram2dcontour\"}], \"mesh3d\": [{\"colorbar\": {\"outlinewidth\": 0, \"ticks\": \"\"}, \"type\": \"mesh3d\"}], \"parcoords\": [{\"line\": {\"colorbar\": {\"outlinewidth\": 0, \"ticks\": \"\"}}, \"type\": \"parcoords\"}], \"pie\": [{\"automargin\": true, \"type\": \"pie\"}], \"scatter\": [{\"marker\": {\"colorbar\": {\"outlinewidth\": 0, \"ticks\": \"\"}}, \"type\": \"scatter\"}], \"scatter3d\": [{\"line\": {\"colorbar\": {\"outlinewidth\": 0, \"ticks\": \"\"}}, \"marker\": {\"colorbar\": {\"outlinewidth\": 0, \"ticks\": \"\"}}, \"type\": \"scatter3d\"}], \"scattercarpet\": [{\"marker\": {\"colorbar\": {\"outlinewidth\": 0, \"ticks\": \"\"}}, \"type\": \"scattercarpet\"}], \"scattergeo\": [{\"marker\": {\"colorbar\": {\"outlinewidth\": 0, \"ticks\": \"\"}}, \"type\": \"scattergeo\"}], \"scattergl\": [{\"marker\": {\"colorbar\": {\"outlinewidth\": 0, \"ticks\": \"\"}}, \"type\": \"scattergl\"}], \"scattermapbox\": [{\"marker\": {\"colorbar\": {\"outlinewidth\": 0, \"ticks\": \"\"}}, \"type\": \"scattermapbox\"}], \"scatterpolar\": [{\"marker\": {\"colorbar\": {\"outlinewidth\": 0, \"ticks\": \"\"}}, \"type\": \"scatterpolar\"}], \"scatterpolargl\": [{\"marker\": {\"colorbar\": {\"outlinewidth\": 0, \"ticks\": \"\"}}, \"type\": \"scatterpolargl\"}], \"scatterternary\": [{\"marker\": {\"colorbar\": {\"outlinewidth\": 0, \"ticks\": \"\"}}, \"type\": \"scatterternary\"}], \"surface\": [{\"colorbar\": {\"outlinewidth\": 0, \"ticks\": \"\"}, \"colorscale\": [[0.0, \"#0d0887\"], [0.1111111111111111, \"#46039f\"], [0.2222222222222222, \"#7201a8\"], [0.3333333333333333, \"#9c179e\"], [0.4444444444444444, \"#bd3786\"], [0.5555555555555556, \"#d8576b\"], [0.6666666666666666, \"#ed7953\"], [0.7777777777777778, \"#fb9f3a\"], [0.8888888888888888, \"#fdca26\"], [1.0, \"#f0f921\"]], \"type\": \"surface\"}], \"table\": [{\"cells\": {\"fill\": {\"color\": \"#EBF0F8\"}, \"line\": {\"color\": \"white\"}}, \"header\": {\"fill\": {\"color\": \"#C8D4E3\"}, \"line\": {\"color\": \"white\"}}, \"type\": \"table\"}]}, \"layout\": {\"annotationdefaults\": {\"arrowcolor\": \"#2a3f5f\", \"arrowhead\": 0, \"arrowwidth\": 1}, \"coloraxis\": {\"colorbar\": {\"outlinewidth\": 0, \"ticks\": \"\"}}, \"colorscale\": {\"diverging\": [[0, \"#8e0152\"], [0.1, \"#c51b7d\"], [0.2, \"#de77ae\"], [0.3, \"#f1b6da\"], [0.4, \"#fde0ef\"], [0.5, \"#f7f7f7\"], [0.6, \"#e6f5d0\"], [0.7, \"#b8e186\"], [0.8, \"#7fbc41\"], [0.9, \"#4d9221\"], [1, \"#276419\"]], \"sequential\": [[0.0, \"#0d0887\"], [0.1111111111111111, \"#46039f\"], [0.2222222222222222, \"#7201a8\"], [0.3333333333333333, \"#9c179e\"], [0.4444444444444444, \"#bd3786\"], [0.5555555555555556, \"#d8576b\"], [0.6666666666666666, \"#ed7953\"], [0.7777777777777778, \"#fb9f3a\"], [0.8888888888888888, \"#fdca26\"], [1.0, \"#f0f921\"]], \"sequentialminus\": [[0.0, \"#0d0887\"], [0.1111111111111111, \"#46039f\"], [0.2222222222222222, \"#7201a8\"], [0.3333333333333333, \"#9c179e\"], [0.4444444444444444, \"#bd3786\"], [0.5555555555555556, \"#d8576b\"], [0.6666666666666666, \"#ed7953\"], [0.7777777777777778, \"#fb9f3a\"], [0.8888888888888888, \"#fdca26\"], [1.0, \"#f0f921\"]]}, \"colorway\": [\"#636efa\", \"#EF553B\", \"#00cc96\", \"#ab63fa\", \"#FFA15A\", \"#19d3f3\", \"#FF6692\", \"#B6E880\", \"#FF97FF\", \"#FECB52\"], \"font\": {\"color\": \"#2a3f5f\"}, \"geo\": {\"bgcolor\": \"white\", \"lakecolor\": \"white\", \"landcolor\": \"#E5ECF6\", \"showlakes\": true, \"showland\": true, \"subunitcolor\": \"white\"}, \"hoverlabel\": {\"align\": \"left\"}, \"hovermode\": \"closest\", \"mapbox\": {\"style\": \"light\"}, \"paper_bgcolor\": \"white\", \"plot_bgcolor\": \"#E5ECF6\", \"polar\": {\"angularaxis\": {\"gridcolor\": \"white\", \"linecolor\": \"white\", \"ticks\": \"\"}, \"bgcolor\": \"#E5ECF6\", \"radialaxis\": {\"gridcolor\": \"white\", \"linecolor\": \"white\", \"ticks\": \"\"}}, \"scene\": {\"xaxis\": {\"backgroundcolor\": \"#E5ECF6\", \"gridcolor\": \"white\", \"gridwidth\": 2, \"linecolor\": \"white\", \"showbackground\": true, \"ticks\": \"\", \"zerolinecolor\": \"white\"}, \"yaxis\": {\"backgroundcolor\": \"#E5ECF6\", \"gridcolor\": \"white\", \"gridwidth\": 2, \"linecolor\": \"white\", \"showbackground\": true, \"ticks\": \"\", \"zerolinecolor\": \"white\"}, \"zaxis\": {\"backgroundcolor\": \"#E5ECF6\", \"gridcolor\": \"white\", \"gridwidth\": 2, \"linecolor\": \"white\", \"showbackground\": true, \"ticks\": \"\", \"zerolinecolor\": \"white\"}}, \"shapedefaults\": {\"line\": {\"color\": \"#2a3f5f\"}}, \"ternary\": {\"aaxis\": {\"gridcolor\": \"white\", \"linecolor\": \"white\", \"ticks\": \"\"}, \"baxis\": {\"gridcolor\": \"white\", \"linecolor\": \"white\", \"ticks\": \"\"}, \"bgcolor\": \"#E5ECF6\", \"caxis\": {\"gridcolor\": \"white\", \"linecolor\": \"white\", \"ticks\": \"\"}}, \"title\": {\"x\": 0.05}, \"xaxis\": {\"automargin\": true, \"gridcolor\": \"white\", \"linecolor\": \"white\", \"ticks\": \"\", \"title\": {\"standoff\": 15}, \"zerolinecolor\": \"white\", \"zerolinewidth\": 2}, \"yaxis\": {\"automargin\": true, \"gridcolor\": \"white\", \"linecolor\": \"white\", \"ticks\": \"\", \"title\": {\"standoff\": 15}, \"zerolinecolor\": \"white\", \"zerolinewidth\": 2}}}, \"title\": {\"font\": {\"size\": 16}, \"text\": \"M\\u1ea1ng c\\u00e1c tr\\u00edch d\\u1eabn\"}, \"xaxis\": {\"showgrid\": false, \"showticklabels\": false, \"zeroline\": false}, \"yaxis\": {\"showgrid\": false, \"showticklabels\": false, \"zeroline\": false}},\n",
       "                        {\"responsive\": true}\n",
       "                    ).then(function(){\n",
       "                            \n",
       "var gd = document.getElementById('e553fa40-3fb5-499e-9cff-17f0cca68f7d');\n",
       "var x = new MutationObserver(function (mutations, observer) {{\n",
       "        var display = window.getComputedStyle(gd).display;\n",
       "        if (!display || display === 'none') {{\n",
       "            console.log([gd, 'removed!']);\n",
       "            Plotly.purge(gd);\n",
       "            observer.disconnect();\n",
       "        }}\n",
       "}});\n",
       "\n",
       "// Listen for the removal of the full notebook cells\n",
       "var notebookContainer = gd.closest('#notebook-container');\n",
       "if (notebookContainer) {{\n",
       "    x.observe(notebookContainer, {childList: true});\n",
       "}}\n",
       "\n",
       "// Listen for the clearing of the current output cell\n",
       "var outputEl = gd.closest('.output');\n",
       "if (outputEl) {{\n",
       "    x.observe(outputEl, {childList: true});\n",
       "}}\n",
       "\n",
       "                        })\n",
       "                };\n",
       "                });\n",
       "            </script>\n",
       "        </div>"
      ]
     },
     "metadata": {},
     "output_type": "display_data"
    }
   ],
   "source": [
    "# Customize layout\n",
    "layout = go.Layout(\n",
    "    title='Mạng các trích dẫn',\n",
    "    titlefont_size=16,\n",
    "    showlegend=False,\n",
    "    hovermode='closest',\n",
    "    margin=dict(b=20,l=5,r=5,t=40),\n",
    "    paper_bgcolor='rgba(0,0,0,0)', # transparent background\n",
    "    plot_bgcolor='rgba(0,0,0,0)', # transparent 2nd background\n",
    "    xaxis =  {'showgrid': False, 'zeroline': False}, # no gridlines\n",
    "    yaxis = {'showgrid': False, 'zeroline': False}, # no gridlines\n",
    ")\n",
    "\n",
    "# Create figure\n",
    "fig = go.Figure(layout = layout)\n",
    "\n",
    "# Add all edge traces\n",
    "for trace in edge_trace:\n",
    "    fig.add_trace(trace)\n",
    "    \n",
    "# Add node trace\n",
    "fig.add_trace(node_trace)\n",
    "\n",
    "# Remove legend\n",
    "fig.update_layout(showlegend = False)\n",
    "\n",
    "# Remove tick labels\n",
    "fig.update_xaxes(showticklabels = False)\n",
    "fig.update_yaxes(showticklabels = False)\n",
    "\n",
    "# Show figure\n",
    "fig.show()"
   ]
  },
  {
   "cell_type": "markdown",
   "metadata": {},
   "source": [
    "Các cạnh của đồ thị phía trên đại diện cho lượt trích dẫn, kích thước của mỗi node trong mạng thể hiện chất lượng đầu ra của bài báo khoa học.\n",
    "\n",
    "Dựa vào đồ thì mạng lưới phía trên, có thể thấy chỉ có một số người có chất lượng đầu ra cao. Rõ ràng nhất là Nguyen Viet Cuong và Luu Trong Tuan. Bên cạnh đó, ta cũng thấy được số lượt trích dẫn liên quan tới nhau cũng chỉ xoay quanh một số node ở trung tâm, những node có trung bình chất lượng đầu ra cao. Nhiều nhà nghiên cứu có chất lượng đầu ra thấp không có nhiều lượt trích dẫn.\n",
    "\n",
    "Kết luận: Chất lượng nghiên cứu đầu ra cao thường có được nhiều uy tín và số lượng trích dẫn cũng cao. Những người có chất lượng nghiên cứu cao thường được lựa chọn để tham khảo, dẫn chứng, cải tiến cho các bài báo khoa học khác."
   ]
  }
 ],
 "metadata": {
  "kernelspec": {
   "display_name": "Python 3",
   "language": "python",
   "name": "python3"
  },
  "language_info": {
   "codemirror_mode": {
    "name": "ipython",
    "version": 3
   },
   "file_extension": ".py",
   "mimetype": "text/x-python",
   "name": "python",
   "nbconvert_exporter": "python",
   "pygments_lexer": "ipython3",
   "version": "3.6.8"
  }
 },
 "nbformat": 4,
 "nbformat_minor": 2
}
